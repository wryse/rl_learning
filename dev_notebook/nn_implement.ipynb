{
 "cells": [
  {
   "cell_type": "code",
   "execution_count": 1,
   "metadata": {
    "collapsed": true
   },
   "outputs": [],
   "source": [
    "import abc"
   ]
  },
  {
   "cell_type": "code",
   "execution_count": 2,
   "metadata": {
    "collapsed": true
   },
   "outputs": [],
   "source": [
    "import numpy as np"
   ]
  },
  {
   "cell_type": "code",
   "execution_count": 3,
   "metadata": {
    "collapsed": false
   },
   "outputs": [
    {
     "data": {
      "text/plain": [
       "{'divide': 'warn', 'invalid': 'warn', 'over': 'warn', 'under': 'ignore'}"
      ]
     },
     "execution_count": 3,
     "metadata": {},
     "output_type": "execute_result"
    }
   ],
   "source": [
    "np.seterr(all='raise', under='warn')"
   ]
  },
  {
   "cell_type": "code",
   "execution_count": 4,
   "metadata": {
    "collapsed": true
   },
   "outputs": [],
   "source": [
    "np.set_printoptions(precision=20)"
   ]
  },
  {
   "cell_type": "markdown",
   "metadata": {},
   "source": [
    "---"
   ]
  },
  {
   "cell_type": "code",
   "execution_count": 5,
   "metadata": {
    "collapsed": false
   },
   "outputs": [],
   "source": [
    "import simple_nn.layers.components.activation as actv\n",
    "import simple_nn.gd_updater as gd_upd"
   ]
  },
  {
   "cell_type": "code",
   "execution_count": 6,
   "metadata": {
    "collapsed": false,
    "scrolled": true
   },
   "outputs": [],
   "source": [
    "from simple_nn.layers.nn_layer import FCLayer\n",
    "from simple_nn.nn_model import NNModel\n",
    "from simple_nn.cost_function import *"
   ]
  },
  {
   "cell_type": "markdown",
   "metadata": {},
   "source": [
    "---"
   ]
  },
  {
   "cell_type": "markdown",
   "metadata": {},
   "source": [
    "batch norm"
   ]
  },
  {
   "cell_type": "code",
   "execution_count": 7,
   "metadata": {
    "collapsed": true
   },
   "outputs": [],
   "source": [
    "#TODO: BatchNorm"
   ]
  },
  {
   "cell_type": "markdown",
   "metadata": {},
   "source": [
    "---"
   ]
  },
  {
   "cell_type": "markdown",
   "metadata": {},
   "source": [
    "test - regression"
   ]
  },
  {
   "cell_type": "code",
   "execution_count": 8,
   "metadata": {
    "collapsed": true
   },
   "outputs": [],
   "source": [
    "import matplotlib.pyplot as plt\n",
    "import sklearn.datasets\n",
    "from sklearn import metrics"
   ]
  },
  {
   "cell_type": "code",
   "execution_count": 9,
   "metadata": {
    "collapsed": true
   },
   "outputs": [],
   "source": [
    "test_data = sklearn.datasets.load_boston(return_X_y=False)"
   ]
  },
  {
   "cell_type": "code",
   "execution_count": 10,
   "metadata": {
    "collapsed": true
   },
   "outputs": [],
   "source": [
    "test_data_x_org = test_data['data']\n",
    "test_data_y_org = test_data['target']"
   ]
  },
  {
   "cell_type": "code",
   "execution_count": 11,
   "metadata": {
    "collapsed": false
   },
   "outputs": [
    {
     "data": {
      "text/plain": [
       "(506, 13)"
      ]
     },
     "execution_count": 11,
     "metadata": {},
     "output_type": "execute_result"
    }
   ],
   "source": [
    "test_data_x_org.shape"
   ]
  },
  {
   "cell_type": "code",
   "execution_count": 12,
   "metadata": {
    "collapsed": true
   },
   "outputs": [],
   "source": [
    "test_data_std = (test_data_x_org - np.mean(test_data_x_org, axis=0)) / np.std(test_data_x_org, axis=0)"
   ]
  },
  {
   "cell_type": "code",
   "execution_count": 13,
   "metadata": {
    "collapsed": true
   },
   "outputs": [],
   "source": [
    "test_data_x = test_data_std[:450]\n",
    "test_data_y = test_data_y_org[:450]"
   ]
  },
  {
   "cell_type": "code",
   "execution_count": 14,
   "metadata": {
    "collapsed": true
   },
   "outputs": [],
   "source": [
    "learning_rate = 0.01"
   ]
  },
  {
   "cell_type": "code",
   "execution_count": 15,
   "metadata": {
    "collapsed": true
   },
   "outputs": [],
   "source": [
    "rounds = 2000"
   ]
  },
  {
   "cell_type": "code",
   "execution_count": 16,
   "metadata": {
    "collapsed": true
   },
   "outputs": [],
   "source": [
    "batch_size = 50"
   ]
  },
  {
   "cell_type": "code",
   "execution_count": 17,
   "metadata": {
    "collapsed": false,
    "scrolled": true
   },
   "outputs": [],
   "source": [
    "m = NNModel(test_data_x.shape[1],\n",
    "            gd_upd.GDUpdaterAdam(),\n",
    "            cost_function=SquaredLoss())"
   ]
  },
  {
   "cell_type": "code",
   "execution_count": 18,
   "metadata": {
    "collapsed": false,
    "scrolled": true
   },
   "outputs": [],
   "source": [
    "# m.add_layer(FCLayer(20, False, ActivationNone()))\n",
    "m.add_layer(FCLayer(node_count=10, activation=actv.ActivationLeakyRelu()))\n",
    "m.add_layer(FCLayer(node_count=1, activation=actv.ActivationLeakyRelu()))"
   ]
  },
  {
   "cell_type": "code",
   "execution_count": 19,
   "metadata": {
    "collapsed": false,
    "scrolled": true
   },
   "outputs": [
    {
     "name": "stdout",
     "output_type": "stream",
     "text": [
      "Wall time: 3.85 s\n"
     ]
    }
   ],
   "source": [
    "%%time\n",
    "all_cost = []\n",
    "for _ in range(rounds):\n",
    "    cost = 0\n",
    "    cost_ce = 0\n",
    "    learning_idx = np.arange(len(test_data_x))\n",
    "    np.random.shuffle(learning_idx)\n",
    "    \n",
    "    for start_idx in range(0, len(test_data_x), batch_size):\n",
    "        data_idx = learning_idx[start_idx : min(start_idx+batch_size,len(test_data_x))]\n",
    "#         data_idx = learning_idx[start_idx]\n",
    "        sample, target = test_data_x[data_idx], test_data_y[data_idx,None]\n",
    "        predict = m.model_forward(sample)\n",
    "        m.update_model(predict, target)\n",
    "        cost += (m.cost_function.loss(predict, target)).sum()\n",
    "    all_cost.append(cost)"
   ]
  },
  {
   "cell_type": "code",
   "execution_count": 20,
   "metadata": {
    "collapsed": false
   },
   "outputs": [
    {
     "data": {
      "text/plain": [
       "1652.5152573395121"
      ]
     },
     "execution_count": 20,
     "metadata": {},
     "output_type": "execute_result"
    }
   ],
   "source": [
    "all_cost[-1]"
   ]
  },
  {
   "cell_type": "code",
   "execution_count": 21,
   "metadata": {
    "collapsed": false,
    "scrolled": false
   },
   "outputs": [
    {
     "data": {
      "text/plain": [
       "[<matplotlib.lines.Line2D at 0x99f53b0>]"
      ]
     },
     "execution_count": 21,
     "metadata": {},
     "output_type": "execute_result"
    }
   ],
   "source": [
    "plt.figure(figsize=(15,6))\n",
    "plt.plot(all_cost)"
   ]
  },
  {
   "cell_type": "code",
   "execution_count": 22,
   "metadata": {
    "collapsed": false
   },
   "outputs": [
    {
     "data": {
      "image/png": "[encoded data removed]",
      "text/plain": [
       "<matplotlib.figure.Figure at 0x3755150>"
      ]
     },
     "metadata": {},
     "output_type": "display_data"
    }
   ],
   "source": [
    "plt.show()"
   ]
  },
  {
   "cell_type": "code",
   "execution_count": 23,
   "metadata": {
    "collapsed": true
   },
   "outputs": [],
   "source": [
    "predict_data_x = test_data_std[450:]\n",
    "predict_data_y = test_data_y_org[450:]"
   ]
  },
  {
   "cell_type": "code",
   "execution_count": 24,
   "metadata": {
    "collapsed": true
   },
   "outputs": [],
   "source": [
    "predict_y = []\n",
    "for sample, tgt in zip(predict_data_x, predict_data_y):\n",
    "    pct = m.predict(sample)\n",
    "    predict_y.append(pct)"
   ]
  },
  {
   "cell_type": "raw",
   "metadata": {},
   "source": [
    "metrics.accuracy_score(predict_data_y, [1 if pct > 0.5 else 0 for pct in predict_y])"
   ]
  },
  {
   "cell_type": "raw",
   "metadata": {},
   "source": [
    "metrics.confusion_matrix(predict_data_y, [1 if pct > 0.5 else 0 for pct in predict_y])"
   ]
  },
  {
   "cell_type": "code",
   "execution_count": 25,
   "metadata": {
    "collapsed": false,
    "scrolled": true
   },
   "outputs": [
    {
     "data": {
      "text/plain": [
       "14.102988538271859"
      ]
     },
     "execution_count": 25,
     "metadata": {},
     "output_type": "execute_result"
    }
   ],
   "source": [
    "metrics.mean_squared_error(predict_data_y, predict_y)"
   ]
  },
  {
   "cell_type": "markdown",
   "metadata": {},
   "source": [
    "test - logistic"
   ]
  },
  {
   "cell_type": "code",
   "execution_count": 26,
   "metadata": {
    "collapsed": false
   },
   "outputs": [],
   "source": [
    "test_iris = sklearn.datasets.load_iris(return_X_y=False)"
   ]
  },
  {
   "cell_type": "code",
   "execution_count": 27,
   "metadata": {
    "collapsed": false
   },
   "outputs": [],
   "source": [
    "test_data_x_org = test_iris['data']\n",
    "test_data_y_org = test_iris['target']"
   ]
  },
  {
   "cell_type": "code",
   "execution_count": 28,
   "metadata": {
    "collapsed": false
   },
   "outputs": [
    {
     "data": {
      "text/plain": [
       "(150, 4)"
      ]
     },
     "execution_count": 28,
     "metadata": {},
     "output_type": "execute_result"
    }
   ],
   "source": [
    "test_data_x_org.shape"
   ]
  },
  {
   "cell_type": "code",
   "execution_count": 29,
   "metadata": {
    "collapsed": true
   },
   "outputs": [],
   "source": [
    "test_data_std = (test_data_x_org - np.mean(test_data_x_org, axis=0)) / np.std(test_data_x_org, axis=0)"
   ]
  },
  {
   "cell_type": "code",
   "execution_count": 30,
   "metadata": {
    "collapsed": false
   },
   "outputs": [],
   "source": [
    "test_data_y_encoded = np.zeros((150,3))\n",
    "test_data_y_encoded[np.arange(150),test_data_y_org] = 1"
   ]
  },
  {
   "cell_type": "code",
   "execution_count": 31,
   "metadata": {
    "collapsed": true
   },
   "outputs": [],
   "source": [
    "test_data_x = test_data_std\n",
    "test_data_y = test_data_y_encoded"
   ]
  },
  {
   "cell_type": "code",
   "execution_count": 32,
   "metadata": {
    "collapsed": true
   },
   "outputs": [],
   "source": [
    "learning_rate = 0.001"
   ]
  },
  {
   "cell_type": "code",
   "execution_count": 33,
   "metadata": {
    "collapsed": true
   },
   "outputs": [],
   "source": [
    "rounds = 10000"
   ]
  },
  {
   "cell_type": "code",
   "execution_count": 34,
   "metadata": {
    "collapsed": true
   },
   "outputs": [],
   "source": [
    "batch_size = 15"
   ]
  },
  {
   "cell_type": "code",
   "execution_count": 35,
   "metadata": {
    "collapsed": false
   },
   "outputs": [],
   "source": [
    "m = NNModel(test_data_x.shape[1],\n",
    "            gd_upd.GDUpdaterRMSprop(learning_rate=learning_rate),\n",
    "            cost_function=CrossEntropy())"
   ]
  },
  {
   "cell_type": "code",
   "execution_count": 36,
   "metadata": {
    "collapsed": false
   },
   "outputs": [],
   "source": [
    "# m.add_layer(FCLayer(20, False, ActivationNone()))\n",
    "m.add_layer(FCLayer(node_count=6, activation=actv.ActivationLeakyRelu()))\n",
    "m.add_layer(FCLayer(node_count=3, activation=actv.ActivationSoftmax()))"
   ]
  },
  {
   "cell_type": "code",
   "execution_count": 37,
   "metadata": {
    "collapsed": false,
    "scrolled": true
   },
   "outputs": [
    {
     "name": "stdout",
     "output_type": "stream",
     "text": [
      "Wall time: 28 s\n"
     ]
    }
   ],
   "source": [
    "%%time\n",
    "all_cost = []\n",
    "for _ in range(rounds):\n",
    "    cost = 0\n",
    "    cost_ce = 0\n",
    "    learning_idx = np.arange(len(test_data_x))\n",
    "    np.random.shuffle(learning_idx)\n",
    "    \n",
    "    for start_idx in range(0, len(test_data_x), batch_size):\n",
    "        data_idx = learning_idx[start_idx : min(start_idx+batch_size,len(test_data_x))]\n",
    "#         data_idx = learning_idx[start_idx]\n",
    "        sample, target = test_data_x[data_idx], test_data_y[data_idx]\n",
    "        predict = m.model_forward(sample)\n",
    "        m.update_model(predict, target)\n",
    "        cost += (m.cost_function.loss(predict, target)).sum()\n",
    "    all_cost.append(cost)"
   ]
  },
  {
   "cell_type": "code",
   "execution_count": 38,
   "metadata": {
    "collapsed": false
   },
   "outputs": [
    {
     "data": {
      "text/plain": [
       "64.895127712497498"
      ]
     },
     "execution_count": 38,
     "metadata": {},
     "output_type": "execute_result"
    }
   ],
   "source": [
    "all_cost[-1]"
   ]
  },
  {
   "cell_type": "code",
   "execution_count": 39,
   "metadata": {
    "collapsed": false
   },
   "outputs": [
    {
     "data": {
      "text/plain": [
       "[<matplotlib.lines.Line2D at 0x9eadad0>]"
      ]
     },
     "execution_count": 39,
     "metadata": {},
     "output_type": "execute_result"
    }
   ],
   "source": [
    "plt.figure(figsize=(15,6))\n",
    "plt.plot(all_cost)"
   ]
  },
  {
   "cell_type": "code",
   "execution_count": 40,
   "metadata": {
    "collapsed": false
   },
   "outputs": [
    {
     "data": {
      "image/png": "[encoded data removed]",
      "text/plain": [
       "<matplotlib.figure.Figure at 0x865fc70>"
      ]
     },
     "metadata": {},
     "output_type": "display_data"
    }
   ],
   "source": [
    "plt.show()"
   ]
  },
  {
   "cell_type": "code",
   "execution_count": 41,
   "metadata": {
    "collapsed": true
   },
   "outputs": [],
   "source": [
    "predict_data_x = test_data_std\n",
    "predict_data_y = test_data_y_encoded"
   ]
  },
  {
   "cell_type": "code",
   "execution_count": 42,
   "metadata": {
    "collapsed": false,
    "scrolled": true
   },
   "outputs": [],
   "source": [
    "predict_y = []\n",
    "predict_result = []\n",
    "for sample, tgt in zip(predict_data_x, predict_data_y):\n",
    "    pct = m.predict(sample)\n",
    "    predict_result.append(pct)\n",
    "    res = np.argmax(pct)\n",
    "    predict_y.append(res)"
   ]
  },
  {
   "cell_type": "code",
   "execution_count": 43,
   "metadata": {
    "collapsed": false
   },
   "outputs": [
    {
     "data": {
      "text/plain": [
       "[array([  9.99999999701733921498e-01,   2.98266101222488410071e-10,\n",
       "          1.81666870742424342655e-28]),\n",
       " array([  9.99999917802328330829e-01,   8.21976716795288503081e-08,\n",
       "          1.83812568821036109184e-25]),\n",
       " array([  9.99999999934770622545e-01,   6.52292740769738588546e-11,\n",
       "          1.72117644491533995185e-28]),\n",
       " array([  9.99999999689100249611e-01,   3.10899664154813256167e-10,\n",
       "          6.09437776986089709961e-27]),\n",
       " array([  9.99999999988247845195e-01,   1.17521310358916176992e-11,\n",
       "          1.11548524960894227592e-29]),\n",
       " array([  9.99999999463466293648e-01,   5.36533723486788208244e-10,\n",
       "          3.72247290360669685338e-27]),\n",
       " array([  9.99999999998555377800e-01,   1.44452402184452718679e-12,\n",
       "          3.15094102354336100044e-29]),\n",
       " array([  9.99999999273326833915e-01,   7.26673199521556480296e-10,\n",
       "          1.59754710949018110628e-27]),\n",
       " array([  9.99999999753530488533e-01,   2.46469600013717967962e-10,\n",
       "          7.21950018486057508524e-27]),\n",
       " array([  9.99999982290964317677e-01,   1.77090357640980037365e-08,\n",
       "          2.81019671901313531113e-26]),\n",
       " array([  9.99999998301529302580e-01,   1.69847059836750303359e-09,\n",
       "          4.18772327872884820349e-28]),\n",
       " array([  9.99999999930243133051e-01,   6.97568911609164030152e-11,\n",
       "          8.62620369002439542148e-28]),\n",
       " array([  9.99999988726851252174e-01,   1.12731488307714601286e-08,\n",
       "          1.52427240064697846023e-26]),\n",
       " array([  9.99999999999196864664e-01,   8.03029761513263019120e-13,\n",
       "          1.53774549963925733921e-30]),\n",
       " array([  9.99999999469788125595e-01,   5.30211984100883133502e-10,\n",
       "          1.68160566994707871719e-30]),\n",
       " array([  9.99999999997703614696e-01,   2.29643253589137967257e-12,\n",
       "          6.19669277919924620389e-31]),\n",
       " array([  9.99999999963370855838e-01,   3.66291784752647482447e-11,\n",
       "          1.41620913091865568796e-29]),\n",
       " array([  9.99999999518250914932e-01,   4.81749152624636281266e-10,\n",
       "          8.02247518660887347329e-28]),\n",
       " array([  9.99999828184773731365e-01,   1.71815226173991346722e-07,\n",
       "          1.02369535162511965653e-25]),\n",
       " array([  9.99999999994696020522e-01,   5.30387568160616824508e-12,\n",
       "          1.52278544241783911057e-29]),\n",
       " array([  9.99998844918732476827e-01,   1.15508126763308945241e-06,\n",
       "          1.44020812928150896556e-24]),\n",
       " array([  9.99999999951838525192e-01,   4.81615467831263292224e-11,\n",
       "          4.01054381392182402362e-28]),\n",
       " array([  9.99999999999998001599e-01,   1.93178061247492121803e-15,\n",
       "          7.63202296874831781515e-34]),\n",
       " array([  9.99999702585323224646e-01,   2.97414676800544585484e-07,\n",
       "          3.63258234369126256162e-23]),\n",
       " array([  9.99999999477706680295e-01,   5.22293356619993129013e-10,\n",
       "          5.63115945345703282540e-26]),\n",
       " array([  9.99998579827489630922e-01,   1.42017251040465261665e-06,\n",
       "          8.13779420680912482900e-24]),\n",
       " array([  9.99999996291351056499e-01,   3.70864896334406614934e-09,\n",
       "          1.25442588075582556406e-25]),\n",
       " array([  9.99999997365831116980e-01,   2.63416880222485181537e-09,\n",
       "          1.99747694422639788724e-27]),\n",
       " array([  9.99999992430082307315e-01,   7.56991785109879900628e-09,\n",
       "          2.95860942189826016297e-27]),\n",
       " array([  9.99999999511606452174e-01,   4.88393561432636127200e-10,\n",
       "          1.12357873259423645575e-26]),\n",
       " array([  9.99999987604695550480e-01,   1.23953044169637130365e-08,\n",
       "          1.82984965585849175384e-25]),\n",
       " array([  9.99999212660751091164e-01,   7.87339248906636465203e-07,\n",
       "          1.73236194273297871773e-24]),\n",
       " array([  9.99999999999948263607e-01,   5.16519082028315909011e-14,\n",
       "          1.00521212600189128224e-32]),\n",
       " array([  9.99999999999302113807e-01,   6.97850950635523655495e-13,\n",
       "          3.76419775622795500007e-32]),\n",
       " array([  9.99999982290964317677e-01,   1.77090357640980037365e-08,\n",
       "          2.81019671901313531113e-26]),\n",
       " array([  9.99999996932448897979e-01,   3.06755115819881092577e-09,\n",
       "          8.70441041186996653483e-28]),\n",
       " array([  9.99999936678618084329e-01,   6.33213818986590171439e-08,\n",
       "          2.50882100522752627688e-27]),\n",
       " array([  9.99999982290964317677e-01,   1.77090357640980037365e-08,\n",
       "          2.81019671901313531113e-26]),\n",
       " array([  9.99999999977590592337e-01,   2.24094331124368535091e-11,\n",
       "          3.00641681254650267433e-28]),\n",
       " array([  9.99999996719527661782e-01,   3.28047238385502623306e-09,\n",
       "          4.36248226731947748944e-27]),\n",
       " array([  9.99999999945451634176e-01,   5.45483042411581858048e-11,\n",
       "          7.29629427859382613660e-29]),\n",
       " array([  9.99970995673944984539e-01,   2.90043260550560376160e-05,\n",
       "          9.72909750630611864165e-22]),\n",
       " array([  9.99999999999291011576e-01,   7.09007474478730186727e-13,\n",
       "          8.45250405951860753788e-30]),\n",
       " array([  9.99999998279083479602e-01,   1.72091660261328900347e-09,\n",
       "          4.10183700775440637277e-25]),\n",
       " array([  9.99999999874518374909e-01,   1.25481656838845761153e-10,\n",
       "          1.76756550997663560840e-26]),\n",
       " array([  9.99999970591060938219e-01,   2.94089390349780196662e-08,\n",
       "          2.97254113033474053897e-25]),\n",
       " array([  9.99999999993575805490e-01,   6.42419530228198587139e-12,\n",
       "          1.38845595669615600118e-29]),\n",
       " array([  9.99999999971732389525e-01,   2.82675235752269083457e-11,\n",
       "          2.53788203078305989190e-28]),\n",
       " array([  9.99999999623763624612e-01,   3.76236382468357291531e-10,\n",
       "          1.53355012148838183487e-28]),\n",
       " array([  9.99999997911729776590e-01,   2.08827028852067982511e-09,\n",
       "          2.36624405634270769830e-27]),\n",
       " array([  4.67568960618489084579e-12,   9.99997367531452963085e-01,\n",
       "          2.63246387136949113939e-06]),\n",
       " array([  1.14207820458446149347e-09,   9.99986966049397185685e-01,\n",
       "          1.30328085246147586996e-05]),\n",
       " array([  2.81842760245119703736e-12,   9.99522719360929401411e-01,\n",
       "          4.77280636252146845365e-04]),\n",
       " array([  1.27057584981675394595e-09,   9.99985687201918493905e-01,\n",
       "          1.43115275056755395216e-05]),\n",
       " array([  8.86014590311062644814e-12,   9.99355912045130967414e-01,\n",
       "          6.44087946008865103696e-04]),\n",
       " array([  1.02369906198058599854e-08,   9.99961786286520548650e-01,\n",
       "          3.82034764887845791560e-05]),\n",
       " array([  4.62208844892432443882e-09,   9.99505906642561448017e-01,\n",
       "          4.94088735350105843006e-04]),\n",
       " array([  2.41349567683846216075e-05,   9.99975856046824818080e-01,\n",
       "          8.99640690492733189670e-09]),\n",
       " array([  1.00842596812136352591e-11,   9.99996008278704051619e-01,\n",
       "          3.99171121161982265873e-06]),\n",
       " array([  7.50570180493945563920e-07,   9.99991345904266304423e-01,\n",
       "          7.90352555297996561367e-06]),\n",
       " array([  1.62585763871648510249e-08,   9.99999932700665783436e-01,\n",
       "          5.10407579862501828514e-08]),\n",
       " array([  2.17364706061328507455e-08,   9.99989386204603203367e-01,\n",
       "          1.05920589263260899647e-05]),\n",
       " array([  8.14592603562242434962e-12,   9.99999922082925318811e-01,\n",
       "          7.79089287046652408770e-08]),\n",
       " array([  5.73766560797557573103e-10,   9.99698717946365333908e-01,\n",
       "          3.01281479868083506158e-04]),\n",
       " array([  6.24937007303069584750e-07,   9.99999322291078018843e-01,\n",
       "          5.27719145487122015989e-08]),\n",
       " array([  4.24448055316404817644e-11,   9.99999375389587497054e-01,\n",
       "          6.24567967652768135225e-07]),\n",
       " array([  1.54896542998409136973e-07,   9.99477135843432562545e-01,\n",
       "          5.22709260024506482990e-04]),\n",
       " array([  3.29855449388804283094e-09,   9.99999937782115044804e-01,\n",
       "          5.89193304753050265822e-08]),\n",
       " array([  4.35728462484049331726e-13,   9.47428660989638848910e-01,\n",
       "          5.25713390099254440635e-02]),\n",
       " array([  4.59262599659883603989e-09,   9.99999886545418936734e-01,\n",
       "          1.08861955075276368463e-07]),\n",
       " array([  2.77423153554510358329e-08,   6.39393788674437524300e-01,\n",
       "          3.60606183583247252855e-01]),\n",
       " array([  9.11860799508798375950e-10,   9.99999855390732772520e-01,\n",
       "          1.43697406385699294678e-07]),\n",
       " array([  1.22863188339720624010e-12,   7.95235973661371553511e-01,\n",
       "          2.04764026337399873690e-01]),\n",
       " array([  2.37562191134396412061e-10,   9.99981083173353768601e-01,\n",
       "          1.89165890841544827913e-05]),\n",
       " array([  1.04161543551837542648e-10,   9.99999534807465839670e-01,\n",
       "          4.65088372591940254846e-07]),\n",
       " array([  3.80929474661987180305e-11,   9.99998375214460999416e-01,\n",
       "          1.62474744602281360172e-06]),\n",
       " array([  4.67274669955303183497e-13,   9.99711035092678890202e-01,\n",
       "          2.88964906853755073689e-04]),\n",
       " array([  3.64790349549630674612e-12,   7.57522538680643675590e-01,\n",
       "          2.42477461315708603395e-01]),\n",
       " array([  1.98075042954685666961e-09,   9.99605326548404726772e-01,\n",
       "          3.94671470844685861549e-04]),\n",
       " array([  3.10243281641584915018e-08,   9.99999967667287825712e-01,\n",
       "          1.30838394213385482956e-09]),\n",
       " array([  5.23142138223514754241e-09,   9.99999903543860702015e-01,\n",
       "          9.12247179161047026281e-08]),\n",
       " array([  5.62059555043648132680e-09,   9.99999977041985954607e-01,\n",
       "          1.73374183842120860908e-08]),\n",
       " array([  4.93104401930119045954e-09,   9.99999892789551481087e-01,\n",
       "          1.02279404583696302024e-07]),\n",
       " array([  1.03541551760005351515e-11,   1.16267328692273755331e-01,\n",
       "          8.83732671297372096575e-01]),\n",
       " array([  8.50687272686442442219e-07,   9.99109843636274641554e-01,\n",
       "          8.89305676452447181959e-04]),\n",
       " array([  1.84610794221485726996e-07,   9.99884347215447943924e-01,\n",
       "          1.15468173757961523529e-04]),\n",
       " array([  2.30247831068067983117e-11,   9.99897872912703600257e-01,\n",
       "          1.02127064271704230550e-04]),\n",
       " array([  6.31150402901861993590e-13,   9.99892021770687589033e-01,\n",
       "          1.07978228681279318432e-04]),\n",
       " array([  2.38918412516431469558e-07,   9.99998051206191007623e-01,\n",
       "          1.70987539661342172073e-06]),\n",
       " array([  8.70172524295717254046e-09,   9.99996218084478694088e-01,\n",
       "          3.77321379600357935161e-06]),\n",
       " array([  1.06952785107594346082e-08,   9.99978719316293118702e-01,\n",
       "          2.12699884285161077780e-05]),\n",
       " array([  1.81303338407971956584e-09,   9.99951145547943398562e-01,\n",
       "          4.88526390233011924670e-05]),\n",
       " array([  1.90407941044091328435e-09,   9.99999765152603470320e-01,\n",
       "          2.32943317147614822534e-07]),\n",
       " array([  2.20948890903507402659e-06,   9.99997783482699631463e-01,\n",
       "          7.02839135813526340117e-09]),\n",
       " array([  1.70339026389365106934e-08,   9.99994203722079144647e-01,\n",
       "          5.77924401816525685327e-06]),\n",
       " array([  8.65777868919921333028e-08,   9.99999045310767109562e-01,\n",
       "          8.68111445916657477264e-07]),\n",
       " array([  4.11491836964691041848e-08,   9.99997401955914466676e-01,\n",
       "          2.55689490182294127733e-06]),\n",
       " array([  5.74708934880119593722e-10,   9.99999167407321198908e-01,\n",
       "          8.32017969845195838152e-07]),\n",
       " array([  3.88838218758705899216e-05,   9.99961115151133617118e-01,\n",
       "          1.02699054541310396039e-09]),\n",
       " array([  2.07675078305271398968e-08,   9.99998545970588792464e-01,\n",
       "          1.43326190320927376214e-06]),\n",
       " array([  9.72480310126976981473e-20,   1.80115209860259579096e-09,\n",
       "          9.99999998198847883657e-01]),\n",
       " array([  7.21273696782036797733e-14,   1.51493955515416892348e-04,\n",
       "          9.99848506044412554949e-01]),\n",
       " array([  8.22257622499874854414e-21,   4.41031495518871309580e-07,\n",
       "          9.99999558968504453915e-01]),\n",
       " array([  2.86725050526377941465e-15,   2.10981151544744938197e-04,\n",
       "          9.99789018848452393229e-01]),\n",
       " array([  2.58693125303159047398e-19,   1.17873997920825256143e-07,\n",
       "          9.99999882126001993221e-01]),\n",
       " array([  1.93431864659697539507e-25,   5.47480418504900888552e-09,\n",
       "          9.99999994525195834427e-01]),\n",
       " array([  4.31316661150713827645e-08,   8.51673745731495734912e-02,\n",
       "          9.14832582295184382204e-01]),\n",
       " array([  1.79950008115500066865e-21,   3.08884599240774550857e-06,\n",
       "          9.99996911154007683820e-01]),\n",
       " array([  1.81477548882471672067e-20,   2.32989002943173445289e-06,\n",
       "          9.99997670109970537844e-01]),\n",
       " array([  1.04375934371321311483e-20,   1.54434069070286400741e-08,\n",
       "          9.99999984556593002338e-01]),\n",
       " array([  8.59580465255360353142e-13,   6.06283685987637176174e-03,\n",
       "          9.93937163139264057143e-01]),\n",
       " array([  1.81312945526853741251e-16,   9.38696903827383012176e-05,\n",
       "          9.99906130309617058316e-01]),\n",
       " array([  4.11721165346757326239e-18,   5.59797120376938316924e-06,\n",
       "          9.99994402028796192106e-01]),\n",
       " array([  1.74982699741071004239e-15,   8.81040200401440933031e-06,\n",
       "          9.99991189597994267757e-01]),\n",
       " array([  3.03954420521947248435e-17,   4.84054688144050322837e-08,\n",
       "          9.99999951594531144572e-01]),\n",
       " array([  4.12599971298405091271e-16,   2.65842311471740855506e-06,\n",
       "          9.99997341576884801739e-01]),\n",
       " array([  1.25031251263665581317e-14,   1.28461878746245847932e-03,\n",
       "          9.98715381212525010746e-01]),\n",
       " array([  6.94717938997193376513e-21,   3.97066955676842018649e-07,\n",
       "          9.99999602933044240416e-01]),\n",
       " array([  8.73352763655699403014e-32,   8.25106459348491528038e-13,\n",
       "          9.99999999999174882248e-01]),\n",
       " array([  5.25023399445482898657e-14,   5.59713843152792461799e-02,\n",
       "          9.44028615684668226393e-01]),\n",
       " array([  1.97763271206304887788e-19,   2.32324249872724184110e-07,\n",
       "          9.99999767675750161899e-01]),\n",
       " array([  1.96883861830342115130e-12,   1.99538024051577867445e-04,\n",
       "          9.99800461973979537333e-01]),\n",
       " array([  6.74905916787787841985e-27,   3.27533341729760262887e-09,\n",
       "          9.99999996724666662118e-01]),\n",
       " array([  3.54567682189301145050e-13,   3.51260585114028245357e-02,\n",
       "          9.64873941488242570230e-01]),\n",
       " array([  2.22340184272866618621e-16,   1.73444476474383082662e-05,\n",
       "          9.99982655552352328598e-01]),\n",
       " array([  1.51032275713516888088e-17,   2.56948350083330170728e-04,\n",
       "          9.99743051649916725232e-01]),\n",
       " array([  1.09767389794127009511e-11,   1.46858392851726832218e-01,\n",
       "          8.53141607137296476004e-01]),\n",
       " array([  1.76371554936502055547e-10,   1.82807917508583522848e-01,\n",
       "          8.17192082315044920904e-01]),\n",
       " array([  7.83727373926964798974e-19,   4.64782722041696557673e-07,\n",
       "          9.99999535217277912835e-01]),\n",
       " array([  3.23527385062466079801e-16,   2.29925742964102695909e-02,\n",
       "          9.77007425703589338362e-01]),\n",
       " array([  1.65609516288034633375e-22,   8.65281211451676853563e-07,\n",
       "          9.99999134718788651455e-01]),\n",
       " array([  1.49928384412943875197e-18,   1.03374429187061531079e-04,\n",
       "          9.99896625570813046835e-01]),\n",
       " array([  1.16645525728063302905e-19,   7.89861756097176249255e-08,\n",
       "          9.99999921013824399907e-01]),\n",
       " array([  1.51205591832697437001e-11,   8.36188064951787657364e-01,\n",
       "          1.63811935033091882197e-01]),\n",
       " array([  1.51295802411695760304e-13,   2.72933662385449297971e-02,\n",
       "          9.72706633761303840480e-01]),\n",
       " array([  3.15482160474189425108e-25,   4.22572108107275814530e-09,\n",
       "          9.99999995774278893634e-01]),\n",
       " array([  2.12497763412197000607e-16,   3.29339690085211564238e-07,\n",
       "          9.99999670660309702974e-01]),\n",
       " array([  1.29302756489713160136e-13,   2.21213205160055836201e-03,\n",
       "          9.97787867948270013052e-01]),\n",
       " array([  8.98817419918897927834e-10,   3.26005624867508780884e-01,\n",
       "          6.73994374233673809726e-01]),\n",
       " array([  4.46552333941944479289e-17,   4.50487586570267060969e-05,\n",
       "          9.99954951241342926416e-01]),\n",
       " array([  5.86229152361465689077e-20,   3.07604759960083092782e-08,\n",
       "          9.99999969239524166831e-01]),\n",
       " array([  2.79362441974673176065e-17,   1.58367131042444287466e-05,\n",
       "          9.99984163286895655354e-01]),\n",
       " array([  7.21273696782036797733e-14,   1.51493955515416892348e-04,\n",
       "          9.99848506044412554949e-01]),\n",
       " array([  5.47268177663236080592e-20,   6.11976658067907086127e-08,\n",
       "          9.99999938802334176202e-01]),\n",
       " array([  1.09103100549408128134e-19,   1.44667766136955563104e-08,\n",
       "          9.99999985533223334500e-01]),\n",
       " array([  4.62760846554730387078e-18,   1.50843542093744459116e-06,\n",
       "          9.99998491564579095048e-01]),\n",
       " array([  4.12565003204289572174e-16,   3.37615396480735652143e-04,\n",
       "          9.99662384603518860970e-01]),\n",
       " array([  7.82822817693135645453e-15,   4.51965967261220473786e-04,\n",
       "          9.99548034032731069765e-01]),\n",
       " array([  2.19868859372201473985e-14,   6.88770660023093796848e-06,\n",
       "          9.99993112293377728328e-01]),\n",
       " array([  5.79484868967704669898e-11,   1.62501949864711954519e-02,\n",
       "          9.83749804955580287036e-01])]"
      ]
     },
     "execution_count": 43,
     "metadata": {},
     "output_type": "execute_result"
    }
   ],
   "source": [
    "predict_result"
   ]
  },
  {
   "cell_type": "raw",
   "metadata": {
    "collapsed": false
   },
   "source": [
    "metrics.accuracy_score(predict_data_y, [1 if pct > 0.5 else 0 for pct in predict_y])"
   ]
  },
  {
   "cell_type": "code",
   "execution_count": 44,
   "metadata": {
    "collapsed": false,
    "scrolled": false
   },
   "outputs": [
    {
     "data": {
      "text/plain": [
       "array([[50,  0,  0],\n",
       "       [ 0, 49,  1],\n",
       "       [ 0,  1, 49]])"
      ]
     },
     "execution_count": 44,
     "metadata": {},
     "output_type": "execute_result"
    }
   ],
   "source": [
    "metrics.confusion_matrix(predict_data_y.argmax(axis=1), predict_y)"
   ]
  },
  {
   "cell_type": "code",
   "execution_count": null,
   "metadata": {
    "collapsed": true
   },
   "outputs": [],
   "source": []
  }
 ],
 "metadata": {
  "kernelspec": {
   "display_name": "Python 3",
   "language": "python",
   "name": "python3"
  },
  "language_info": {
   "codemirror_mode": {
    "name": "ipython",
    "version": 3
   },
   "file_extension": ".py",
   "mimetype": "text/x-python",
   "name": "python",
   "nbconvert_exporter": "python",
   "pygments_lexer": "ipython3",
   "version": "3.6.0"
  }
 },
 "nbformat": 4,
 "nbformat_minor": 2
}
