{
 "cells": [
  {
   "cell_type": "code",
   "execution_count": 1,
   "metadata": {},
   "outputs": [],
   "source": [
    "import abc"
   ]
  },
  {
   "cell_type": "code",
   "execution_count": 2,
   "metadata": {},
   "outputs": [],
   "source": [
    "import numpy as np"
   ]
  },
  {
   "cell_type": "code",
   "execution_count": 3,
   "metadata": {},
   "outputs": [
    {
     "data": {
      "text/plain": [
       "{'divide': 'warn', 'invalid': 'warn', 'over': 'warn', 'under': 'ignore'}"
      ]
     },
     "execution_count": 3,
     "metadata": {},
     "output_type": "execute_result"
    }
   ],
   "source": [
    "np.seterr(all='raise', under='warn')"
   ]
  },
  {
   "cell_type": "code",
   "execution_count": 4,
   "metadata": {},
   "outputs": [],
   "source": [
    "np.set_printoptions(precision=20)"
   ]
  },
  {
   "cell_type": "markdown",
   "metadata": {},
   "source": [
    "---"
   ]
  },
  {
   "cell_type": "markdown",
   "metadata": {},
   "source": [
    "activation function"
   ]
  },
  {
   "cell_type": "code",
   "execution_count": 5,
   "metadata": {},
   "outputs": [],
   "source": [
    "class ActivationFunction(abc.ABC):\n",
    "    \"\"\"Base class for activation functions.\"\"\"\n",
    "    \n",
    "    def __init__(self):\n",
    "        \"\"\"Init function. Nothing needs to do in the base class.\"\"\"\n",
    "        pass\n",
    "    \n",
    "    @property\n",
    "    @abc.abstractmethod\n",
    "    def derivative_use_activated(self):\n",
    "        \"\"\"Boolean: If derivative of the activation function can be calculated\n",
    "        using activated value.\n",
    "        \"\"\"\n",
    "        pass\n",
    "    \n",
    "    @abc.abstractmethod\n",
    "    def apply(self, v):\n",
    "        \"\"\"Apply activation function on the data.\n",
    "        \n",
    "        Args:\n",
    "            v (np.array): Data\n",
    "        \n",
    "        Returns:\n",
    "            Activated values\n",
    "        \"\"\"\n",
    "        pass\n",
    "    \n",
    "    @abc.abstractmethod\n",
    "    def derivative(self, v):\n",
    "        \"\"\"Calculate derivative wrt input of activation function.\n",
    "        \n",
    "        Args:\n",
    "            v (np.array): input of activation function if derivative_use_activated is false,\n",
    "                output of activation function otherwise\n",
    "        \n",
    "        Returns:\n",
    "            Derivative wrt input of activation function\n",
    "        \"\"\"\n",
    "        pass"
   ]
  },
  {
   "cell_type": "code",
   "execution_count": 6,
   "metadata": {},
   "outputs": [],
   "source": [
    "class ActivationNone(ActivationFunction):\n",
    "    \"\"\"For not using an activation function\"\"\"\n",
    "    \n",
    "    def __init__(self):\n",
    "        \"\"\"Init function. Do nothing.\"\"\"\n",
    "        pass\n",
    "    \n",
    "    @property\n",
    "    def derivative_use_activated(self):\n",
    "        \"\"\"Arbitrary. Not used.\"\"\"\n",
    "        return True\n",
    "    \n",
    "    def apply(self, v):\n",
    "        \"\"\"Return input as output as no activation needs to be applied.\n",
    "        \n",
    "        Args:\n",
    "            v (np.array): Data\n",
    "        \n",
    "        Returns:\n",
    "            The same as input v\n",
    "        \"\"\"\n",
    "        return v\n",
    "    \n",
    "    def derivative(self, v):\n",
    "        \"\"\"Calculate derivative wrt input of activation function.\n",
    "        \n",
    "        Args:\n",
    "            v (np.array): input of activation function if derivative_use_activated is false,\n",
    "                output of activation function otherwise\n",
    "        \n",
    "        Returns:\n",
    "            Always 1\n",
    "        \"\"\"\n",
    "        return 1"
   ]
  },
  {
   "cell_type": "code",
   "execution_count": 7,
   "metadata": {},
   "outputs": [],
   "source": [
    "class ActivationSigmoid(ActivationFunction):\n",
    "    \"\"\"Sigmoid function. Data out of bounds will be clipped.\"\"\"\n",
    "    \n",
    "    def __init__(self, x_upper_bound=None, x_lower_bound=None):\n",
    "        \"\"\"Init function.\n",
    "        \n",
    "        Args:\n",
    "            x_upper_bound (int): Upper bound of sigmoid input\n",
    "            x_lower_bound (int): Lower bound of sigmoid input\n",
    "        \"\"\"\n",
    "        self.x_upper_bound = x_upper_bound\n",
    "        self.x_lower_bound = x_lower_bound\n",
    "    \n",
    "    @property\n",
    "    def derivative_use_activated(self):\n",
    "        \"\"\"Use sigmoid result to calculate derivative.\"\"\"\n",
    "        return True\n",
    "    \n",
    "    def apply(self, v):\n",
    "        \"\"\"Apply sigmoid function to data.\n",
    "        \n",
    "        Args:\n",
    "            v (np.array): Data\n",
    "        \n",
    "        Returns:\n",
    "            1 / (1 + exp(v)). v will be clipped if bounds are set.\n",
    "        \"\"\"\n",
    "        if self.x_upper_bound or self.x_upper_bound:\n",
    "            return 1.0 / (1.0 + np.exp(-v.clip(max=self.x_upper_bound, min=self.x_lower_bound)))\n",
    "        return 1.0 / (1.0 + np.exp(-v))\n",
    "    \n",
    "    def derivative(self, v):\n",
    "        \"\"\"Calculate derivative wrt input of activation function.\n",
    "        \n",
    "        Args:\n",
    "            v (np.array): input of activation function if derivative_use_activated is false,\n",
    "                output of activation function otherwise\n",
    "        \n",
    "        Returns:\n",
    "            v * (1 - v)\n",
    "        \"\"\"\n",
    "        return v * (1 - v)"
   ]
  },
  {
   "cell_type": "code",
   "execution_count": 8,
   "metadata": {},
   "outputs": [],
   "source": [
    "class ActivationRelu(ActivationFunction):\n",
    "    \"\"\"Relu function.\"\"\"\n",
    "    def __init__(self):\n",
    "        \"\"\"Init function. Do nothing.\"\"\"\n",
    "        pass\n",
    "    \n",
    "    @property\n",
    "    def derivative_use_activated(self):\n",
    "        \"\"\"Use result to calculate derivative.\"\"\"\n",
    "        return True\n",
    "    \n",
    "    def apply(self, v):\n",
    "        \"\"\"Apply Relu to data.\n",
    "        \n",
    "        Args:\n",
    "            v (np.array): Data\n",
    "        \n",
    "        Returns:\n",
    "            v if v > 0, otherwise 0\n",
    "        \"\"\"\n",
    "        return v.clip(min=0)\n",
    "    \n",
    "    def derivative(self, v):\n",
    "        \"\"\"Calculate derivative wrt input of activation function.\n",
    "        \n",
    "        Args:\n",
    "            v (np.array): input of activation function if derivative_use_activated is false,\n",
    "                output of activation function otherwise\n",
    "        \n",
    "        Returns:\n",
    "            1 if v > 0, otherwise 0\n",
    "        \"\"\"\n",
    "        return np.where(v>0, 1, 0)"
   ]
  },
  {
   "cell_type": "markdown",
   "metadata": {},
   "source": [
    "---"
   ]
  },
  {
   "cell_type": "markdown",
   "metadata": {},
   "source": [
    "gd updater"
   ]
  },
  {
   "cell_type": "code",
   "execution_count": 9,
   "metadata": {},
   "outputs": [],
   "source": [
    "class GDUpdater(abc.ABC):\n",
    "    \"\"\"Base class for gradient descent updater. One updater to N layers.\"\"\"\n",
    "    \n",
    "    def __init__(self):\n",
    "        \"\"\"Init function.\n",
    "        \n",
    "        Attributes:\n",
    "            weight_infos (dict): buff to store any step result for weight\n",
    "            bias_infos (dict): buff to store any step result for bias terms\n",
    "        \"\"\"\n",
    "        self.weight_infos = {}\n",
    "        self.bias_infos = {}\n",
    "    \n",
    "    def register_layer(self, layer_id, weight_shape, bias_shape):\n",
    "        \"\"\"Register layer which will use this updater.\n",
    "        \n",
    "        Args:\n",
    "            layer_id (int/str): key to specify the layer\n",
    "            weight_shape (int): shape of weight of the layer\n",
    "            bias_shape (int): shape of bias terms of the layer\n",
    "        \"\"\"\n",
    "        self.weight_infos[layer_id] = np.zeros(weight_shape)\n",
    "        self.bias_infos[layer_id] = np.zeros(bias_shape)\n",
    "    \n",
    "    @abc.abstractmethod\n",
    "    def apply(self, layer_id, grads, bias_grads):\n",
    "        \"\"\"Calculate update value.\n",
    "        \n",
    "        Args:\n",
    "            layer_id (int/str): key to specify the layer\n",
    "            grads (np.array): gradients of weights\n",
    "            bias_grads (np.array): gradients of bias terms\n",
    "        \n",
    "        Returns:\n",
    "            Calculated gradients/update value\n",
    "        \"\"\"\n",
    "        pass"
   ]
  },
  {
   "cell_type": "code",
   "execution_count": 10,
   "metadata": {},
   "outputs": [],
   "source": [
    "class GDUpdaterNormal(GDUpdater):\n",
    "    \"\"\"No optimization, apply learning rate only.\"\"\"\n",
    "    \n",
    "    def __init__(self, learning_rate):\n",
    "        \"\"\"Init function.\n",
    "        \n",
    "        Attributes:\n",
    "            learning_rate (float): learning rate\n",
    "        \"\"\"\n",
    "        GDUpdater.__init__(self)\n",
    "        self.learning_rate = learning_rate\n",
    "    \n",
    "    def apply(self, layer_id, grads, bias_grads):\n",
    "        \"\"\"Calculate update value.\n",
    "        \n",
    "        Args:\n",
    "            layer_id (int/str): key to specify the layer\n",
    "            grads (np.array): gradients of weights\n",
    "            bias_grads (np.array): gradients of bias terms\n",
    "        \n",
    "        Returns:\n",
    "            learning_rate * gradients\n",
    "        \"\"\"\n",
    "        return self.learning_rate * grads, self.learning_rate * bias_grads"
   ]
  },
  {
   "cell_type": "code",
   "execution_count": 11,
   "metadata": {},
   "outputs": [],
   "source": [
    "# Need a smaller learning rate(0.01?)\n",
    "class GDUpdaterMomentum(GDUpdater):\n",
    "    \"\"\"Momentum for SGD.\n",
    "    \n",
    "    In Momentum, weight_infos and bias_infos stores the last calculated weight deltas.\n",
    "    \"\"\"\n",
    "    \n",
    "    def __init__(self, learning_rate, gamma=0.9):\n",
    "        \"\"\"Init function.\n",
    "        \n",
    "        Attributes:\n",
    "            learning_rate (float): learning rate\n",
    "            gamma (float): rate of the update vector of the past time step to add on, default 0.9\n",
    "        \"\"\"\n",
    "        GDUpdater.__init__(self)\n",
    "        self.learning_rate = learning_rate\n",
    "        self.gamma = gamma\n",
    "    \n",
    "    def apply(self, layer_id, grads, bias_grads):\n",
    "        \"\"\"Calculate update value.\n",
    "        \n",
    "        Args:\n",
    "            layer_id (int/str): key to specify the layer\n",
    "            grads (np.array): gradients of weights\n",
    "            bias_grads (np.array): gradients of bias terms\n",
    "        \n",
    "        Returns:\n",
    "            gamma * last_gradients + learning_rate * current_gradients\n",
    "        \"\"\"\n",
    "        self.weight_infos[layer_id] = self.gamma*self.weight_infos[layer_id] + self.learning_rate*grads\n",
    "        self.bias_infos[layer_id] = self.gamma*self.bias_infos[layer_id] + self.learning_rate*bias_grads\n",
    "        return self.weight_infos[layer_id], self.bias_infos[layer_id]"
   ]
  },
  {
   "cell_type": "code",
   "execution_count": 12,
   "metadata": {},
   "outputs": [],
   "source": [
    "class GDUpdaterAdagrad(GDUpdater):\n",
    "    def __init__(self, learning_rate=0.01, epsilon=1e-8):\n",
    "        GDUpdater.__init__(self)\n",
    "        self.learning_rate = learning_rate\n",
    "        self.epsilon = epsilon\n",
    "    \n",
    "    def apply(self, layer_id, grads, bias_grads):\n",
    "        # TODO\n",
    "        pass"
   ]
  },
  {
   "cell_type": "code",
   "execution_count": 13,
   "metadata": {},
   "outputs": [],
   "source": [
    "class GDUpdaterAdadelta(GDUpdater):\n",
    "    def __init__(self, gamma=0.9, epsilon=1e-8):\n",
    "        GDUpdater.__init__(self)\n",
    "        self.gamma = gamma\n",
    "        self.epsilon = epsilon\n",
    "    \n",
    "    def apply(self, layer_id, grads, bias_grads):\n",
    "        # TODO\n",
    "        pass"
   ]
  },
  {
   "cell_type": "code",
   "execution_count": 14,
   "metadata": {},
   "outputs": [],
   "source": [
    "class GDUpdaterRMSprop(GDUpdater):\n",
    "    \"\"\"RMSprop.\n",
    "    \n",
    "    In RMSprop, weight_infos and bias_infos stores the last calculated E[g^2].\n",
    "    \"\"\"\n",
    "    \n",
    "    def __init__(self, learning_rate=0.001, gamma=0.9, epsilon=1e-8):\n",
    "        \"\"\"Init function.\n",
    "        \n",
    "        Attributes:\n",
    "            learning_rate (float): learning rate, default 0.001\n",
    "            gamma (float): rate of the update E[g^2] of the past time step to add on, default 0.9\n",
    "            epsilon (float):  smoothing term that avoids division by zero, default 1e-8\n",
    "        \"\"\"\n",
    "        GDUpdater.__init__(self)\n",
    "        self.learning_rate = learning_rate\n",
    "        self.gamma = gamma\n",
    "        self.epsilon = epsilon\n",
    "        \n",
    "    def apply(self, layer_id, grads, bias_grads):\n",
    "        \"\"\"Calculate update value.\n",
    "        \n",
    "        Args:\n",
    "            layer_id (int/str): key to specify the layer\n",
    "            grads (np.array): gradients of weights\n",
    "            bias_grads (np.array): gradients of bias terms\n",
    "        \n",
    "        Returns:\n",
    "            E[g^2] = gamma * last_E[g^2] + (1-gamma) * current_gradients^2\n",
    "            learning_rate * gradients / sqrt(E[g^2] + epsilon)\n",
    "        \"\"\"\n",
    "        self.weight_infos[layer_id] = self.gamma*self.weight_infos[layer_id] \\\n",
    "            + (1-self.gamma)*np.power(grads,2)\n",
    "        self.bias_infos[layer_id] = self.gamma*self.bias_infos[layer_id] \\\n",
    "            + (1-self.gamma)*np.power(bias_grads,2)\n",
    "        weight_delta = self.learning_rate * grads / np.sqrt(self.weight_infos[layer_id] + self.epsilon)\n",
    "        bias_delta = self.learning_rate * bias_grads / np.sqrt(self.bias_infos[layer_id] + self.epsilon)\n",
    "        return weight_delta, bias_delta"
   ]
  },
  {
   "cell_type": "markdown",
   "metadata": {},
   "source": [
    "---"
   ]
  },
  {
   "cell_type": "markdown",
   "metadata": {},
   "source": [
    "nn layer"
   ]
  },
  {
   "cell_type": "code",
   "execution_count": 15,
   "metadata": {},
   "outputs": [],
   "source": [
    "class NNLayer(abc.ABC):\n",
    "    \"\"\"Base class for neural network layers.\"\"\"\n",
    "    \n",
    "    def __init__(self):\n",
    "        \"\"\"Init function. Nothing needs to do in the base class.\"\"\"\n",
    "        pass\n",
    "    \n",
    "    def init(self):\n",
    "        \"\"\"Init function during model creation. Nothing needs to do in the base class.\"\"\"\n",
    "        pass\n",
    "    \n",
    "    @abc.abstractmethod\n",
    "    def forward(self, step_input, learning=True):\n",
    "        \"\"\"Run through the layer with given input to get output.\n",
    "        \n",
    "        Args:\n",
    "            step_input (np.array): input data\n",
    "            learning (boolean): flag if current step is in learning period\n",
    "                During learning period, intermediate result is stored for back propagation.\n",
    "        \n",
    "        Returns:\n",
    "            Result calculated by current layer\n",
    "            activation(input*weights+bias)\n",
    "        \"\"\"\n",
    "        pass\n",
    "    \n",
    "    @abc.abstractmethod\n",
    "    def back_propagation(self, prev_delta, activation_derivatived=False):\n",
    "        \"\"\"Back propagation to calculate gradient in last step for update.\n",
    "        Store the gradients in weight_grads and bias_grads.\n",
    "        \n",
    "        Args:\n",
    "            prev_delta (np.array): delta values(derivatives) from the next layer\n",
    "                wrt output of current layer\n",
    "            activation_derivatived (boolean): if the delta value contains\n",
    "                derivative of activation function\n",
    "        \n",
    "        Returns:\n",
    "            Derivatives of current layer wrt input\n",
    "        \"\"\"\n",
    "        pass\n",
    "    \n",
    "    @abc.abstractmethod\n",
    "    def update(self):\n",
    "        \"\"\"Update weights of each input nodes using calculated gradients for last step.\n",
    "        Use pre-specified GD updater for accelerating convergance during GD update.\n",
    "        \"\"\"\n",
    "        pass\n",
    "    \n",
    "    def xavier_weight_init(self, prev_node_count, cur_node_count, has_bias):\n",
    "        \"\"\"Initialize weight using Xavier init.\n",
    "        \n",
    "        Args:\n",
    "            prev_node_count (int): number of input data (output of previous layer)\n",
    "            cur_node_count (int): number of nodes (output of current layer)\n",
    "            has_bias (boolean): flags if bias terms are added\n",
    "        \n",
    "        Returns:\n",
    "            Initialized weights and bias terms\n",
    "        \"\"\"\n",
    "        weights = np.random.randn(prev_node_count, cur_node_count)/np.sqrt(prev_node_count)\n",
    "        bias = np.random.randn(cur_node_count)/np.sqrt(prev_node_count) \\\n",
    "            if has_bias else np.zeros(cur_node_count)\n",
    "        return weights, bias"
   ]
  },
  {
   "cell_type": "code",
   "execution_count": 16,
   "metadata": {},
   "outputs": [],
   "source": [
    "class FCLayer(NNLayer):\n",
    "    \"\"\"Single layer of neural network\"\"\"\n",
    "    \n",
    "    def __init__(self, node_count, has_bias=True, activation=ActivationNone()):\n",
    "        \"\"\"Init function.\n",
    "        \n",
    "        Attributes:\n",
    "            layer_id (int/str): ID of current layer\n",
    "            node_count (int): number of nodes of current layer\n",
    "            has_bias (boolean): flag if the nodes of the layer has bias terms\n",
    "            activation (ActivationFunction): activation function\n",
    "            gd_updater (GDUpdater): gradient descent updater\n",
    "            weights (np.array): input weights of all nodes\n",
    "            bias (np.array): bias of all nodes\n",
    "            weight_grads (np.array): weight gradients of all nodes of current step \n",
    "            bias_grads (np.array): bias gradients of all nodes of current step \n",
    "            step_input (np.array): input of current step\n",
    "            reduced_sum (np.array): reduced sum of input before activation of current step \n",
    "            step_output (np.array): output of current step\n",
    "        \"\"\"\n",
    "        self.layer_id = None\n",
    "        self.node_count = node_count\n",
    "        self.has_bias = has_bias\n",
    "        self.activation = activation\n",
    "        self.gd_updater = None\n",
    "        self.weights = None\n",
    "        self.bias = None\n",
    "        self.weight_grads = None\n",
    "        self.bias_grads = None\n",
    "        self.step_input = None\n",
    "        self.reduced_sum = None\n",
    "        self.step_output = None\n",
    "    \n",
    "    def init(self, prev_node_count, gd_updater):\n",
    "        \"\"\"Init function during model creation. Initialize layer info and nodes.\n",
    "        \n",
    "        Args:\n",
    "            prev_node_count (int): number of input of current layer\n",
    "            gd_updater (GDUpdater): gradient descent updater\n",
    "        \"\"\"\n",
    "        self.layer_id = id(self)\n",
    "        self.gd_updater = gd_updater\n",
    "        self.weights, self.bias = self.xavier_weight_init(prev_node_count, self.node_count, self.has_bias)\n",
    "        self.gd_updater.register_layer(self.layer_id, self.weights.shape, self.bias.shape)\n",
    "    \n",
    "    def forward(self, step_input, learning=True):\n",
    "        \"\"\"Run through the layer with given input to get output.\n",
    "        \n",
    "        Args:\n",
    "            step_input (np.array): input data\n",
    "            learning (boolean): flag if current step is in learning period\n",
    "                During learning period, intermediate result is stored for back propagation.\n",
    "        \n",
    "        Returns:\n",
    "            Result calculated by current layer\n",
    "            activation(input*weights+bias)\n",
    "        \"\"\"\n",
    "        reduced_sum = np.dot(step_input, self.weights) + self.bias\n",
    "        step_output = self.activation.apply(reduced_sum)\n",
    "        if learning:\n",
    "            self.step_input = step_input\n",
    "            self.reduced_sum = reduced_sum\n",
    "            self.step_output = step_output\n",
    "        return step_output\n",
    "    \n",
    "    def back_propagation(self, prev_delta, activation_derivatived=False):\n",
    "        \"\"\"Back propagation to calculate gradient in last step for update.\n",
    "        Store the gradients in weight_grads and bias_grads.\n",
    "        \n",
    "        Args:\n",
    "            prev_delta (np.array): delta values(derivatives) from the next layer\n",
    "                wrt output of current layer\n",
    "            activation_derivatived (boolean): if the delta value contains\n",
    "                derivative of activation function\n",
    "        \n",
    "        Returns:\n",
    "            Derivatives of current layer wrt input\n",
    "        \"\"\"\n",
    "        cur_delta = None\n",
    "        if activation_derivatived:\n",
    "            cur_delta = prev_delta\n",
    "        elif self.activation.derivative_use_activated:\n",
    "            cur_delta = prev_delta * self.activation.derivative(self.step_output)\n",
    "        else:\n",
    "            cur_delta = prev_delta * self.activation.derivative(self.reduced_sum)\n",
    "        self.weight_grads = np.dot(np.atleast_2d(self.step_input).T, cur_delta)/cur_delta.shape[0]\n",
    "        self.bias_grads = cur_delta.mean(axis=0)\n",
    "        return np.dot(cur_delta, self.weights.T)\n",
    "    \n",
    "    def update(self):\n",
    "        \"\"\"Update weights of each input nodes using calculated gradients for last step.\n",
    "        Use pre-specified GD updater for accelerating convergance during GD update.\n",
    "        \"\"\"\n",
    "        weight_deltas, bias_deltas = \\\n",
    "            self.gd_updater.apply(self.layer_id, self.weight_grads, self.bias_grads)\n",
    "        self.weights -= weight_deltas\n",
    "        if self.has_bias:\n",
    "            self.bias -= bias_deltas"
   ]
  },
  {
   "cell_type": "markdown",
   "metadata": {},
   "source": [
    "---"
   ]
  },
  {
   "cell_type": "markdown",
   "metadata": {},
   "source": [
    "nn model"
   ]
  },
  {
   "cell_type": "code",
   "execution_count": 17,
   "metadata": {},
   "outputs": [],
   "source": [
    "class NNModel:\n",
    "    def __init__(self, X_size, gd_updater):\n",
    "        \"\"\"Init function.\n",
    "        \n",
    "        Attributes:\n",
    "            X_size (int): number of input data\n",
    "            gd_updater (GDUpdater): gradient descent updater for GD update\n",
    "            model (list(NNLayer)): layers of current model\n",
    "        \"\"\"\n",
    "        self.X_size = X_size\n",
    "        self.gd_updater = gd_updater\n",
    "        self.model = []\n",
    "    \n",
    "    def add_layer(self, layer):\n",
    "        \"\"\"Add one layer to the model.\n",
    "        \n",
    "        Args:\n",
    "            layer (NNLayer): Layer to be added\n",
    "        \"\"\"\n",
    "        input_size = self.X_size\n",
    "        if self.model:\n",
    "            input_size = self.model[-1].node_count\n",
    "        layer.init(input_size, self.gd_updater)\n",
    "        self.model.append(layer)\n",
    "    \n",
    "    def model_forward(self, X, learning=True):\n",
    "        \"\"\"Forward pass, Run through each layers with given input X to get predict value.\n",
    "        Support both batch and single sample.\n",
    "        Intermediate result is stored for back propagation if learning is set to True.\n",
    "        \n",
    "        Args:\n",
    "            X (np.array): input data\n",
    "            learning (boolean): flag if current step is in learning period\n",
    "                During learning period, intermediate result is stored for back propagation.\n",
    "        \n",
    "        Returns:\n",
    "            Result calculated by current model(all layers)\n",
    "        \"\"\"\n",
    "        cur_res = X\n",
    "        for layer in self.model:\n",
    "            cur_res = layer.forward(cur_res, learning=learning)\n",
    "        return cur_res\n",
    "    \n",
    "    def predict(self, X):\n",
    "        \"\"\"Forward pass, run through each layers with given input X to get predict value.\n",
    "        Support both batch and single sample.\n",
    "        Intermediate result is not stored.\n",
    "        \n",
    "        Args:\n",
    "            X (np.array): input data\n",
    "        \n",
    "        Returns:\n",
    "            Result calculated by current model\n",
    "        \"\"\"\n",
    "        return self.model_forward(X, learning=False)\n",
    "    \n",
    "    def update_model(self, y_predict, y):\n",
    "        \"\"\"Update parameters of each layer using errs (y_predict - y) in current step.\n",
    "        \n",
    "        Args:\n",
    "            y_predict (np.array): predict values\n",
    "            y (np.array): target data\n",
    "        \"\"\"\n",
    "        delta = np.atleast_2d(y_predict - y)\n",
    "        for layer in reversed(self.model):\n",
    "            delta = layer.back_propagation(delta, activation_derivatived=(layer==self.model[-1]))\n",
    "        for layer in self.model:\n",
    "            layer.update()"
   ]
  },
  {
   "cell_type": "markdown",
   "metadata": {},
   "source": [
    "---"
   ]
  },
  {
   "cell_type": "markdown",
   "metadata": {},
   "source": [
    "test"
   ]
  },
  {
   "cell_type": "code",
   "execution_count": 85,
   "metadata": {},
   "outputs": [],
   "source": [
    "import matplotlib.pyplot as plt\n",
    "import sklearn.datasets\n",
    "from sklearn import metrics"
   ]
  },
  {
   "cell_type": "code",
   "execution_count": 86,
   "metadata": {},
   "outputs": [],
   "source": [
    "test_data = sklearn.datasets.load_boston(return_X_y=False)"
   ]
  },
  {
   "cell_type": "code",
   "execution_count": 87,
   "metadata": {},
   "outputs": [],
   "source": [
    "test_data_x_org = test_data['data']\n",
    "test_data_y_org = test_data['target']"
   ]
  },
  {
   "cell_type": "code",
   "execution_count": 88,
   "metadata": {},
   "outputs": [
    {
     "data": {
      "text/plain": [
       "(506, 13)"
      ]
     },
     "execution_count": 88,
     "metadata": {},
     "output_type": "execute_result"
    }
   ],
   "source": [
    "test_data_x_org.shape"
   ]
  },
  {
   "cell_type": "code",
   "execution_count": 89,
   "metadata": {},
   "outputs": [],
   "source": [
    "test_data_std = (test_data_x_org - np.mean(test_data_x_org, axis=0)) / np.std(test_data_x_org, axis=0)"
   ]
  },
  {
   "cell_type": "code",
   "execution_count": 90,
   "metadata": {},
   "outputs": [],
   "source": [
    "test_data_x = test_data_std[:450]\n",
    "test_data_y = test_data_y_org[:450]"
   ]
  },
  {
   "cell_type": "code",
   "execution_count": 233,
   "metadata": {},
   "outputs": [],
   "source": [
    "learning_rate = 0.01"
   ]
  },
  {
   "cell_type": "code",
   "execution_count": 234,
   "metadata": {},
   "outputs": [],
   "source": [
    "rounds = 2000"
   ]
  },
  {
   "cell_type": "code",
   "execution_count": 235,
   "metadata": {},
   "outputs": [],
   "source": [
    "batch_size = 50"
   ]
  },
  {
   "cell_type": "code",
   "execution_count": 246,
   "metadata": {
    "scrolled": true
   },
   "outputs": [],
   "source": [
    "m = NNModel(test_data_x.shape[1], GDUpdaterRMSprop())"
   ]
  },
  {
   "cell_type": "code",
   "execution_count": 247,
   "metadata": {},
   "outputs": [],
   "source": [
    "# m.add_layer(FCLayer(20, False, ActivationNone()))\n",
    "m.add_layer(FCLayer(node_count=10, activation=ActivationNone()))\n",
    "m.add_layer(FCLayer(node_count=1, activation=ActivationNone()))"
   ]
  },
  {
   "cell_type": "code",
   "execution_count": 248,
   "metadata": {
    "scrolled": true
   },
   "outputs": [
    {
     "name": "stdout",
     "output_type": "stream",
     "text": [
      "Wall time: 3.62 s\n"
     ]
    }
   ],
   "source": [
    "%%time\n",
    "all_cost = []\n",
    "all_cost_ce = []\n",
    "for _ in range(rounds):\n",
    "    cost = 0\n",
    "    cost_ce = 0\n",
    "    learning_idx = np.arange(len(test_data_x))\n",
    "    np.random.shuffle(learning_idx)\n",
    "    \n",
    "    for start_idx in range(0, len(test_data_x), batch_size):\n",
    "        data_idx = learning_idx[start_idx : min(start_idx+batch_size,len(test_data_x))]\n",
    "#         data_idx = learning_idx[start_idx]\n",
    "        sample, target = test_data_x[data_idx], test_data_y[data_idx,None]\n",
    "        predict = m.model_forward(sample)\n",
    "        err = predict - target\n",
    "        m.update_model(predict, target)\n",
    "        cost += (err*err).sum()\n",
    "#         cost_ce -= (target*np.log(predict)+(1-target)*np.log(1-predict)).sum()\n",
    "    all_cost.append(cost)\n",
    "    all_cost_ce.append(cost_ce)"
   ]
  },
  {
   "cell_type": "code",
   "execution_count": 249,
   "metadata": {},
   "outputs": [
    {
     "data": {
      "text/plain": [
       "10555.44476988625"
      ]
     },
     "execution_count": 249,
     "metadata": {},
     "output_type": "execute_result"
    }
   ],
   "source": [
    "all_cost[-1]"
   ]
  },
  {
   "cell_type": "raw",
   "metadata": {},
   "source": [
    "all_cost_ce[-1]"
   ]
  },
  {
   "cell_type": "code",
   "execution_count": 250,
   "metadata": {
    "scrolled": false
   },
   "outputs": [
    {
     "data": {
      "text/plain": [
       "[<matplotlib.lines.Line2D at 0xe54dbb0>]"
      ]
     },
     "execution_count": 250,
     "metadata": {},
     "output_type": "execute_result"
    },
    {
     "data": {
      "image/png": "[encoded data removed]",
      "text/plain": [
       "<matplotlib.figure.Figure at 0xe3cf9d0>"
      ]
     },
     "metadata": {},
     "output_type": "display_data"
    }
   ],
   "source": [
    "plt.figure(figsize=(15,6))\n",
    "plt.plot(all_cost)"
   ]
  },
  {
   "cell_type": "code",
   "execution_count": 251,
   "metadata": {},
   "outputs": [],
   "source": [
    "predict_data_x = test_data_std[450:]\n",
    "predict_data_y = test_data_y_org[450:]"
   ]
  },
  {
   "cell_type": "code",
   "execution_count": 252,
   "metadata": {},
   "outputs": [],
   "source": [
    "predict_y = []\n",
    "for sample, tgt in zip(predict_data_x, predict_data_y):\n",
    "    pct = m.model_forward(sample)\n",
    "    predict_y.append(pct)"
   ]
  },
  {
   "cell_type": "raw",
   "metadata": {},
   "source": [
    "metrics.accuracy_score(predict_data_y, [1 if pct > 0.5 else 0 for pct in predict_y])"
   ]
  },
  {
   "cell_type": "raw",
   "metadata": {},
   "source": [
    "metrics.confusion_matrix(predict_data_y, [1 if pct > 0.5 else 0 for pct in predict_y])"
   ]
  },
  {
   "cell_type": "code",
   "execution_count": 253,
   "metadata": {
    "scrolled": true
   },
   "outputs": [
    {
     "data": {
      "text/plain": [
       "11.360365785711753"
      ]
     },
     "execution_count": 253,
     "metadata": {},
     "output_type": "execute_result"
    }
   ],
   "source": [
    "metrics.mean_squared_error(predict_data_y, predict_y)"
   ]
  },
  {
   "cell_type": "markdown",
   "metadata": {},
   "source": [
    "test_ob"
   ]
  },
  {
   "cell_type": "code",
   "execution_count": 244,
   "metadata": {},
   "outputs": [
    {
     "data": {
      "text/plain": [
       "array([13.4, 15.2, 16.1, 17.8, 14.9, 14.1, 12.7, 13.5, 14.9, 20. , 16.4,\n",
       "       17.7, 19.5, 20.2, 21.4, 19.9, 19. , 19.1, 19.1, 20.1, 19.9, 19.6,\n",
       "       23.2, 29.8, 13.8, 13.3, 16.7, 12. , 14.6, 21.4, 23. , 23.7, 25. ,\n",
       "       21.8, 20.6, 21.2, 19.1, 20.6, 15.2,  7. ,  8.1, 13.6, 20.1, 21.8,\n",
       "       24.5, 23.1, 19.7, 18.3, 21.2, 17.5, 16.8, 22.4, 20.6, 23.9, 22. ,\n",
       "       11.9])"
      ]
     },
     "execution_count": 244,
     "metadata": {},
     "output_type": "execute_result"
    }
   ],
   "source": [
    "predict_data_y"
   ]
  },
  {
   "cell_type": "code",
   "execution_count": 245,
   "metadata": {
    "scrolled": true
   },
   "outputs": [
    {
     "data": {
      "text/plain": [
       "[array([16.67015233315926]),\n",
       " array([19.980848042032374]),\n",
       " array([19.04222217531037]),\n",
       " array([23.36728988604503]),\n",
       " array([15.363414347558184]),\n",
       " array([15.893719207164278]),\n",
       " array([12.506628768998212]),\n",
       " array([12.700568622780867]),\n",
       " array([17.508780664417216]),\n",
       " array([18.990661286728354]),\n",
       " array([19.537137943199436]),\n",
       " array([20.79259552935968]),\n",
       " array([20.357518627844968]),\n",
       " array([23.322061447320014]),\n",
       " array([20.821352165407163]),\n",
       " array([18.032916353142653]),\n",
       " array([14.340300863001808]),\n",
       " array([17.19222542783421]),\n",
       " array([17.155359141266803]),\n",
       " array([18.793513785587685]),\n",
       " array([20.743208708273162]),\n",
       " array([23.840138991324277]),\n",
       " array([23.14233701414988]),\n",
       " array([26.441944810505447]),\n",
       " array([16.59642958586252]),\n",
       " array([16.224713151116454]),\n",
       " array([21.095798063971685]),\n",
       " array([11.280095125973304]),\n",
       " array([19.65100726033516]),\n",
       " array([22.45744965150684]),\n",
       " array([24.246926890215523]),\n",
       " array([28.26489302941579]),\n",
       " array([29.899032458926758]),\n",
       " array([21.589290891777]),\n",
       " array([19.77753003771975]),\n",
       " array([22.931272256415426]),\n",
       " array([20.258220578320138]),\n",
       " array([21.806350967961553]),\n",
       " array([10.52893630278163]),\n",
       " array([6.5709380009664216]),\n",
       " array([1.5929374463981567]),\n",
       " array([12.652560786952114]),\n",
       " array([14.962335300318408]),\n",
       " array([20.667715481292166]),\n",
       " array([20.559442567008414]),\n",
       " array([16.462870823365346]),\n",
       " array([13.66566642058124]),\n",
       " array([19.232413916740505]),\n",
       " array([21.486407145758452]),\n",
       " array([18.447263048260872]),\n",
       " array([20.706399386618585]),\n",
       " array([24.224497582147084]),\n",
       " array([22.991690896870484]),\n",
       " array([28.802506919416448]),\n",
       " array([27.1961919842311]),\n",
       " array([23.033999668990162])]"
      ]
     },
     "execution_count": 245,
     "metadata": {},
     "output_type": "execute_result"
    }
   ],
   "source": [
    "predict_y"
   ]
  },
  {
   "cell_type": "code",
   "execution_count": null,
   "metadata": {},
   "outputs": [],
   "source": []
  }
 ],
 "metadata": {
  "kernelspec": {
   "display_name": "Python 3",
   "language": "python",
   "name": "python3"
  },
  "language_info": {
   "codemirror_mode": {
    "name": "ipython",
    "version": 3
   },
   "file_extension": ".py",
   "mimetype": "text/x-python",
   "name": "python",
   "nbconvert_exporter": "python",
   "pygments_lexer": "ipython3",
   "version": "3.6.4"
  }
 },
 "nbformat": 4,
 "nbformat_minor": 2
}
