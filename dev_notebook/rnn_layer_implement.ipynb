{
 "cells": [
  {
   "cell_type": "code",
   "execution_count": null,
   "metadata": {
    "collapsed": true
   },
   "outputs": [],
   "source": [
    "import abc"
   ]
  },
  {
   "cell_type": "code",
   "execution_count": null,
   "metadata": {
    "collapsed": true
   },
   "outputs": [],
   "source": [
    "import numpy as np"
   ]
  },
  {
   "cell_type": "code",
   "execution_count": null,
   "metadata": {
    "collapsed": true
   },
   "outputs": [],
   "source": [
    "np.seterr(all='raise', under='warn')"
   ]
  },
  {
   "cell_type": "code",
   "execution_count": null,
   "metadata": {
    "collapsed": true
   },
   "outputs": [],
   "source": [
    "np.set_printoptions(precision=20)"
   ]
  },
  {
   "cell_type": "code",
   "execution_count": null,
   "metadata": {
    "collapsed": true
   },
   "outputs": [],
   "source": [
    "from simple_nn.nn_layer import *\n",
    "from simple_nn.activation_function import *\n",
    "from simple_nn.gd_updater import *\n",
    "from simple_nn.nn_model import *"
   ]
  },
  {
   "cell_type": "code",
   "execution_count": null,
   "metadata": {
    "collapsed": true
   },
   "outputs": [],
   "source": [
    "class ActivationTanh(ActivationFunction):\n",
    "    \n",
    "    def __init__(self):\n",
    "        \"\"\"Init function. Do nothing.\"\"\"\n",
    "        pass\n",
    "    \n",
    "    @property\n",
    "    def derivative_use_activated(self):\n",
    "        return True\n",
    "    \n",
    "    def apply(self, v):\n",
    "        return np.tanh(v)\n",
    "    \n",
    "    def derivative(self, v):\n",
    "        return 1 - v**2"
   ]
  },
  {
   "cell_type": "code",
   "execution_count": null,
   "metadata": {
    "collapsed": true
   },
   "outputs": [],
   "source": [
    "class ActivationSoftmax(ActivationFunction):\n",
    "    \n",
    "    def __init__(self):\n",
    "        \"\"\"Init function. Do nothing.\"\"\"\n",
    "        pass\n",
    "    \n",
    "    @property\n",
    "    def derivative_use_activated(self):\n",
    "        return True\n",
    "    \n",
    "    def apply(self, v):\n",
    "        return np.exp(v) / np.sum(np.exp(v), axis=0)\n",
    "    \n",
    "    def derivative(self, v):\n",
    "        return v * (1 - v)"
   ]
  },
  {
   "cell_type": "code",
   "execution_count": null,
   "metadata": {
    "collapsed": true
   },
   "outputs": [],
   "source": [
    "class RNNLayer(NNLayer):\n",
    "    \n",
    "    def __init__(self, node_count, bptt_truncate=float(\"inf\"), has_bias=True, activation=ActivationTanh()):\n",
    "        self.layer_id = None\n",
    "        self.node_count = node_count\n",
    "        self.has_bias = has_bias\n",
    "        self.activation = activation\n",
    "        self.gd_updater = None\n",
    "        self.weights = None\n",
    "        self.bias = None\n",
    "        self.step_input = None\n",
    "        self.reduced_sum = None\n",
    "        self.step_output = None\n",
    "        self.hidden_state = np.zeros(self.node_count)\n",
    "        self.bptt_truncate = bptt_truncate\n",
    "    \n",
    "    def init(self, input_count, gd_updater):\n",
    "        self.layer_id = id(self)\n",
    "        self.gd_updater = gd_updater\n",
    "        self.weights, self.bias = self.xavier_weight_init(\n",
    "            input_count+self.node_count, self.node_count, self.has_bias\n",
    "        )\n",
    "        self.gd_updater.register_layer(self.layer_id, self.weights.shape, self.bias.shape)\n",
    "    \n",
    "    def forward(self, step_input, learning=True, reset_state=True):\n",
    "        if reset_state:\n",
    "            self.hidden_state = np.zeros(self.node_count)\n",
    "        actual_input = np.zeros((len(step_inputs),self.node_count+len(step_inputs[0])))\n",
    "        reduced_sum = np.zeros((len(step_inputs),self.node_count))\n",
    "        step_output = np.zeros((len(step_inputs),self.node_count))\n",
    "        for idx, single_input in enumerate(step_input):\n",
    "            actual_input[idx] = np.concatenate((single_input, self.hidden_state), axis=1)\n",
    "            reduced_sum[idx] = np.dot(t, self.weights) + self.bias\n",
    "            step_output[idx] = self.activation.apply(reduced_sum[idx])\n",
    "            self.hidden_state = step_output[-1]\n",
    "        if learning:\n",
    "            self.step_input = actual_input\n",
    "            self.reduced_sum = reduced_sum\n",
    "            self.step_output = step_output\n",
    "        return step_output\n",
    "    \n",
    "    # TODO: Need carefully check and test\n",
    "    def back_propagation(self, prev_delta, activation_derivatived=False):\n",
    "        cur_delta = None\n",
    "        if activation_derivatived:\n",
    "            cur_delta = prev_delta\n",
    "        elif self.activation.derivative_use_activated:\n",
    "            cur_delta = prev_delta * self.activation.derivative(self.step_output)\n",
    "        else:\n",
    "            cur_delta = prev_delta * self.activation.derivative(self.reduced_sum)\n",
    "        step_input = self.step_input\n",
    "        weight_grads, bias_grads = 0, 0\n",
    "        # prev_delta = np.zeros((len(step_inputs),self.node_count))\n",
    "        \n",
    "        # BPTT?\n",
    "        for i in range(min(self.bptt_truncate, len(self.step_output))):\n",
    "            step_input = step_input[:len(cur_delta)-i]\n",
    "            \n",
    "            weight_grads += np.dot(np.atleast_2d(step_input).T, cur_delta)\n",
    "            bias_grads += cur_delta.sum(axis=0)\n",
    "            \n",
    "            cur_delta = np.dot(cur_delta, self.weights.T)\n",
    "            # TODO: confirmation: should i average delta here for all steps against single input?\n",
    "            prev_delta[:len(cur_delta)-i] = \\\n",
    "                (prev_delta[:len(cur_delta)-i] * (i-1) + cur_delta[:,:len(step_inputs[0])]) / i\n",
    "            cur_delta = \\\n",
    "                (cur_delta * self.activation.derivative(self.reduced_sum[:len(cur_delta)-i]))[1:, len(step_inputs[0]):]\n",
    "        \n",
    "        # TODO: confirmation: should i use mean or sum for gradients?\n",
    "        self.weight_grads = weight_grads / sum(range(len(cur_delta), len(cur_delta)-i, -1))\n",
    "        self.bias_grads = bias_grads / sum(range(len(cur_delta), len(cur_delta)-i, -1))\n",
    "        return prev_delta\n",
    "    \n",
    "    def update(self):\n",
    "        weight_deltas, bias_deltas = \\\n",
    "            self.gd_updater.apply(self.layer_id, self.weight_grads, self.bias_grads)\n",
    "        self.weights -= weight_deltas\n",
    "        if self.has_bias:\n",
    "            self.bias -= bias_deltas"
   ]
  },
  {
   "cell_type": "code",
   "execution_count": null,
   "metadata": {
    "collapsed": true
   },
   "outputs": [],
   "source": []
  },
  {
   "cell_type": "code",
   "execution_count": null,
   "metadata": {
    "collapsed": true
   },
   "outputs": [],
   "source": []
  },
  {
   "cell_type": "code",
   "execution_count": null,
   "metadata": {
    "collapsed": true
   },
   "outputs": [],
   "source": []
  }
 ],
 "metadata": {
  "kernelspec": {
   "display_name": "Python 3",
   "language": "python",
   "name": "python3"
  },
  "language_info": {
   "codemirror_mode": {
    "name": "ipython",
    "version": 3
   },
   "file_extension": ".py",
   "mimetype": "text/x-python",
   "name": "python",
   "nbconvert_exporter": "python",
   "pygments_lexer": "ipython3",
   "version": "3.6.0"
  }
 },
 "nbformat": 4,
 "nbformat_minor": 2
}
