{
 "cells": [
  {
   "cell_type": "code",
   "execution_count": null,
   "metadata": {},
   "outputs": [],
   "source": [
    "import abc"
   ]
  },
  {
   "cell_type": "code",
   "execution_count": null,
   "metadata": {},
   "outputs": [],
   "source": [
    "import numpy as np"
   ]
  },
  {
   "cell_type": "code",
   "execution_count": null,
   "metadata": {},
   "outputs": [],
   "source": [
    "np.seterr(all='raise', under='warn')"
   ]
  },
  {
   "cell_type": "code",
   "execution_count": null,
   "metadata": {},
   "outputs": [],
   "source": [
    "np.set_printoptions(precision=20)"
   ]
  },
  {
   "cell_type": "code",
   "execution_count": null,
   "metadata": {},
   "outputs": [],
   "source": [
    "from simple_nn.nn_layer import *\n",
    "from simple_nn.activation_function import *\n",
    "from simple_nn.gd_updater import *\n",
    "from simple_nn.nn_model import *"
   ]
  },
  {
   "cell_type": "code",
   "execution_count": null,
   "metadata": {},
   "outputs": [],
   "source": [
    "class ActivationTanh(ActivationFunction):\n",
    "    \n",
    "    def __init__(self):\n",
    "        \"\"\"Init function. Do nothing.\"\"\"\n",
    "        pass\n",
    "    \n",
    "    @property\n",
    "    def derivative_use_activated(self):\n",
    "        return True\n",
    "    \n",
    "    def apply(self, v):\n",
    "        return np.tanh(v)\n",
    "    \n",
    "    def derivative(self, v):\n",
    "        return 1 - v**2"
   ]
  },
  {
   "cell_type": "code",
   "execution_count": null,
   "metadata": {},
   "outputs": [],
   "source": [
    "class ActivationSoftmax(ActivationFunction):\n",
    "    \n",
    "    def __init__(self):\n",
    "        \"\"\"Init function. Do nothing.\"\"\"\n",
    "        pass\n",
    "    \n",
    "    @property\n",
    "    def derivative_use_activated(self):\n",
    "        return True\n",
    "    \n",
    "    def apply(self, v):\n",
    "        return np.exp(v) / np.sum(np.exp(v), axis=0)\n",
    "    \n",
    "    def derivative(self, v):\n",
    "        return v * (1 - v)"
   ]
  },
  {
   "cell_type": "code",
   "execution_count": null,
   "metadata": {},
   "outputs": [],
   "source": [
    "class RNNLayer(NNLayer):\n",
    "    \n",
    "    def __init__(self, node_count, bptt_truncate=float(\"inf\"), has_bias=True, activation=ActivationTanh()):\n",
    "        self.layer_id = None\n",
    "        self.node_count = node_count\n",
    "        self.has_bias = has_bias\n",
    "        self.activation = activation\n",
    "        self.gd_updater = None\n",
    "        self.weights = None\n",
    "        self.bias = None\n",
    "        self.step_input = None\n",
    "        self.reduced_sum = None\n",
    "        self.step_output = None\n",
    "        self.hidden_state = np.zeros(self.node_count)\n",
    "        self.bptt_truncate = bptt_truncate\n",
    "    \n",
    "    def init(self, input_count, gd_updater):\n",
    "        self.layer_id = id(self)\n",
    "        self.gd_updater = gd_updater\n",
    "        self.weights, self.bias = self.xavier_weight_init(\n",
    "            input_count+self.node_count, self.node_count, self.has_bias\n",
    "        )\n",
    "        self.gd_updater.register_layer(self.layer_id, self.weights.shape, self.bias.shape)\n",
    "    \n",
    "    def forward(self, step_input, learning=True, reset_state=True):\n",
    "        if reset_state:\n",
    "            self.hidden_state = np.zeros(self.node_count)\n",
    "        actual_input = np.zeros((len(step_inputs),self.node_count+len(step_inputs[0])))\n",
    "        reduced_sum = np.zeros((len(step_inputs),self.node_count))\n",
    "        step_output = np.zeros((len(step_inputs),self.node_count))\n",
    "        for idx, single_input in enumerate(step_input):\n",
    "            actual_input[idx] = np.concatenate((single_input, self.hidden_state), axis=1)\n",
    "            reduced_sum[idx] = np.dot(t, self.weights) + self.bias\n",
    "            step_output[idx] = self.activation.apply(reduced_sum[idx])\n",
    "        self.hidden_state = step_output[-1]\n",
    "        if learning:\n",
    "            self.step_input = actual_input\n",
    "            self.hidden_state = hidden_state\n",
    "            self.step_output = step_output\n",
    "        return step_output\n",
    "    \n",
    "    # TODO\n",
    "    def back_propagation(self, prev_delta, activation_derivatived=False):\n",
    "        cur_delta = None\n",
    "        if activation_derivatived:\n",
    "            cur_delta = prev_delta\n",
    "        elif self.activation.derivative_use_activated:\n",
    "            cur_delta = prev_delta * self.activation.derivative(self.step_output)\n",
    "        else:\n",
    "            cur_delta = prev_delta * self.activation.derivative(self.reduced_sum)\n",
    "        \n",
    "        for i in range(min(self.bptt_truncate, len(self.step_output))):\n",
    "            \n",
    "            \n",
    "        \n",
    "        self.weight_grads = np.dot(np.atleast_2d(self.step_input).T, cur_delta)/cur_delta.shape[0]\n",
    "        self.bias_grads = cur_delta.mean(axis=0)\n",
    "        return np.dot(cur_delta, self.weights.T)\n",
    "    \n",
    "    def update(self):\n",
    "        weight_deltas, bias_deltas = \\\n",
    "            self.gd_updater.apply(self.layer_id, self.weight_grads, self.bias_grads)\n",
    "        self.weights -= weight_deltas\n",
    "        if self.has_bias:\n",
    "            self.bias -= bias_deltas"
   ]
  },
  {
   "cell_type": "code",
   "execution_count": null,
   "metadata": {},
   "outputs": [],
   "source": []
  },
  {
   "cell_type": "code",
   "execution_count": null,
   "metadata": {},
   "outputs": [],
   "source": []
  },
  {
   "cell_type": "code",
   "execution_count": null,
   "metadata": {},
   "outputs": [],
   "source": []
  },
  {
   "cell_type": "code",
   "execution_count": null,
   "metadata": {},
   "outputs": [],
   "source": []
  }
 ],
 "metadata": {
  "kernelspec": {
   "display_name": "Python 3",
   "language": "python",
   "name": "python3"
  },
  "language_info": {
   "codemirror_mode": {
    "name": "ipython",
    "version": 3
   },
   "file_extension": ".py",
   "mimetype": "text/x-python",
   "name": "python",
   "nbconvert_exporter": "python",
   "pygments_lexer": "ipython3",
   "version": "3.6.4"
  }
 },
 "nbformat": 4,
 "nbformat_minor": 2
}
