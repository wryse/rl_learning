{
 "cells": [
  {
   "cell_type": "code",
   "execution_count": 2,
   "metadata": {},
   "outputs": [],
   "source": [
    "import numpy as np"
   ]
  },
  {
   "cell_type": "code",
   "execution_count": 3,
   "metadata": {},
   "outputs": [],
   "source": [
    "import matplotlib.pyplot as plt"
   ]
  },
  {
   "cell_type": "code",
   "execution_count": 4,
   "metadata": {},
   "outputs": [],
   "source": [
    "from sklearn import metrics"
   ]
  },
  {
   "cell_type": "code",
   "execution_count": 5,
   "metadata": {},
   "outputs": [
    {
     "data": {
      "text/plain": [
       "{'divide': 'warn', 'invalid': 'warn', 'over': 'warn', 'under': 'ignore'}"
      ]
     },
     "execution_count": 5,
     "metadata": {},
     "output_type": "execute_result"
    }
   ],
   "source": [
    "np.seterr(all='raise', under='warn')"
   ]
  },
  {
   "cell_type": "markdown",
   "metadata": {},
   "source": [
    "---"
   ]
  },
  {
   "cell_type": "code",
   "execution_count": 6,
   "metadata": {},
   "outputs": [],
   "source": [
    "# active function: sigmoid\n",
    "def sigmoid(v):\n",
    "    return 1.0 / (1.0 + np.exp(-v.clip(max=500,min=-500)))\n",
    "\n",
    "def sigmoid_derivative(v):\n",
    "    return v * (1 - v)"
   ]
  },
  {
   "cell_type": "code",
   "execution_count": 7,
   "metadata": {},
   "outputs": [],
   "source": [
    "# active function: ReLU\n",
    "def relu(v):\n",
    "    return v.clip(min=0)\n",
    "\n",
    "def relu_derivative(v):\n",
    "    return np.where(v>0,1,0)"
   ]
  },
  {
   "cell_type": "code",
   "execution_count": 8,
   "metadata": {},
   "outputs": [],
   "source": [
    "# model\n",
    "model = []"
   ]
  },
  {
   "cell_type": "code",
   "execution_count": 102,
   "metadata": {},
   "outputs": [],
   "source": [
    "# init model\n",
    "def model_init(input_size, model_define):\n",
    "    model.clear()\n",
    "    prev_node_count = input_size\n",
    "    for node_count, activation_func, activation_derivative in model_define:\n",
    "        model.append([np.random.randn(prev_node_count, node_count)/np.sqrt(prev_node_count),\n",
    "                      np.random.randn(node_count)/np.sqrt(prev_node_count),\n",
    "                      activation_func,\n",
    "                      activation_derivative])\n",
    "        prev_node_count = node_count"
   ]
  },
  {
   "cell_type": "code",
   "execution_count": 10,
   "metadata": {},
   "outputs": [],
   "source": [
    "# batch forward pass, calculate predict value with current model\n",
    "def model_forward(states):\n",
    "    cur_res = states\n",
    "    hidden_layer_input_buf = []\n",
    "    for layer_weight, inter_weight, activation_func, _ in model:\n",
    "        hidden_layer_input_buf.append(cur_res)\n",
    "        cur_res = np.dot(cur_res, layer_weight)\n",
    "        cur_res += inter_weight\n",
    "        if activation_func:\n",
    "            cur_res = activation_func(cur_res)\n",
    "    return cur_res, hidden_layer_input_buf"
   ]
  },
  {
   "cell_type": "code",
   "execution_count": 11,
   "metadata": {},
   "outputs": [],
   "source": [
    "# back propagation to update model\n",
    "def back_propagation(td_err, hidden_layer_input_buf):\n",
    "    grads = []\n",
    "    delta = np.atleast_2d(td_err)\n",
    "    for layer_out, (layer_weight, inter_weight, _, activation_derivative) \\\n",
    "        in zip(reversed(hidden_layer_input_buf), reversed(model)):\n",
    "        grads.append((np.dot(np.atleast_2d(layer_out).T, delta)/delta.shape[0],\n",
    "                      delta.mean(axis=0)))\n",
    "        delta = np.dot(delta, layer_weight.T)\n",
    "        if activation_derivative:\n",
    "            delta = delta * activation_derivative(layer_out)\n",
    "    grads.reverse()\n",
    "    return grads"
   ]
  },
  {
   "cell_type": "code",
   "execution_count": 12,
   "metadata": {},
   "outputs": [],
   "source": [
    "# update model with gradients\n",
    "def update_model(grads):\n",
    "    for i in range(len(model)):\n",
    "        model[i][0] = model[i][0] + learning_rate * grads[i][0]\n",
    "        model[i][1] = model[i][1] + learning_rate * grads[i][1]"
   ]
  },
  {
   "cell_type": "markdown",
   "metadata": {},
   "source": [
    "---"
   ]
  },
  {
   "cell_type": "code",
   "execution_count": 13,
   "metadata": {},
   "outputs": [],
   "source": [
    "import sklearn.datasets"
   ]
  },
  {
   "cell_type": "code",
   "execution_count": 14,
   "metadata": {},
   "outputs": [],
   "source": [
    "test_data = sklearn.datasets.load_breast_cancer(return_X_y=False)"
   ]
  },
  {
   "cell_type": "code",
   "execution_count": 15,
   "metadata": {},
   "outputs": [],
   "source": [
    "test_data_x_org = test_data['data']\n",
    "test_data_y_org = test_data['target']"
   ]
  },
  {
   "cell_type": "code",
   "execution_count": 16,
   "metadata": {},
   "outputs": [
    {
     "data": {
      "text/plain": [
       "(569, 30)"
      ]
     },
     "execution_count": 16,
     "metadata": {},
     "output_type": "execute_result"
    }
   ],
   "source": [
    "test_data_x_org.shape"
   ]
  },
  {
   "cell_type": "code",
   "execution_count": 17,
   "metadata": {},
   "outputs": [],
   "source": [
    "test_data_std = (test_data_x_org - np.mean(test_data_x_org, axis=0)) / np.std(test_data_x_org, axis=0)"
   ]
  },
  {
   "cell_type": "code",
   "execution_count": 103,
   "metadata": {},
   "outputs": [],
   "source": [
    "model_define = [\n",
    "    (20, sigmoid, sigmoid_derivative),\n",
    "    (10, sigmoid, sigmoid_derivative),\n",
    "    (1, sigmoid, sigmoid_derivative),\n",
    "]"
   ]
  },
  {
   "cell_type": "code",
   "execution_count": 104,
   "metadata": {},
   "outputs": [],
   "source": [
    "test_data_x = test_data_std[:500]\n",
    "test_data_y = test_data_y_org[:500]"
   ]
  },
  {
   "cell_type": "code",
   "execution_count": 105,
   "metadata": {},
   "outputs": [],
   "source": [
    "learning_rate = 0.1"
   ]
  },
  {
   "cell_type": "code",
   "execution_count": 106,
   "metadata": {},
   "outputs": [],
   "source": [
    "rounds = 200"
   ]
  },
  {
   "cell_type": "code",
   "execution_count": 107,
   "metadata": {},
   "outputs": [],
   "source": [
    "batch_size = 1"
   ]
  },
  {
   "cell_type": "code",
   "execution_count": 108,
   "metadata": {},
   "outputs": [],
   "source": [
    "model_init(test_data_x.shape[1], model_define)"
   ]
  },
  {
   "cell_type": "code",
   "execution_count": 109,
   "metadata": {
    "scrolled": true
   },
   "outputs": [
    {
     "name": "stdout",
     "output_type": "stream",
     "text": [
      "Wall time: 20.1 s\n"
     ]
    }
   ],
   "source": [
    "%%time\n",
    "all_cost = []\n",
    "all_cost_ce = []\n",
    "for _ in range(rounds):\n",
    "    cost = 0\n",
    "    cost_ce = 0\n",
    "    learning_idx = np.arange(len(test_data_x))\n",
    "    np.random.shuffle(learning_idx)\n",
    "    \n",
    "    for start_idx in range(0, len(test_data_x), batch_size):\n",
    "#         data_idx = learning_idx[start_idx : min(start_idx+batch_size,len(test_data_x))]\n",
    "        data_idx = learning_idx[start_idx]\n",
    "        sample, target = test_data_x[data_idx], test_data_y[data_idx,None]\n",
    "        predict, hid = model_forward(sample)\n",
    "        err = target - predict\n",
    "        grads = back_propagation(err, hid)\n",
    "        update_model(grads)\n",
    "        cost += (err*err).sum()\n",
    "        cost_ce -= (target*np.log(predict)+(1-target)*np.log(1-predict)).sum()\n",
    "    all_cost.append(cost)\n",
    "    all_cost_ce.append(cost_ce)"
   ]
  },
  {
   "cell_type": "code",
   "execution_count": 110,
   "metadata": {
    "scrolled": false
   },
   "outputs": [
    {
     "data": {
      "text/plain": [
       "[<matplotlib.lines.Line2D at 0xb5b0350>]"
      ]
     },
     "execution_count": 110,
     "metadata": {},
     "output_type": "execute_result"
    },
    {
     "data": {
      "image/png": "[encoded data removed]",
      "text/plain": [
       "<matplotlib.figure.Figure at 0xb3d7ed0>"
      ]
     },
     "metadata": {},
     "output_type": "display_data"
    }
   ],
   "source": [
    "plt.figure(figsize=(15,6))\n",
    "plt.plot(all_cost_ce)"
   ]
  },
  {
   "cell_type": "code",
   "execution_count": 111,
   "metadata": {},
   "outputs": [],
   "source": [
    "predict_data_x = test_data_std[500:]\n",
    "predict_data_y = test_data_y_org[500:]"
   ]
  },
  {
   "cell_type": "code",
   "execution_count": 112,
   "metadata": {},
   "outputs": [],
   "source": [
    "predict_y = []\n",
    "for sample, tgt in zip(predict_data_x, predict_data_y):\n",
    "    pct, _ = model_forward(sample)\n",
    "    predict_y.append(pct)"
   ]
  },
  {
   "cell_type": "code",
   "execution_count": 113,
   "metadata": {
    "scrolled": true
   },
   "outputs": [
    {
     "data": {
      "text/plain": [
       "array([[17,  0],\n",
       "       [ 1, 51]], dtype=int64)"
      ]
     },
     "execution_count": 113,
     "metadata": {},
     "output_type": "execute_result"
    }
   ],
   "source": [
    "metrics.confusion_matrix(predict_data_y, [1 if pct > 0.5 else 0 for pct in predict_y])"
   ]
  },
  {
   "cell_type": "code",
   "execution_count": 114,
   "metadata": {},
   "outputs": [
    {
     "data": {
      "text/plain": [
       "0.0004769938492753988"
      ]
     },
     "execution_count": 114,
     "metadata": {},
     "output_type": "execute_result"
    }
   ],
   "source": [
    "all_cost[-1]"
   ]
  },
  {
   "cell_type": "code",
   "execution_count": 115,
   "metadata": {},
   "outputs": [
    {
     "data": {
      "text/plain": [
       "0.10472751518255773"
      ]
     },
     "execution_count": 115,
     "metadata": {},
     "output_type": "execute_result"
    }
   ],
   "source": [
    "all_cost_ce[-1]"
   ]
  },
  {
   "cell_type": "markdown",
   "metadata": {},
   "source": [
    "---"
   ]
  },
  {
   "cell_type": "markdown",
   "metadata": {},
   "source": [
    "ob"
   ]
  },
  {
   "cell_type": "code",
   "execution_count": 45,
   "metadata": {},
   "outputs": [],
   "source": [
    "# init model\n",
    "def test_model_init(input_size, model_define):\n",
    "    model.clear()\n",
    "    prev_node_count = input_size\n",
    "    for node_count, activation_func, activation_derivative in model_define:\n",
    "#         model.append([np.random.randn(prev_node_count, node_count)/np.sqrt(prev_node_count),\n",
    "#                       np.random.randn(node_count)/np.sqrt(prev_node_count),\n",
    "#                       activation_func,\n",
    "#                       activation_derivative])\n",
    "        model.append([np.zeros((prev_node_count, node_count))+0.2,\n",
    "                      np.zeros(node_count)+0.2,\n",
    "                      activation_func,\n",
    "                      activation_derivative])\n",
    "        prev_node_count = node_count"
   ]
  },
  {
   "cell_type": "code",
   "execution_count": 46,
   "metadata": {},
   "outputs": [],
   "source": [
    "test_model_init(test_data_x.shape[1], model_define)"
   ]
  },
  {
   "cell_type": "code",
   "execution_count": 47,
   "metadata": {},
   "outputs": [],
   "source": [
    "sample, target = test_data_x[0], test_data_y[0]"
   ]
  },
  {
   "cell_type": "code",
   "execution_count": 48,
   "metadata": {},
   "outputs": [],
   "source": [
    "predict, hid = model_forward(sample)"
   ]
  },
  {
   "cell_type": "code",
   "execution_count": 49,
   "metadata": {},
   "outputs": [
    {
     "data": {
      "text/plain": [
       "array([0.89756353])"
      ]
     },
     "execution_count": 49,
     "metadata": {},
     "output_type": "execute_result"
    }
   ],
   "source": [
    "predict"
   ]
  },
  {
   "cell_type": "code",
   "execution_count": 50,
   "metadata": {},
   "outputs": [
    {
     "data": {
      "text/plain": [
       "[array([ 1.09706398, -2.07333501,  1.26993369,  0.9843749 ,  1.56846633,\n",
       "         3.28351467,  2.65287398,  2.53247522,  2.21751501,  2.25574689,\n",
       "         2.48973393, -0.56526506,  2.83303087,  2.48757756, -0.21400165,\n",
       "         1.31686157,  0.72402616,  0.66081994,  1.14875667,  0.90708308,\n",
       "         1.88668963, -1.35929347,  2.30360062,  2.00123749,  1.30768627,\n",
       "         2.61666502,  2.10952635,  2.29607613,  2.75062224,  1.93701461]),\n",
       " array([0.99990724, 0.99990724, 0.99990724, 0.99990724, 0.99990724,\n",
       "        0.99990724, 0.99990724, 0.99990724, 0.99990724, 0.99990724,\n",
       "        0.99990724, 0.99990724, 0.99990724, 0.99990724, 0.99990724,\n",
       "        0.99990724, 0.99990724, 0.99990724, 0.99990724, 0.99990724]),\n",
       " array([0.98522057, 0.98522057, 0.98522057, 0.98522057, 0.98522057,\n",
       "        0.98522057, 0.98522057, 0.98522057, 0.98522057, 0.98522057])]"
      ]
     },
     "execution_count": 50,
     "metadata": {},
     "output_type": "execute_result"
    }
   ],
   "source": [
    "hid"
   ]
  },
  {
   "cell_type": "code",
   "execution_count": 51,
   "metadata": {},
   "outputs": [],
   "source": [
    "err = target - predict"
   ]
  },
  {
   "cell_type": "code",
   "execution_count": 52,
   "metadata": {},
   "outputs": [],
   "source": [
    "grads = back_propagation(err, hid)"
   ]
  },
  {
   "cell_type": "code",
   "execution_count": 53,
   "metadata": {},
   "outputs": [
    {
     "data": {
      "text/plain": [
       "[(array([[-5.31940558e-07, -5.31940558e-07, -5.31940558e-07,\n",
       "          -5.31940558e-07, -5.31940558e-07, -5.31940558e-07,\n",
       "          -5.31940558e-07, -5.31940558e-07, -5.31940558e-07,\n",
       "          -5.31940558e-07, -5.31940558e-07, -5.31940558e-07,\n",
       "          -5.31940558e-07, -5.31940558e-07, -5.31940558e-07,\n",
       "          -5.31940558e-07, -5.31940558e-07, -5.31940558e-07,\n",
       "          -5.31940558e-07, -5.31940558e-07],\n",
       "         [ 1.00531145e-06,  1.00531145e-06,  1.00531145e-06,\n",
       "           1.00531145e-06,  1.00531145e-06,  1.00531145e-06,\n",
       "           1.00531145e-06,  1.00531145e-06,  1.00531145e-06,\n",
       "           1.00531145e-06,  1.00531145e-06,  1.00531145e-06,\n",
       "           1.00531145e-06,  1.00531145e-06,  1.00531145e-06,\n",
       "           1.00531145e-06,  1.00531145e-06,  1.00531145e-06,\n",
       "           1.00531145e-06,  1.00531145e-06],\n",
       "         [-6.15761019e-07, -6.15761019e-07, -6.15761019e-07,\n",
       "          -6.15761019e-07, -6.15761019e-07, -6.15761019e-07,\n",
       "          -6.15761019e-07, -6.15761019e-07, -6.15761019e-07,\n",
       "          -6.15761019e-07, -6.15761019e-07, -6.15761019e-07,\n",
       "          -6.15761019e-07, -6.15761019e-07, -6.15761019e-07,\n",
       "          -6.15761019e-07, -6.15761019e-07, -6.15761019e-07,\n",
       "          -6.15761019e-07, -6.15761019e-07],\n",
       "         [-4.77300272e-07, -4.77300272e-07, -4.77300272e-07,\n",
       "          -4.77300272e-07, -4.77300272e-07, -4.77300272e-07,\n",
       "          -4.77300272e-07, -4.77300272e-07, -4.77300272e-07,\n",
       "          -4.77300272e-07, -4.77300272e-07, -4.77300272e-07,\n",
       "          -4.77300272e-07, -4.77300272e-07, -4.77300272e-07,\n",
       "          -4.77300272e-07, -4.77300272e-07, -4.77300272e-07,\n",
       "          -4.77300272e-07, -4.77300272e-07],\n",
       "         [-7.60512485e-07, -7.60512485e-07, -7.60512485e-07,\n",
       "          -7.60512485e-07, -7.60512485e-07, -7.60512485e-07,\n",
       "          -7.60512485e-07, -7.60512485e-07, -7.60512485e-07,\n",
       "          -7.60512485e-07, -7.60512485e-07, -7.60512485e-07,\n",
       "          -7.60512485e-07, -7.60512485e-07, -7.60512485e-07,\n",
       "          -7.60512485e-07, -7.60512485e-07, -7.60512485e-07,\n",
       "          -7.60512485e-07, -7.60512485e-07],\n",
       "         [-1.59209914e-06, -1.59209914e-06, -1.59209914e-06,\n",
       "          -1.59209914e-06, -1.59209914e-06, -1.59209914e-06,\n",
       "          -1.59209914e-06, -1.59209914e-06, -1.59209914e-06,\n",
       "          -1.59209914e-06, -1.59209914e-06, -1.59209914e-06,\n",
       "          -1.59209914e-06, -1.59209914e-06, -1.59209914e-06,\n",
       "          -1.59209914e-06, -1.59209914e-06, -1.59209914e-06,\n",
       "          -1.59209914e-06, -1.59209914e-06],\n",
       "         [-1.28631629e-06, -1.28631629e-06, -1.28631629e-06,\n",
       "          -1.28631629e-06, -1.28631629e-06, -1.28631629e-06,\n",
       "          -1.28631629e-06, -1.28631629e-06, -1.28631629e-06,\n",
       "          -1.28631629e-06, -1.28631629e-06, -1.28631629e-06,\n",
       "          -1.28631629e-06, -1.28631629e-06, -1.28631629e-06,\n",
       "          -1.28631629e-06, -1.28631629e-06, -1.28631629e-06,\n",
       "          -1.28631629e-06, -1.28631629e-06],\n",
       "         [-1.22793775e-06, -1.22793775e-06, -1.22793775e-06,\n",
       "          -1.22793775e-06, -1.22793775e-06, -1.22793775e-06,\n",
       "          -1.22793775e-06, -1.22793775e-06, -1.22793775e-06,\n",
       "          -1.22793775e-06, -1.22793775e-06, -1.22793775e-06,\n",
       "          -1.22793775e-06, -1.22793775e-06, -1.22793775e-06,\n",
       "          -1.22793775e-06, -1.22793775e-06, -1.22793775e-06,\n",
       "          -1.22793775e-06, -1.22793775e-06],\n",
       "         [-1.07522094e-06, -1.07522094e-06, -1.07522094e-06,\n",
       "          -1.07522094e-06, -1.07522094e-06, -1.07522094e-06,\n",
       "          -1.07522094e-06, -1.07522094e-06, -1.07522094e-06,\n",
       "          -1.07522094e-06, -1.07522094e-06, -1.07522094e-06,\n",
       "          -1.07522094e-06, -1.07522094e-06, -1.07522094e-06,\n",
       "          -1.07522094e-06, -1.07522094e-06, -1.07522094e-06,\n",
       "          -1.07522094e-06, -1.07522094e-06],\n",
       "         [-1.09375868e-06, -1.09375868e-06, -1.09375868e-06,\n",
       "          -1.09375868e-06, -1.09375868e-06, -1.09375868e-06,\n",
       "          -1.09375868e-06, -1.09375868e-06, -1.09375868e-06,\n",
       "          -1.09375868e-06, -1.09375868e-06, -1.09375868e-06,\n",
       "          -1.09375868e-06, -1.09375868e-06, -1.09375868e-06,\n",
       "          -1.09375868e-06, -1.09375868e-06, -1.09375868e-06,\n",
       "          -1.09375868e-06, -1.09375868e-06],\n",
       "         [-1.20721351e-06, -1.20721351e-06, -1.20721351e-06,\n",
       "          -1.20721351e-06, -1.20721351e-06, -1.20721351e-06,\n",
       "          -1.20721351e-06, -1.20721351e-06, -1.20721351e-06,\n",
       "          -1.20721351e-06, -1.20721351e-06, -1.20721351e-06,\n",
       "          -1.20721351e-06, -1.20721351e-06, -1.20721351e-06,\n",
       "          -1.20721351e-06, -1.20721351e-06, -1.20721351e-06,\n",
       "          -1.20721351e-06, -1.20721351e-06],\n",
       "         [ 2.74083751e-07,  2.74083751e-07,  2.74083751e-07,\n",
       "           2.74083751e-07,  2.74083751e-07,  2.74083751e-07,\n",
       "           2.74083751e-07,  2.74083751e-07,  2.74083751e-07,\n",
       "           2.74083751e-07,  2.74083751e-07,  2.74083751e-07,\n",
       "           2.74083751e-07,  2.74083751e-07,  2.74083751e-07,\n",
       "           2.74083751e-07,  2.74083751e-07,  2.74083751e-07,\n",
       "           2.74083751e-07,  2.74083751e-07],\n",
       "         [-1.37367013e-06, -1.37367013e-06, -1.37367013e-06,\n",
       "          -1.37367013e-06, -1.37367013e-06, -1.37367013e-06,\n",
       "          -1.37367013e-06, -1.37367013e-06, -1.37367013e-06,\n",
       "          -1.37367013e-06, -1.37367013e-06, -1.37367013e-06,\n",
       "          -1.37367013e-06, -1.37367013e-06, -1.37367013e-06,\n",
       "          -1.37367013e-06, -1.37367013e-06, -1.37367013e-06,\n",
       "          -1.37367013e-06, -1.37367013e-06],\n",
       "         [-1.20616793e-06, -1.20616793e-06, -1.20616793e-06,\n",
       "          -1.20616793e-06, -1.20616793e-06, -1.20616793e-06,\n",
       "          -1.20616793e-06, -1.20616793e-06, -1.20616793e-06,\n",
       "          -1.20616793e-06, -1.20616793e-06, -1.20616793e-06,\n",
       "          -1.20616793e-06, -1.20616793e-06, -1.20616793e-06,\n",
       "          -1.20616793e-06, -1.20616793e-06, -1.20616793e-06,\n",
       "          -1.20616793e-06, -1.20616793e-06],\n",
       "         [ 1.03764372e-07,  1.03764372e-07,  1.03764372e-07,\n",
       "           1.03764372e-07,  1.03764372e-07,  1.03764372e-07,\n",
       "           1.03764372e-07,  1.03764372e-07,  1.03764372e-07,\n",
       "           1.03764372e-07,  1.03764372e-07,  1.03764372e-07,\n",
       "           1.03764372e-07,  1.03764372e-07,  1.03764372e-07,\n",
       "           1.03764372e-07,  1.03764372e-07,  1.03764372e-07,\n",
       "           1.03764372e-07,  1.03764372e-07],\n",
       "         [-6.38515246e-07, -6.38515246e-07, -6.38515246e-07,\n",
       "          -6.38515246e-07, -6.38515246e-07, -6.38515246e-07,\n",
       "          -6.38515246e-07, -6.38515246e-07, -6.38515246e-07,\n",
       "          -6.38515246e-07, -6.38515246e-07, -6.38515246e-07,\n",
       "          -6.38515246e-07, -6.38515246e-07, -6.38515246e-07,\n",
       "          -6.38515246e-07, -6.38515246e-07, -6.38515246e-07,\n",
       "          -6.38515246e-07, -6.38515246e-07],\n",
       "         [-3.51063279e-07, -3.51063279e-07, -3.51063279e-07,\n",
       "          -3.51063279e-07, -3.51063279e-07, -3.51063279e-07,\n",
       "          -3.51063279e-07, -3.51063279e-07, -3.51063279e-07,\n",
       "          -3.51063279e-07, -3.51063279e-07, -3.51063279e-07,\n",
       "          -3.51063279e-07, -3.51063279e-07, -3.51063279e-07,\n",
       "          -3.51063279e-07, -3.51063279e-07, -3.51063279e-07,\n",
       "          -3.51063279e-07, -3.51063279e-07],\n",
       "         [-3.20416069e-07, -3.20416069e-07, -3.20416069e-07,\n",
       "          -3.20416069e-07, -3.20416069e-07, -3.20416069e-07,\n",
       "          -3.20416069e-07, -3.20416069e-07, -3.20416069e-07,\n",
       "          -3.20416069e-07, -3.20416069e-07, -3.20416069e-07,\n",
       "          -3.20416069e-07, -3.20416069e-07, -3.20416069e-07,\n",
       "          -3.20416069e-07, -3.20416069e-07, -3.20416069e-07,\n",
       "          -3.20416069e-07, -3.20416069e-07],\n",
       "         [-5.57005127e-07, -5.57005127e-07, -5.57005127e-07,\n",
       "          -5.57005127e-07, -5.57005127e-07, -5.57005127e-07,\n",
       "          -5.57005127e-07, -5.57005127e-07, -5.57005127e-07,\n",
       "          -5.57005127e-07, -5.57005127e-07, -5.57005127e-07,\n",
       "          -5.57005127e-07, -5.57005127e-07, -5.57005127e-07,\n",
       "          -5.57005127e-07, -5.57005127e-07, -5.57005127e-07,\n",
       "          -5.57005127e-07, -5.57005127e-07],\n",
       "         [-4.39823282e-07, -4.39823282e-07, -4.39823282e-07,\n",
       "          -4.39823282e-07, -4.39823282e-07, -4.39823282e-07,\n",
       "          -4.39823282e-07, -4.39823282e-07, -4.39823282e-07,\n",
       "          -4.39823282e-07, -4.39823282e-07, -4.39823282e-07,\n",
       "          -4.39823282e-07, -4.39823282e-07, -4.39823282e-07,\n",
       "          -4.39823282e-07, -4.39823282e-07, -4.39823282e-07,\n",
       "          -4.39823282e-07, -4.39823282e-07],\n",
       "         [-9.14811487e-07, -9.14811487e-07, -9.14811487e-07,\n",
       "          -9.14811487e-07, -9.14811487e-07, -9.14811487e-07,\n",
       "          -9.14811487e-07, -9.14811487e-07, -9.14811487e-07,\n",
       "          -9.14811487e-07, -9.14811487e-07, -9.14811487e-07,\n",
       "          -9.14811487e-07, -9.14811487e-07, -9.14811487e-07,\n",
       "          -9.14811487e-07, -9.14811487e-07, -9.14811487e-07,\n",
       "          -9.14811487e-07, -9.14811487e-07],\n",
       "         [ 6.59089480e-07,  6.59089480e-07,  6.59089480e-07,\n",
       "           6.59089480e-07,  6.59089480e-07,  6.59089480e-07,\n",
       "           6.59089480e-07,  6.59089480e-07,  6.59089480e-07,\n",
       "           6.59089480e-07,  6.59089480e-07,  6.59089480e-07,\n",
       "           6.59089480e-07,  6.59089480e-07,  6.59089480e-07,\n",
       "           6.59089480e-07,  6.59089480e-07,  6.59089480e-07,\n",
       "           6.59089480e-07,  6.59089480e-07],\n",
       "         [-1.11696184e-06, -1.11696184e-06, -1.11696184e-06,\n",
       "          -1.11696184e-06, -1.11696184e-06, -1.11696184e-06,\n",
       "          -1.11696184e-06, -1.11696184e-06, -1.11696184e-06,\n",
       "          -1.11696184e-06, -1.11696184e-06, -1.11696184e-06,\n",
       "          -1.11696184e-06, -1.11696184e-06, -1.11696184e-06,\n",
       "          -1.11696184e-06, -1.11696184e-06, -1.11696184e-06,\n",
       "          -1.11696184e-06, -1.11696184e-06],\n",
       "         [-9.70353056e-07, -9.70353056e-07, -9.70353056e-07,\n",
       "          -9.70353056e-07, -9.70353056e-07, -9.70353056e-07,\n",
       "          -9.70353056e-07, -9.70353056e-07, -9.70353056e-07,\n",
       "          -9.70353056e-07, -9.70353056e-07, -9.70353056e-07,\n",
       "          -9.70353056e-07, -9.70353056e-07, -9.70353056e-07,\n",
       "          -9.70353056e-07, -9.70353056e-07, -9.70353056e-07,\n",
       "          -9.70353056e-07, -9.70353056e-07],\n",
       "         [-6.34066360e-07, -6.34066360e-07, -6.34066360e-07,\n",
       "          -6.34066360e-07, -6.34066360e-07, -6.34066360e-07,\n",
       "          -6.34066360e-07, -6.34066360e-07, -6.34066360e-07,\n",
       "          -6.34066360e-07, -6.34066360e-07, -6.34066360e-07,\n",
       "          -6.34066360e-07, -6.34066360e-07, -6.34066360e-07,\n",
       "          -6.34066360e-07, -6.34066360e-07, -6.34066360e-07,\n",
       "          -6.34066360e-07, -6.34066360e-07],\n",
       "         [-1.26875941e-06, -1.26875941e-06, -1.26875941e-06,\n",
       "          -1.26875941e-06, -1.26875941e-06, -1.26875941e-06,\n",
       "          -1.26875941e-06, -1.26875941e-06, -1.26875941e-06,\n",
       "          -1.26875941e-06, -1.26875941e-06, -1.26875941e-06,\n",
       "          -1.26875941e-06, -1.26875941e-06, -1.26875941e-06,\n",
       "          -1.26875941e-06, -1.26875941e-06, -1.26875941e-06,\n",
       "          -1.26875941e-06, -1.26875941e-06],\n",
       "         [-1.02285978e-06, -1.02285978e-06, -1.02285978e-06,\n",
       "          -1.02285978e-06, -1.02285978e-06, -1.02285978e-06,\n",
       "          -1.02285978e-06, -1.02285978e-06, -1.02285978e-06,\n",
       "          -1.02285978e-06, -1.02285978e-06, -1.02285978e-06,\n",
       "          -1.02285978e-06, -1.02285978e-06, -1.02285978e-06,\n",
       "          -1.02285978e-06, -1.02285978e-06, -1.02285978e-06,\n",
       "          -1.02285978e-06, -1.02285978e-06],\n",
       "         [-1.11331339e-06, -1.11331339e-06, -1.11331339e-06,\n",
       "          -1.11331339e-06, -1.11331339e-06, -1.11331339e-06,\n",
       "          -1.11331339e-06, -1.11331339e-06, -1.11331339e-06,\n",
       "          -1.11331339e-06, -1.11331339e-06, -1.11331339e-06,\n",
       "          -1.11331339e-06, -1.11331339e-06, -1.11331339e-06,\n",
       "          -1.11331339e-06, -1.11331339e-06, -1.11331339e-06,\n",
       "          -1.11331339e-06, -1.11331339e-06],\n",
       "         [-1.33371212e-06, -1.33371212e-06, -1.33371212e-06,\n",
       "          -1.33371212e-06, -1.33371212e-06, -1.33371212e-06,\n",
       "          -1.33371212e-06, -1.33371212e-06, -1.33371212e-06,\n",
       "          -1.33371212e-06, -1.33371212e-06, -1.33371212e-06,\n",
       "          -1.33371212e-06, -1.33371212e-06, -1.33371212e-06,\n",
       "          -1.33371212e-06, -1.33371212e-06, -1.33371212e-06,\n",
       "          -1.33371212e-06, -1.33371212e-06],\n",
       "         [-9.39212891e-07, -9.39212891e-07, -9.39212891e-07,\n",
       "          -9.39212891e-07, -9.39212891e-07, -9.39212891e-07,\n",
       "          -9.39212891e-07, -9.39212891e-07, -9.39212891e-07,\n",
       "          -9.39212891e-07, -9.39212891e-07, -9.39212891e-07,\n",
       "          -9.39212891e-07, -9.39212891e-07, -9.39212891e-07,\n",
       "          -9.39212891e-07, -9.39212891e-07, -9.39212891e-07,\n",
       "          -9.39212891e-07, -9.39212891e-07]]),\n",
       "  array([-4.84876513e-07, -4.84876513e-07, -4.84876513e-07, -4.84876513e-07,\n",
       "         -4.84876513e-07, -4.84876513e-07, -4.84876513e-07, -4.84876513e-07,\n",
       "         -4.84876513e-07, -4.84876513e-07, -4.84876513e-07, -4.84876513e-07,\n",
       "         -4.84876513e-07, -4.84876513e-07, -4.84876513e-07, -4.84876513e-07,\n",
       "         -4.84876513e-07, -4.84876513e-07, -4.84876513e-07, -4.84876513e-07])),\n",
       " (array([[-0.00261364, -0.00261364, -0.00261364, -0.00261364, -0.00261364,\n",
       "          -0.00261364, -0.00261364, -0.00261364, -0.00261364, -0.00261364],\n",
       "         [-0.00261364, -0.00261364, -0.00261364, -0.00261364, -0.00261364,\n",
       "          -0.00261364, -0.00261364, -0.00261364, -0.00261364, -0.00261364],\n",
       "         [-0.00261364, -0.00261364, -0.00261364, -0.00261364, -0.00261364,\n",
       "          -0.00261364, -0.00261364, -0.00261364, -0.00261364, -0.00261364],\n",
       "         [-0.00261364, -0.00261364, -0.00261364, -0.00261364, -0.00261364,\n",
       "          -0.00261364, -0.00261364, -0.00261364, -0.00261364, -0.00261364],\n",
       "         [-0.00261364, -0.00261364, -0.00261364, -0.00261364, -0.00261364,\n",
       "          -0.00261364, -0.00261364, -0.00261364, -0.00261364, -0.00261364],\n",
       "         [-0.00261364, -0.00261364, -0.00261364, -0.00261364, -0.00261364,\n",
       "          -0.00261364, -0.00261364, -0.00261364, -0.00261364, -0.00261364],\n",
       "         [-0.00261364, -0.00261364, -0.00261364, -0.00261364, -0.00261364,\n",
       "          -0.00261364, -0.00261364, -0.00261364, -0.00261364, -0.00261364],\n",
       "         [-0.00261364, -0.00261364, -0.00261364, -0.00261364, -0.00261364,\n",
       "          -0.00261364, -0.00261364, -0.00261364, -0.00261364, -0.00261364],\n",
       "         [-0.00261364, -0.00261364, -0.00261364, -0.00261364, -0.00261364,\n",
       "          -0.00261364, -0.00261364, -0.00261364, -0.00261364, -0.00261364],\n",
       "         [-0.00261364, -0.00261364, -0.00261364, -0.00261364, -0.00261364,\n",
       "          -0.00261364, -0.00261364, -0.00261364, -0.00261364, -0.00261364],\n",
       "         [-0.00261364, -0.00261364, -0.00261364, -0.00261364, -0.00261364,\n",
       "          -0.00261364, -0.00261364, -0.00261364, -0.00261364, -0.00261364],\n",
       "         [-0.00261364, -0.00261364, -0.00261364, -0.00261364, -0.00261364,\n",
       "          -0.00261364, -0.00261364, -0.00261364, -0.00261364, -0.00261364],\n",
       "         [-0.00261364, -0.00261364, -0.00261364, -0.00261364, -0.00261364,\n",
       "          -0.00261364, -0.00261364, -0.00261364, -0.00261364, -0.00261364],\n",
       "         [-0.00261364, -0.00261364, -0.00261364, -0.00261364, -0.00261364,\n",
       "          -0.00261364, -0.00261364, -0.00261364, -0.00261364, -0.00261364],\n",
       "         [-0.00261364, -0.00261364, -0.00261364, -0.00261364, -0.00261364,\n",
       "          -0.00261364, -0.00261364, -0.00261364, -0.00261364, -0.00261364],\n",
       "         [-0.00261364, -0.00261364, -0.00261364, -0.00261364, -0.00261364,\n",
       "          -0.00261364, -0.00261364, -0.00261364, -0.00261364, -0.00261364],\n",
       "         [-0.00261364, -0.00261364, -0.00261364, -0.00261364, -0.00261364,\n",
       "          -0.00261364, -0.00261364, -0.00261364, -0.00261364, -0.00261364],\n",
       "         [-0.00261364, -0.00261364, -0.00261364, -0.00261364, -0.00261364,\n",
       "          -0.00261364, -0.00261364, -0.00261364, -0.00261364, -0.00261364],\n",
       "         [-0.00261364, -0.00261364, -0.00261364, -0.00261364, -0.00261364,\n",
       "          -0.00261364, -0.00261364, -0.00261364, -0.00261364, -0.00261364],\n",
       "         [-0.00261364, -0.00261364, -0.00261364, -0.00261364, -0.00261364,\n",
       "          -0.00261364, -0.00261364, -0.00261364, -0.00261364, -0.00261364]]),\n",
       "  array([-0.00261388, -0.00261388, -0.00261388, -0.00261388, -0.00261388,\n",
       "         -0.00261388, -0.00261388, -0.00261388, -0.00261388, -0.00261388])),\n",
       " (array([[-0.88429805],\n",
       "         [-0.88429805],\n",
       "         [-0.88429805],\n",
       "         [-0.88429805],\n",
       "         [-0.88429805],\n",
       "         [-0.88429805],\n",
       "         [-0.88429805],\n",
       "         [-0.88429805],\n",
       "         [-0.88429805],\n",
       "         [-0.88429805]]), array([-0.89756353]))]"
      ]
     },
     "execution_count": 53,
     "metadata": {},
     "output_type": "execute_result"
    }
   ],
   "source": [
    "grads"
   ]
  },
  {
   "cell_type": "code",
   "execution_count": 54,
   "metadata": {},
   "outputs": [],
   "source": [
    "update_model(grads)"
   ]
  },
  {
   "cell_type": "code",
   "execution_count": 55,
   "metadata": {},
   "outputs": [
    {
     "data": {
      "text/plain": [
       "[[array([[0.19999995, 0.19999995, 0.19999995, 0.19999995, 0.19999995,\n",
       "          0.19999995, 0.19999995, 0.19999995, 0.19999995, 0.19999995,\n",
       "          0.19999995, 0.19999995, 0.19999995, 0.19999995, 0.19999995,\n",
       "          0.19999995, 0.19999995, 0.19999995, 0.19999995, 0.19999995],\n",
       "         [0.2000001 , 0.2000001 , 0.2000001 , 0.2000001 , 0.2000001 ,\n",
       "          0.2000001 , 0.2000001 , 0.2000001 , 0.2000001 , 0.2000001 ,\n",
       "          0.2000001 , 0.2000001 , 0.2000001 , 0.2000001 , 0.2000001 ,\n",
       "          0.2000001 , 0.2000001 , 0.2000001 , 0.2000001 , 0.2000001 ],\n",
       "         [0.19999994, 0.19999994, 0.19999994, 0.19999994, 0.19999994,\n",
       "          0.19999994, 0.19999994, 0.19999994, 0.19999994, 0.19999994,\n",
       "          0.19999994, 0.19999994, 0.19999994, 0.19999994, 0.19999994,\n",
       "          0.19999994, 0.19999994, 0.19999994, 0.19999994, 0.19999994],\n",
       "         [0.19999995, 0.19999995, 0.19999995, 0.19999995, 0.19999995,\n",
       "          0.19999995, 0.19999995, 0.19999995, 0.19999995, 0.19999995,\n",
       "          0.19999995, 0.19999995, 0.19999995, 0.19999995, 0.19999995,\n",
       "          0.19999995, 0.19999995, 0.19999995, 0.19999995, 0.19999995],\n",
       "         [0.19999992, 0.19999992, 0.19999992, 0.19999992, 0.19999992,\n",
       "          0.19999992, 0.19999992, 0.19999992, 0.19999992, 0.19999992,\n",
       "          0.19999992, 0.19999992, 0.19999992, 0.19999992, 0.19999992,\n",
       "          0.19999992, 0.19999992, 0.19999992, 0.19999992, 0.19999992],\n",
       "         [0.19999984, 0.19999984, 0.19999984, 0.19999984, 0.19999984,\n",
       "          0.19999984, 0.19999984, 0.19999984, 0.19999984, 0.19999984,\n",
       "          0.19999984, 0.19999984, 0.19999984, 0.19999984, 0.19999984,\n",
       "          0.19999984, 0.19999984, 0.19999984, 0.19999984, 0.19999984],\n",
       "         [0.19999987, 0.19999987, 0.19999987, 0.19999987, 0.19999987,\n",
       "          0.19999987, 0.19999987, 0.19999987, 0.19999987, 0.19999987,\n",
       "          0.19999987, 0.19999987, 0.19999987, 0.19999987, 0.19999987,\n",
       "          0.19999987, 0.19999987, 0.19999987, 0.19999987, 0.19999987],\n",
       "         [0.19999988, 0.19999988, 0.19999988, 0.19999988, 0.19999988,\n",
       "          0.19999988, 0.19999988, 0.19999988, 0.19999988, 0.19999988,\n",
       "          0.19999988, 0.19999988, 0.19999988, 0.19999988, 0.19999988,\n",
       "          0.19999988, 0.19999988, 0.19999988, 0.19999988, 0.19999988],\n",
       "         [0.19999989, 0.19999989, 0.19999989, 0.19999989, 0.19999989,\n",
       "          0.19999989, 0.19999989, 0.19999989, 0.19999989, 0.19999989,\n",
       "          0.19999989, 0.19999989, 0.19999989, 0.19999989, 0.19999989,\n",
       "          0.19999989, 0.19999989, 0.19999989, 0.19999989, 0.19999989],\n",
       "         [0.19999989, 0.19999989, 0.19999989, 0.19999989, 0.19999989,\n",
       "          0.19999989, 0.19999989, 0.19999989, 0.19999989, 0.19999989,\n",
       "          0.19999989, 0.19999989, 0.19999989, 0.19999989, 0.19999989,\n",
       "          0.19999989, 0.19999989, 0.19999989, 0.19999989, 0.19999989],\n",
       "         [0.19999988, 0.19999988, 0.19999988, 0.19999988, 0.19999988,\n",
       "          0.19999988, 0.19999988, 0.19999988, 0.19999988, 0.19999988,\n",
       "          0.19999988, 0.19999988, 0.19999988, 0.19999988, 0.19999988,\n",
       "          0.19999988, 0.19999988, 0.19999988, 0.19999988, 0.19999988],\n",
       "         [0.20000003, 0.20000003, 0.20000003, 0.20000003, 0.20000003,\n",
       "          0.20000003, 0.20000003, 0.20000003, 0.20000003, 0.20000003,\n",
       "          0.20000003, 0.20000003, 0.20000003, 0.20000003, 0.20000003,\n",
       "          0.20000003, 0.20000003, 0.20000003, 0.20000003, 0.20000003],\n",
       "         [0.19999986, 0.19999986, 0.19999986, 0.19999986, 0.19999986,\n",
       "          0.19999986, 0.19999986, 0.19999986, 0.19999986, 0.19999986,\n",
       "          0.19999986, 0.19999986, 0.19999986, 0.19999986, 0.19999986,\n",
       "          0.19999986, 0.19999986, 0.19999986, 0.19999986, 0.19999986],\n",
       "         [0.19999988, 0.19999988, 0.19999988, 0.19999988, 0.19999988,\n",
       "          0.19999988, 0.19999988, 0.19999988, 0.19999988, 0.19999988,\n",
       "          0.19999988, 0.19999988, 0.19999988, 0.19999988, 0.19999988,\n",
       "          0.19999988, 0.19999988, 0.19999988, 0.19999988, 0.19999988],\n",
       "         [0.20000001, 0.20000001, 0.20000001, 0.20000001, 0.20000001,\n",
       "          0.20000001, 0.20000001, 0.20000001, 0.20000001, 0.20000001,\n",
       "          0.20000001, 0.20000001, 0.20000001, 0.20000001, 0.20000001,\n",
       "          0.20000001, 0.20000001, 0.20000001, 0.20000001, 0.20000001],\n",
       "         [0.19999994, 0.19999994, 0.19999994, 0.19999994, 0.19999994,\n",
       "          0.19999994, 0.19999994, 0.19999994, 0.19999994, 0.19999994,\n",
       "          0.19999994, 0.19999994, 0.19999994, 0.19999994, 0.19999994,\n",
       "          0.19999994, 0.19999994, 0.19999994, 0.19999994, 0.19999994],\n",
       "         [0.19999996, 0.19999996, 0.19999996, 0.19999996, 0.19999996,\n",
       "          0.19999996, 0.19999996, 0.19999996, 0.19999996, 0.19999996,\n",
       "          0.19999996, 0.19999996, 0.19999996, 0.19999996, 0.19999996,\n",
       "          0.19999996, 0.19999996, 0.19999996, 0.19999996, 0.19999996],\n",
       "         [0.19999997, 0.19999997, 0.19999997, 0.19999997, 0.19999997,\n",
       "          0.19999997, 0.19999997, 0.19999997, 0.19999997, 0.19999997,\n",
       "          0.19999997, 0.19999997, 0.19999997, 0.19999997, 0.19999997,\n",
       "          0.19999997, 0.19999997, 0.19999997, 0.19999997, 0.19999997],\n",
       "         [0.19999994, 0.19999994, 0.19999994, 0.19999994, 0.19999994,\n",
       "          0.19999994, 0.19999994, 0.19999994, 0.19999994, 0.19999994,\n",
       "          0.19999994, 0.19999994, 0.19999994, 0.19999994, 0.19999994,\n",
       "          0.19999994, 0.19999994, 0.19999994, 0.19999994, 0.19999994],\n",
       "         [0.19999996, 0.19999996, 0.19999996, 0.19999996, 0.19999996,\n",
       "          0.19999996, 0.19999996, 0.19999996, 0.19999996, 0.19999996,\n",
       "          0.19999996, 0.19999996, 0.19999996, 0.19999996, 0.19999996,\n",
       "          0.19999996, 0.19999996, 0.19999996, 0.19999996, 0.19999996],\n",
       "         [0.19999991, 0.19999991, 0.19999991, 0.19999991, 0.19999991,\n",
       "          0.19999991, 0.19999991, 0.19999991, 0.19999991, 0.19999991,\n",
       "          0.19999991, 0.19999991, 0.19999991, 0.19999991, 0.19999991,\n",
       "          0.19999991, 0.19999991, 0.19999991, 0.19999991, 0.19999991],\n",
       "         [0.20000007, 0.20000007, 0.20000007, 0.20000007, 0.20000007,\n",
       "          0.20000007, 0.20000007, 0.20000007, 0.20000007, 0.20000007,\n",
       "          0.20000007, 0.20000007, 0.20000007, 0.20000007, 0.20000007,\n",
       "          0.20000007, 0.20000007, 0.20000007, 0.20000007, 0.20000007],\n",
       "         [0.19999989, 0.19999989, 0.19999989, 0.19999989, 0.19999989,\n",
       "          0.19999989, 0.19999989, 0.19999989, 0.19999989, 0.19999989,\n",
       "          0.19999989, 0.19999989, 0.19999989, 0.19999989, 0.19999989,\n",
       "          0.19999989, 0.19999989, 0.19999989, 0.19999989, 0.19999989],\n",
       "         [0.1999999 , 0.1999999 , 0.1999999 , 0.1999999 , 0.1999999 ,\n",
       "          0.1999999 , 0.1999999 , 0.1999999 , 0.1999999 , 0.1999999 ,\n",
       "          0.1999999 , 0.1999999 , 0.1999999 , 0.1999999 , 0.1999999 ,\n",
       "          0.1999999 , 0.1999999 , 0.1999999 , 0.1999999 , 0.1999999 ],\n",
       "         [0.19999994, 0.19999994, 0.19999994, 0.19999994, 0.19999994,\n",
       "          0.19999994, 0.19999994, 0.19999994, 0.19999994, 0.19999994,\n",
       "          0.19999994, 0.19999994, 0.19999994, 0.19999994, 0.19999994,\n",
       "          0.19999994, 0.19999994, 0.19999994, 0.19999994, 0.19999994],\n",
       "         [0.19999987, 0.19999987, 0.19999987, 0.19999987, 0.19999987,\n",
       "          0.19999987, 0.19999987, 0.19999987, 0.19999987, 0.19999987,\n",
       "          0.19999987, 0.19999987, 0.19999987, 0.19999987, 0.19999987,\n",
       "          0.19999987, 0.19999987, 0.19999987, 0.19999987, 0.19999987],\n",
       "         [0.1999999 , 0.1999999 , 0.1999999 , 0.1999999 , 0.1999999 ,\n",
       "          0.1999999 , 0.1999999 , 0.1999999 , 0.1999999 , 0.1999999 ,\n",
       "          0.1999999 , 0.1999999 , 0.1999999 , 0.1999999 , 0.1999999 ,\n",
       "          0.1999999 , 0.1999999 , 0.1999999 , 0.1999999 , 0.1999999 ],\n",
       "         [0.19999989, 0.19999989, 0.19999989, 0.19999989, 0.19999989,\n",
       "          0.19999989, 0.19999989, 0.19999989, 0.19999989, 0.19999989,\n",
       "          0.19999989, 0.19999989, 0.19999989, 0.19999989, 0.19999989,\n",
       "          0.19999989, 0.19999989, 0.19999989, 0.19999989, 0.19999989],\n",
       "         [0.19999987, 0.19999987, 0.19999987, 0.19999987, 0.19999987,\n",
       "          0.19999987, 0.19999987, 0.19999987, 0.19999987, 0.19999987,\n",
       "          0.19999987, 0.19999987, 0.19999987, 0.19999987, 0.19999987,\n",
       "          0.19999987, 0.19999987, 0.19999987, 0.19999987, 0.19999987],\n",
       "         [0.19999991, 0.19999991, 0.19999991, 0.19999991, 0.19999991,\n",
       "          0.19999991, 0.19999991, 0.19999991, 0.19999991, 0.19999991,\n",
       "          0.19999991, 0.19999991, 0.19999991, 0.19999991, 0.19999991,\n",
       "          0.19999991, 0.19999991, 0.19999991, 0.19999991, 0.19999991]]),\n",
       "  array([0.19999995, 0.19999995, 0.19999995, 0.19999995, 0.19999995,\n",
       "         0.19999995, 0.19999995, 0.19999995, 0.19999995, 0.19999995,\n",
       "         0.19999995, 0.19999995, 0.19999995, 0.19999995, 0.19999995,\n",
       "         0.19999995, 0.19999995, 0.19999995, 0.19999995, 0.19999995]),\n",
       "  <function __main__.sigmoid>,\n",
       "  <function __main__.sigmoid_derivative>],\n",
       " [array([[0.19973864, 0.19973864, 0.19973864, 0.19973864, 0.19973864,\n",
       "          0.19973864, 0.19973864, 0.19973864, 0.19973864, 0.19973864],\n",
       "         [0.19973864, 0.19973864, 0.19973864, 0.19973864, 0.19973864,\n",
       "          0.19973864, 0.19973864, 0.19973864, 0.19973864, 0.19973864],\n",
       "         [0.19973864, 0.19973864, 0.19973864, 0.19973864, 0.19973864,\n",
       "          0.19973864, 0.19973864, 0.19973864, 0.19973864, 0.19973864],\n",
       "         [0.19973864, 0.19973864, 0.19973864, 0.19973864, 0.19973864,\n",
       "          0.19973864, 0.19973864, 0.19973864, 0.19973864, 0.19973864],\n",
       "         [0.19973864, 0.19973864, 0.19973864, 0.19973864, 0.19973864,\n",
       "          0.19973864, 0.19973864, 0.19973864, 0.19973864, 0.19973864],\n",
       "         [0.19973864, 0.19973864, 0.19973864, 0.19973864, 0.19973864,\n",
       "          0.19973864, 0.19973864, 0.19973864, 0.19973864, 0.19973864],\n",
       "         [0.19973864, 0.19973864, 0.19973864, 0.19973864, 0.19973864,\n",
       "          0.19973864, 0.19973864, 0.19973864, 0.19973864, 0.19973864],\n",
       "         [0.19973864, 0.19973864, 0.19973864, 0.19973864, 0.19973864,\n",
       "          0.19973864, 0.19973864, 0.19973864, 0.19973864, 0.19973864],\n",
       "         [0.19973864, 0.19973864, 0.19973864, 0.19973864, 0.19973864,\n",
       "          0.19973864, 0.19973864, 0.19973864, 0.19973864, 0.19973864],\n",
       "         [0.19973864, 0.19973864, 0.19973864, 0.19973864, 0.19973864,\n",
       "          0.19973864, 0.19973864, 0.19973864, 0.19973864, 0.19973864],\n",
       "         [0.19973864, 0.19973864, 0.19973864, 0.19973864, 0.19973864,\n",
       "          0.19973864, 0.19973864, 0.19973864, 0.19973864, 0.19973864],\n",
       "         [0.19973864, 0.19973864, 0.19973864, 0.19973864, 0.19973864,\n",
       "          0.19973864, 0.19973864, 0.19973864, 0.19973864, 0.19973864],\n",
       "         [0.19973864, 0.19973864, 0.19973864, 0.19973864, 0.19973864,\n",
       "          0.19973864, 0.19973864, 0.19973864, 0.19973864, 0.19973864],\n",
       "         [0.19973864, 0.19973864, 0.19973864, 0.19973864, 0.19973864,\n",
       "          0.19973864, 0.19973864, 0.19973864, 0.19973864, 0.19973864],\n",
       "         [0.19973864, 0.19973864, 0.19973864, 0.19973864, 0.19973864,\n",
       "          0.19973864, 0.19973864, 0.19973864, 0.19973864, 0.19973864],\n",
       "         [0.19973864, 0.19973864, 0.19973864, 0.19973864, 0.19973864,\n",
       "          0.19973864, 0.19973864, 0.19973864, 0.19973864, 0.19973864],\n",
       "         [0.19973864, 0.19973864, 0.19973864, 0.19973864, 0.19973864,\n",
       "          0.19973864, 0.19973864, 0.19973864, 0.19973864, 0.19973864],\n",
       "         [0.19973864, 0.19973864, 0.19973864, 0.19973864, 0.19973864,\n",
       "          0.19973864, 0.19973864, 0.19973864, 0.19973864, 0.19973864],\n",
       "         [0.19973864, 0.19973864, 0.19973864, 0.19973864, 0.19973864,\n",
       "          0.19973864, 0.19973864, 0.19973864, 0.19973864, 0.19973864],\n",
       "         [0.19973864, 0.19973864, 0.19973864, 0.19973864, 0.19973864,\n",
       "          0.19973864, 0.19973864, 0.19973864, 0.19973864, 0.19973864]]),\n",
       "  array([0.19973861, 0.19973861, 0.19973861, 0.19973861, 0.19973861,\n",
       "         0.19973861, 0.19973861, 0.19973861, 0.19973861, 0.19973861]),\n",
       "  <function __main__.sigmoid>,\n",
       "  <function __main__.sigmoid_derivative>],\n",
       " [array([[0.11157019],\n",
       "         [0.11157019],\n",
       "         [0.11157019],\n",
       "         [0.11157019],\n",
       "         [0.11157019],\n",
       "         [0.11157019],\n",
       "         [0.11157019],\n",
       "         [0.11157019],\n",
       "         [0.11157019],\n",
       "         [0.11157019]]),\n",
       "  array([0.11024365]),\n",
       "  <function __main__.sigmoid>,\n",
       "  <function __main__.sigmoid_derivative>]]"
      ]
     },
     "execution_count": 55,
     "metadata": {},
     "output_type": "execute_result"
    }
   ],
   "source": [
    "model"
   ]
  },
  {
   "cell_type": "code",
   "execution_count": null,
   "metadata": {},
   "outputs": [],
   "source": []
  },
  {
   "cell_type": "code",
   "execution_count": null,
   "metadata": {},
   "outputs": [],
   "source": []
  },
  {
   "cell_type": "code",
   "execution_count": null,
   "metadata": {},
   "outputs": [],
   "source": []
  },
  {
   "cell_type": "code",
   "execution_count": null,
   "metadata": {},
   "outputs": [],
   "source": []
  },
  {
   "cell_type": "markdown",
   "metadata": {},
   "source": [
    "---"
   ]
  },
  {
   "cell_type": "markdown",
   "metadata": {},
   "source": [
    "try"
   ]
  },
  {
   "cell_type": "code",
   "execution_count": 31,
   "metadata": {},
   "outputs": [],
   "source": [
    "a1 = np.array([1,2,3])\n",
    "a2 = np.array([[1,2,3],[1,2,3],[1,2,3],[1,2,3]])\n",
    "b1 = np.array([4,5,6,7])\n",
    "b2 = np.array([[4,5,6,7],[4,5,6,7],[4,5,6,7],[4,5,6,7]])\n",
    "c2 = np.array([[1,1,1,1],[2,2,2,2],[3,3,3,3]])"
   ]
  },
  {
   "cell_type": "code",
   "execution_count": 32,
   "metadata": {},
   "outputs": [
    {
     "data": {
      "text/plain": [
       "array([[1],\n",
       "       [2],\n",
       "       [3]])"
      ]
     },
     "execution_count": 32,
     "metadata": {},
     "output_type": "execute_result"
    }
   ],
   "source": [
    "np.atleast_2d(a1).T"
   ]
  },
  {
   "cell_type": "code",
   "execution_count": 33,
   "metadata": {},
   "outputs": [
    {
     "data": {
      "text/plain": [
       "array([[1, 1, 1, 1],\n",
       "       [2, 2, 2, 2],\n",
       "       [3, 3, 3, 3]])"
      ]
     },
     "execution_count": 33,
     "metadata": {},
     "output_type": "execute_result"
    }
   ],
   "source": [
    "np.atleast_2d(a2).T"
   ]
  },
  {
   "cell_type": "code",
   "execution_count": 34,
   "metadata": {},
   "outputs": [
    {
     "data": {
      "text/plain": [
       "array([[ 4,  5,  6,  7],\n",
       "       [ 8, 10, 12, 14],\n",
       "       [12, 15, 18, 21]])"
      ]
     },
     "execution_count": 34,
     "metadata": {},
     "output_type": "execute_result"
    }
   ],
   "source": [
    "np.dot(np.atleast_2d(a1).T, np.atleast_2d(b1))"
   ]
  },
  {
   "cell_type": "code",
   "execution_count": 35,
   "metadata": {},
   "outputs": [
    {
     "data": {
      "text/plain": [
       "array([[ 4,  5,  6,  7],\n",
       "       [ 8, 10, 12, 14],\n",
       "       [12, 15, 18, 21]])"
      ]
     },
     "execution_count": 35,
     "metadata": {},
     "output_type": "execute_result"
    }
   ],
   "source": [
    "np.outer(a1,b1)"
   ]
  },
  {
   "cell_type": "code",
   "execution_count": 36,
   "metadata": {},
   "outputs": [
    {
     "data": {
      "text/plain": [
       "array([[16, 20, 24, 28],\n",
       "       [32, 40, 48, 56],\n",
       "       [48, 60, 72, 84]])"
      ]
     },
     "execution_count": 36,
     "metadata": {},
     "output_type": "execute_result"
    }
   ],
   "source": [
    "np.dot(np.atleast_2d(a2).T, np.atleast_2d(b2))"
   ]
  },
  {
   "cell_type": "code",
   "execution_count": 37,
   "metadata": {},
   "outputs": [
    {
     "data": {
      "text/plain": [
       "array([22, 44, 66])"
      ]
     },
     "execution_count": 37,
     "metadata": {},
     "output_type": "execute_result"
    }
   ],
   "source": [
    "np.dot(b1, c2.T)"
   ]
  },
  {
   "cell_type": "code",
   "execution_count": 38,
   "metadata": {},
   "outputs": [
    {
     "data": {
      "text/plain": [
       "array([[22, 44, 66],\n",
       "       [22, 44, 66],\n",
       "       [22, 44, 66],\n",
       "       [22, 44, 66]])"
      ]
     },
     "execution_count": 38,
     "metadata": {},
     "output_type": "execute_result"
    }
   ],
   "source": [
    "np.dot(b2, c2.T)"
   ]
  },
  {
   "cell_type": "code",
   "execution_count": 39,
   "metadata": {
    "scrolled": true
   },
   "outputs": [
    {
     "data": {
      "text/plain": [
       "array([4., 5., 6., 7.])"
      ]
     },
     "execution_count": 39,
     "metadata": {},
     "output_type": "execute_result"
    }
   ],
   "source": [
    "np.atleast_2d(b1).mean(axis=0)"
   ]
  },
  {
   "cell_type": "code",
   "execution_count": null,
   "metadata": {},
   "outputs": [],
   "source": []
  }
 ],
 "metadata": {
  "kernelspec": {
   "display_name": "Python 3",
   "language": "python",
   "name": "python3"
  },
  "language_info": {
   "codemirror_mode": {
    "name": "ipython",
    "version": 3
   },
   "file_extension": ".py",
   "mimetype": "text/x-python",
   "name": "python",
   "nbconvert_exporter": "python",
   "pygments_lexer": "ipython3",
   "version": "3.6.4"
  }
 },
 "nbformat": 4,
 "nbformat_minor": 2
}
