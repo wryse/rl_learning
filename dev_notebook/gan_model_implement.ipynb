{
 "cells": [
  {
   "cell_type": "code",
   "execution_count": 1,
   "metadata": {
    "collapsed": true
   },
   "outputs": [],
   "source": [
    "import abc"
   ]
  },
  {
   "cell_type": "code",
   "execution_count": 2,
   "metadata": {
    "collapsed": true
   },
   "outputs": [],
   "source": [
    "import numpy as np"
   ]
  },
  {
   "cell_type": "code",
   "execution_count": 3,
   "metadata": {
    "collapsed": true
   },
   "outputs": [],
   "source": [
    "import matplotlib.pyplot as plt"
   ]
  },
  {
   "cell_type": "code",
   "execution_count": 4,
   "metadata": {
    "collapsed": false
   },
   "outputs": [
    {
     "data": {
      "text/plain": [
       "{'divide': 'warn', 'invalid': 'warn', 'over': 'warn', 'under': 'ignore'}"
      ]
     },
     "execution_count": 4,
     "metadata": {},
     "output_type": "execute_result"
    }
   ],
   "source": [
    "np.seterr(all='raise', under='warn')"
   ]
  },
  {
   "cell_type": "code",
   "execution_count": 5,
   "metadata": {
    "collapsed": true
   },
   "outputs": [],
   "source": [
    "np.set_printoptions(precision=20)"
   ]
  },
  {
   "cell_type": "code",
   "execution_count": 6,
   "metadata": {
    "collapsed": true
   },
   "outputs": [],
   "source": [
    "from simple_nn.nn_layer import *\n",
    "from simple_nn.activation_function import *\n",
    "from simple_nn.gd_updater import *"
   ]
  },
  {
   "cell_type": "markdown",
   "metadata": {},
   "source": [
    "---"
   ]
  },
  {
   "cell_type": "code",
   "execution_count": 7,
   "metadata": {
    "collapsed": true
   },
   "outputs": [],
   "source": [
    "class ActivationTanh(ActivationFunction):\n",
    "    \n",
    "    def __init__(self):\n",
    "        \"\"\"Init function. Do nothing.\"\"\"\n",
    "        pass\n",
    "    \n",
    "    @property\n",
    "    def derivative_use_activated(self):\n",
    "        return True\n",
    "    \n",
    "    def apply(self, v):\n",
    "        return np.tanh(v)\n",
    "    \n",
    "    def derivative(self, v):\n",
    "        return 1 - v**2"
   ]
  },
  {
   "cell_type": "code",
   "execution_count": 8,
   "metadata": {
    "collapsed": true
   },
   "outputs": [],
   "source": [
    "class ActivationLeakyRelu(ActivationFunction):\n",
    "    \"\"\"Relu function.\"\"\"\n",
    "    def __init__(self, alpha=0.3):\n",
    "        \"\"\"Init function. Set alpha value.\"\"\"\n",
    "        self.alpha = alpha\n",
    "        pass\n",
    "    \n",
    "    @property\n",
    "    def derivative_use_activated(self):\n",
    "        \"\"\"Use result to calculate derivative.\"\"\"\n",
    "        return True\n",
    "    \n",
    "    def apply(self, v):\n",
    "        \"\"\"Apply Relu to data.\n",
    "        \n",
    "        Args:\n",
    "            v (np.array): Data\n",
    "        \n",
    "        Returns:\n",
    "            v if v > 0, otherwise 0\n",
    "        \"\"\"\n",
    "        return np.where(v>=0, v, self.alpha*v)\n",
    "    \n",
    "    def derivative(self, v):\n",
    "        \"\"\"Calculate derivative wrt input of activation function.\n",
    "        \n",
    "        Args:\n",
    "            v (np.array): input of activation function if derivative_use_activated is false,\n",
    "                output of activation function otherwise\n",
    "        \n",
    "        Returns:\n",
    "            1 if v > 0, otherwise 0\n",
    "        \"\"\"\n",
    "        return np.where(v>=0, 1, self.alpha)"
   ]
  },
  {
   "cell_type": "markdown",
   "metadata": {},
   "source": [
    "---"
   ]
  },
  {
   "cell_type": "markdown",
   "metadata": {},
   "source": [
    "gan model"
   ]
  },
  {
   "cell_type": "code",
   "execution_count": 9,
   "metadata": {
    "collapsed": true
   },
   "outputs": [],
   "source": [
    "class GANModel:\n",
    "    def __init__(self, Z_size, X_size, gd_updater):\n",
    "        self.Z_size = Z_size\n",
    "        self.X_size = X_size\n",
    "        self.gd_updater = gd_updater\n",
    "        self.gen_model = []\n",
    "        self.dis_model = []\n",
    "    \n",
    "    def add_gan_layer(self, layer):\n",
    "        self.add_layer(self.Z_size, self.gen_model, layer)\n",
    "    \n",
    "    def add_dis_layer(self, layer):\n",
    "        self.add_layer(self.X_size, self.dis_model, layer)\n",
    "    \n",
    "    def add_layer(self, init_size, model, layer):\n",
    "        input_size = init_size\n",
    "        if model:\n",
    "            input_size = model[-1].node_count\n",
    "        layer.init(input_size, self.gd_updater)\n",
    "        model.append(layer)\n",
    "    \n",
    "    def model_forward(self, model, X, learning=True):\n",
    "        cur_res = X\n",
    "        for layer in model:\n",
    "            cur_res = layer.forward(cur_res, learning=learning)\n",
    "        return cur_res\n",
    "    \n",
    "    def generate(self, Z):\n",
    "        return self.model_forward(self.gen_model, Z, learning=False)\n",
    "    \n",
    "    def back_probagation(self, model, y_predict, y):\n",
    "        delta = np.atleast_2d(y_predict - y)\n",
    "        for layer in reversed(model):\n",
    "            delta = layer.back_propagation(delta, activation_derivatived=(layer==model[-1]))\n",
    "        return delta\n",
    "    \n",
    "    def back_probagation_by_delta(self, model, delta):\n",
    "        for layer in reversed(model):\n",
    "            delta = layer.back_propagation(delta, activation_derivatived=False)\n",
    "        return delta\n",
    "    \n",
    "    def update_model(self, model):\n",
    "        for layer in model:\n",
    "            layer.update()\n",
    "    \n",
    "    def train_dis(self, X, y):\n",
    "        y_predict = self.model_forward(self.dis_model, X)\n",
    "        self.back_probagation(self.dis_model, y_predict, y)\n",
    "        self.update_model(self.dis_model)\n",
    "        \n",
    "    def train_gen(self, Z):\n",
    "        X = self.model_forward(self.gen_model, Z, learning=True)\n",
    "        y_predict = self.model_forward(self.dis_model, X)\n",
    "        delta_dis = self.back_probagation(self.dis_model, y_predict, np.ones(y_predict.shape))\n",
    "        self.back_probagation_by_delta(self.gen_model, delta_dis)\n",
    "        self.update_model(self.gen_model)"
   ]
  },
  {
   "cell_type": "markdown",
   "metadata": {},
   "source": [
    "---"
   ]
  },
  {
   "cell_type": "markdown",
   "metadata": {},
   "source": [
    "test"
   ]
  },
  {
   "cell_type": "code",
   "execution_count": 10,
   "metadata": {
    "collapsed": true
   },
   "outputs": [],
   "source": [
    "sample_n = 10000"
   ]
  },
  {
   "cell_type": "code",
   "execution_count": 11,
   "metadata": {
    "collapsed": false,
    "scrolled": true
   },
   "outputs": [],
   "source": [
    "train_X_org = \\\n",
    "    np.tile(np.linspace(0, np.pi*2, num=50), (sample_n, 1)) \\\n",
    "    + np.tile(np.random.rand(sample_n,1), (1, 50))"
   ]
  },
  {
   "cell_type": "code",
   "execution_count": 13,
   "metadata": {
    "collapsed": false
   },
   "outputs": [],
   "source": [
    "train_X = np.sin(train_X_org)"
   ]
  },
  {
   "cell_type": "code",
   "execution_count": 14,
   "metadata": {
    "collapsed": false
   },
   "outputs": [
    {
     "data": {
      "text/plain": [
       "(10000, 50)"
      ]
     },
     "execution_count": 14,
     "metadata": {},
     "output_type": "execute_result"
    }
   ],
   "source": [
    "train_X.shape"
   ]
  },
  {
   "cell_type": "code",
   "execution_count": 15,
   "metadata": {
    "collapsed": true
   },
   "outputs": [],
   "source": [
    "learning_rate = 0.02"
   ]
  },
  {
   "cell_type": "code",
   "execution_count": 82,
   "metadata": {
    "collapsed": false
   },
   "outputs": [],
   "source": [
    "m = GANModel(Z_size=3, X_size=50, gd_updater = GDUpdaterNormal(learning_rate=learning_rate))"
   ]
  },
  {
   "cell_type": "code",
   "execution_count": 83,
   "metadata": {
    "collapsed": false,
    "scrolled": true
   },
   "outputs": [],
   "source": [
    "m.add_gan_layer(FCLayer(20, True, ActivationLeakyRelu()))\n",
    "m.add_gan_layer(FCLayer(50, True, ActivationTanh()))\n",
    "m.add_dis_layer(FCLayer(20, True, ActivationLeakyRelu()))\n",
    "m.add_dis_layer(FCLayer(1, True, ActivationSigmoid()))"
   ]
  },
  {
   "cell_type": "code",
   "execution_count": 84,
   "metadata": {
    "collapsed": true
   },
   "outputs": [],
   "source": [
    "batch_size = 100\n",
    "epoch = 5000"
   ]
  },
  {
   "cell_type": "code",
   "execution_count": 85,
   "metadata": {
    "collapsed": false,
    "scrolled": true
   },
   "outputs": [
    {
     "name": "stdout",
     "output_type": "stream",
     "text": [
      "epoch 0\n",
      "epoch 100\n",
      "epoch 200\n",
      "epoch 300\n",
      "epoch 400\n",
      "epoch 500\n",
      "epoch 600\n",
      "epoch 700\n",
      "epoch 800\n",
      "epoch 900\n",
      "epoch 1000\n",
      "epoch 1100\n",
      "epoch 1200\n",
      "epoch 1300\n",
      "epoch 1400\n",
      "epoch 1500\n",
      "epoch 1600\n",
      "epoch 1700\n",
      "epoch 1800\n",
      "epoch 1900\n",
      "epoch 2000\n",
      "epoch 2100\n",
      "epoch 2200\n",
      "epoch 2300\n",
      "epoch 2400\n",
      "epoch 2500\n",
      "epoch 2600\n",
      "epoch 2700\n",
      "epoch 2800\n",
      "epoch 2900\n",
      "epoch 3000\n",
      "epoch 3100\n",
      "epoch 3200\n",
      "epoch 3300\n",
      "epoch 3400\n",
      "epoch 3500\n",
      "epoch 3600\n",
      "epoch 3700\n",
      "epoch 3800\n",
      "epoch 3900\n",
      "epoch 4000\n",
      "epoch 4100\n",
      "epoch 4200\n",
      "epoch 4300\n",
      "epoch 4400\n",
      "epoch 4500\n",
      "epoch 4600\n",
      "epoch 4700\n",
      "epoch 4800\n",
      "epoch 4900\n",
      "Wall time: 13min 30s\n"
     ]
    }
   ],
   "source": [
    "%%time\n",
    "for i in range(epoch):\n",
    "    if not i%100:\n",
    "        print('epoch {}'.format(i))\n",
    "    learning_idx = np.arange(sample_n)\n",
    "    np.random.shuffle(learning_idx)\n",
    "    for start_idx in range(0, sample_n, batch_size):\n",
    "        data_idx = learning_idx[start_idx : min(start_idx+batch_size,sample_n)]\n",
    "        Z = np.random.rand(batch_size, 3)\n",
    "        X = m.generate(Z)\n",
    "        m.train_dis(X, np.zeros((len(X),1)))\n",
    "        m.train_dis(train_X[data_idx], np.ones((len(X),1)))\n",
    "#         m.train_gen(Z)\n",
    "        m.train_gen(np.random.rand(batch_size, 3))"
   ]
  },
  {
   "cell_type": "code",
   "execution_count": 86,
   "metadata": {
    "collapsed": false,
    "scrolled": false
   },
   "outputs": [
    {
     "data": {
      "image/png": "[encoded data removed]",
      "text/plain": [
       "<matplotlib.figure.Figure at 0x3fb21b0>"
      ]
     },
     "metadata": {},
     "output_type": "display_data"
    }
   ],
   "source": [
    "plt.figure(figsize=(15,6))\n",
    "plt.plot(m.generate(np.random.rand(3)))\n",
    "plt.plot(m.generate(np.random.rand(3)))\n",
    "plt.plot(train_X[0])\n",
    "plt.plot(train_X[1])\n",
    "plt.show()"
   ]
  },
  {
   "cell_type": "code",
   "execution_count": 87,
   "metadata": {
    "collapsed": false,
    "scrolled": true
   },
   "outputs": [
    {
     "data": {
      "text/plain": [
       "array([[ 0.50171030818860884448],\n",
       "       [ 0.50273063183651101049],\n",
       "       [ 0.502405375275454813  ],\n",
       "       [ 0.50263527969802068718],\n",
       "       [ 0.50215334053064830666],\n",
       "       [ 0.50208542234528463766],\n",
       "       [ 0.50076178886967037673],\n",
       "       [ 0.50198059921602011801],\n",
       "       [ 0.50236903052520698321],\n",
       "       [ 0.50284517971214581777],\n",
       "       [ 0.50130619816298838121],\n",
       "       [ 0.49989743000067393686],\n",
       "       [ 0.50203222870327968153],\n",
       "       [ 0.50135055579604703713],\n",
       "       [ 0.50147237442733760826],\n",
       "       [ 0.50184861702924210558],\n",
       "       [ 0.50195188392937362121],\n",
       "       [ 0.50089160353335127063],\n",
       "       [ 0.50030803485377028927],\n",
       "       [ 0.50200448173086587023],\n",
       "       [ 0.50232055660606900194],\n",
       "       [ 0.50219291833972345973],\n",
       "       [ 0.50030232392811613273],\n",
       "       [ 0.50193638194569967226],\n",
       "       [ 0.50013069253219710752],\n",
       "       [ 0.50090680970955858697],\n",
       "       [ 0.50245295480362728302],\n",
       "       [ 0.5022308655356120255 ],\n",
       "       [ 0.50275196190323045986],\n",
       "       [ 0.5022605666003289171 ],\n",
       "       [ 0.50224083954673215402],\n",
       "       [ 0.50195864381071275684],\n",
       "       [ 0.50045452266246126527],\n",
       "       [ 0.50173625296193402612],\n",
       "       [ 0.50039940170484220605],\n",
       "       [ 0.50197311692842327968],\n",
       "       [ 0.50208125852152363233],\n",
       "       [ 0.50208629028312934395],\n",
       "       [ 0.50138849286903608427],\n",
       "       [ 0.50129450281745335793],\n",
       "       [ 0.50207746561994737178],\n",
       "       [ 0.50065203617613351916],\n",
       "       [ 0.50165882424110863624],\n",
       "       [ 0.49991315342901121443],\n",
       "       [ 0.50063370504265092276],\n",
       "       [ 0.50236776071482569517],\n",
       "       [ 0.50244847541175596817],\n",
       "       [ 0.50008464003666019959],\n",
       "       [ 0.50083169598601473549],\n",
       "       [ 0.49990022254638638577],\n",
       "       [ 0.50073971495456981451],\n",
       "       [ 0.502477957968345601  ],\n",
       "       [ 0.50005014670046743497],\n",
       "       [ 0.49988742684084258583],\n",
       "       [ 0.50222549889326040251],\n",
       "       [ 0.50106382998163612186],\n",
       "       [ 0.50221881971623238972],\n",
       "       [ 0.50187677014912768225],\n",
       "       [ 0.50146550108577681026],\n",
       "       [ 0.50238212275645521832],\n",
       "       [ 0.50226304110351316368],\n",
       "       [ 0.50243945953869606491],\n",
       "       [ 0.50116467148457333192],\n",
       "       [ 0.50290063027980858035],\n",
       "       [ 0.50194838689580922875],\n",
       "       [ 0.50237921154760589726],\n",
       "       [ 0.50052540826460867329],\n",
       "       [ 0.50000712428545057708],\n",
       "       [ 0.50290936874434633008],\n",
       "       [ 0.50267583589821196455],\n",
       "       [ 0.50162711295392814481],\n",
       "       [ 0.50143652509535774353],\n",
       "       [ 0.50241082701629602436],\n",
       "       [ 0.50301156983580208593],\n",
       "       [ 0.50024772853806620532],\n",
       "       [ 0.50112809885952724898],\n",
       "       [ 0.50179100459892989061],\n",
       "       [ 0.50162659033762047045],\n",
       "       [ 0.50272284761832830569],\n",
       "       [ 0.501674825075220987  ],\n",
       "       [ 0.50250696146904483275],\n",
       "       [ 0.50119152969548019794],\n",
       "       [ 0.50245294153593200726],\n",
       "       [ 0.50178286126543292234],\n",
       "       [ 0.50156749313714488192],\n",
       "       [ 0.50252081411855209492],\n",
       "       [ 0.50162685795586914317],\n",
       "       [ 0.50231716587618757686],\n",
       "       [ 0.50014197358619372213],\n",
       "       [ 0.50043965947810931105],\n",
       "       [ 0.50220929709109729533],\n",
       "       [ 0.50031538732925906476],\n",
       "       [ 0.50091083229744326477],\n",
       "       [ 0.50048611309911505973],\n",
       "       [ 0.50057589880300779051],\n",
       "       [ 0.5022178640448619058 ],\n",
       "       [ 0.50001935324741653144],\n",
       "       [ 0.50219860277273331572],\n",
       "       [ 0.501967553280888934  ],\n",
       "       [ 0.50054129299066962844]])"
      ]
     },
     "execution_count": 87,
     "metadata": {},
     "output_type": "execute_result"
    }
   ],
   "source": [
    "m.model_forward(m.dis_model, m.generate(np.random.rand(batch_size, 3)), learning=False)"
   ]
  },
  {
   "cell_type": "code",
   "execution_count": 88,
   "metadata": {
    "collapsed": false,
    "scrolled": true
   },
   "outputs": [
    {
     "data": {
      "text/plain": [
       "array([[ 0.50324572900958564059],\n",
       "       [ 0.50339497835238333767],\n",
       "       [ 0.50364296166685940115],\n",
       "       [ 0.50298802081624927052],\n",
       "       [ 0.50051215001733651011],\n",
       "       [ 0.50187899549657710718],\n",
       "       [ 0.50338949142448818908],\n",
       "       [ 0.50355479788485446591],\n",
       "       [ 0.50227050939393158568],\n",
       "       [ 0.50389161344646826723],\n",
       "       [ 0.50060949376099161956],\n",
       "       [ 0.50389839938377700701],\n",
       "       [ 0.50140917041306798385],\n",
       "       [ 0.5040924508861497344 ],\n",
       "       [ 0.50046196198287329349],\n",
       "       [ 0.50300966296157889612],\n",
       "       [ 0.50365575685742802747],\n",
       "       [ 0.50386627707571440826],\n",
       "       [ 0.50305447498932553962],\n",
       "       [ 0.50385807336958643443],\n",
       "       [ 0.5013740914809173832 ],\n",
       "       [ 0.5035253772542801487 ],\n",
       "       [ 0.50349429489932040482],\n",
       "       [ 0.50364186383236597688],\n",
       "       [ 0.50105840403328294475],\n",
       "       [ 0.50426179496757128629],\n",
       "       [ 0.50285665603791629419],\n",
       "       [ 0.50368853059266260885],\n",
       "       [ 0.50189685549047635682],\n",
       "       [ 0.50380074983391398558],\n",
       "       [ 0.50620521240838201038],\n",
       "       [ 0.50338085043449065648],\n",
       "       [ 0.5037584052632366749 ],\n",
       "       [ 0.50331986905734216187],\n",
       "       [ 0.50040578111502809211],\n",
       "       [ 0.50281490340887413648],\n",
       "       [ 0.50031341454721445228],\n",
       "       [ 0.50610116069631960745],\n",
       "       [ 0.50104249073174111917],\n",
       "       [ 0.50472787064988122729],\n",
       "       [ 0.50177804868659137139],\n",
       "       [ 0.50280058574684993733],\n",
       "       [ 0.50119301490475953731],\n",
       "       [ 0.50356338159972613422],\n",
       "       [ 0.50389859518542623462],\n",
       "       [ 0.50193502171747428342],\n",
       "       [ 0.50219083554972210326],\n",
       "       [ 0.50161357436616726968],\n",
       "       [ 0.503266511344380163  ],\n",
       "       [ 0.50045390433482772607],\n",
       "       [ 0.5059902497037322977 ],\n",
       "       [ 0.50106313617089570656],\n",
       "       [ 0.50389552057828201903],\n",
       "       [ 0.50372269070613262532],\n",
       "       [ 0.50369710831580938315],\n",
       "       [ 0.50130658139449868482],\n",
       "       [ 0.50439408958068276956],\n",
       "       [ 0.50272654617807044364],\n",
       "       [ 0.50155883027644976302],\n",
       "       [ 0.50126359695197097999],\n",
       "       [ 0.50279223860397692647],\n",
       "       [ 0.50387561757043752841],\n",
       "       [ 0.50387143594444117056],\n",
       "       [ 0.5038931386899707654 ],\n",
       "       [ 0.50591488213891766534],\n",
       "       [ 0.50055546092474267894],\n",
       "       [ 0.50514978325295722961],\n",
       "       [ 0.50314492873794958161],\n",
       "       [ 0.50136839771045971226],\n",
       "       [ 0.50363251589896262939],\n",
       "       [ 0.50475670643021364192],\n",
       "       [ 0.50611549920442255868],\n",
       "       [ 0.50234771467981276238],\n",
       "       [ 0.50377239201369639066],\n",
       "       [ 0.50339793004581667724],\n",
       "       [ 0.50187858304375598806],\n",
       "       [ 0.50371645069851023191],\n",
       "       [ 0.50272157577406528794],\n",
       "       [ 0.50312190373205345484],\n",
       "       [ 0.50139470188361101588],\n",
       "       [ 0.50049057510905003987],\n",
       "       [ 0.50369610225094663125],\n",
       "       [ 0.50225716590601743317],\n",
       "       [ 0.50038728811932686735],\n",
       "       [ 0.50244530364255535204],\n",
       "       [ 0.50389204935356912696],\n",
       "       [ 0.50525878645822797086],\n",
       "       [ 0.50342155598564675145],\n",
       "       [ 0.50305885845426512315],\n",
       "       [ 0.50291060936453280128],\n",
       "       [ 0.50199279929457130134],\n",
       "       [ 0.50167259389623108934],\n",
       "       [ 0.50083108221105987479],\n",
       "       [ 0.50310994245813167591],\n",
       "       [ 0.50227583038063561283],\n",
       "       [ 0.50117341164170459145],\n",
       "       [ 0.50389841337856200454],\n",
       "       [ 0.50047541140578077901],\n",
       "       [ 0.5026343370226967755 ],\n",
       "       [ 0.50269554999096988102]])"
      ]
     },
     "execution_count": 88,
     "metadata": {},
     "output_type": "execute_result"
    }
   ],
   "source": [
    "m.model_forward(m.dis_model, train_X[:batch_size], learning=False)"
   ]
  },
  {
   "cell_type": "code",
   "execution_count": null,
   "metadata": {
    "collapsed": true
   },
   "outputs": [],
   "source": []
  }
 ],
 "metadata": {
  "kernelspec": {
   "display_name": "Python 3",
   "language": "python",
   "name": "python3"
  },
  "language_info": {
   "codemirror_mode": {
    "name": "ipython",
    "version": 3
   },
   "file_extension": ".py",
   "mimetype": "text/x-python",
   "name": "python",
   "nbconvert_exporter": "python",
   "pygments_lexer": "ipython3",
   "version": "3.6.0"
  }
 },
 "nbformat": 4,
 "nbformat_minor": 2
}
