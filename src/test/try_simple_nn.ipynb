{
 "cells": [
  {
   "cell_type": "code",
   "execution_count": 1,
   "metadata": {
    "collapsed": true
   },
   "outputs": [],
   "source": [
    "import abc"
   ]
  },
  {
   "cell_type": "code",
   "execution_count": 2,
   "metadata": {
    "collapsed": true
   },
   "outputs": [],
   "source": [
    "import numpy as np"
   ]
  },
  {
   "cell_type": "code",
   "execution_count": 3,
   "metadata": {
    "collapsed": false
   },
   "outputs": [
    {
     "data": {
      "text/plain": [
       "{'divide': 'warn', 'invalid': 'warn', 'over': 'warn', 'under': 'ignore'}"
      ]
     },
     "execution_count": 3,
     "metadata": {},
     "output_type": "execute_result"
    }
   ],
   "source": [
    "np.seterr(all='raise', under='warn')"
   ]
  },
  {
   "cell_type": "code",
   "execution_count": 4,
   "metadata": {
    "collapsed": true
   },
   "outputs": [],
   "source": [
    "np.set_printoptions(precision=20)"
   ]
  },
  {
   "cell_type": "markdown",
   "metadata": {},
   "source": [
    "---"
   ]
  },
  {
   "cell_type": "code",
   "execution_count": 5,
   "metadata": {
    "collapsed": false
   },
   "outputs": [],
   "source": [
    "import simple_nn.layers.components.activation as actv\n",
    "import simple_nn.gd_updater as gd_upd"
   ]
  },
  {
   "cell_type": "code",
   "execution_count": 6,
   "metadata": {
    "collapsed": false,
    "scrolled": true
   },
   "outputs": [],
   "source": [
    "from simple_nn.layers.nn_layer import FCLayer\n",
    "from simple_nn.nn_model import *\n",
    "from simple_nn.cost_function import *"
   ]
  },
  {
   "cell_type": "markdown",
   "metadata": {},
   "source": [
    "---"
   ]
  },
  {
   "cell_type": "markdown",
   "metadata": {},
   "source": [
    "batch norm"
   ]
  },
  {
   "cell_type": "code",
   "execution_count": 7,
   "metadata": {
    "collapsed": true
   },
   "outputs": [],
   "source": [
    "#TODO: BatchNorm"
   ]
  },
  {
   "cell_type": "markdown",
   "metadata": {},
   "source": [
    "---"
   ]
  },
  {
   "cell_type": "markdown",
   "metadata": {},
   "source": [
    "test - regression"
   ]
  },
  {
   "cell_type": "code",
   "execution_count": 8,
   "metadata": {
    "collapsed": true
   },
   "outputs": [],
   "source": [
    "import matplotlib.pyplot as plt\n",
    "import sklearn.datasets\n",
    "from sklearn import metrics"
   ]
  },
  {
   "cell_type": "code",
   "execution_count": 9,
   "metadata": {
    "collapsed": true
   },
   "outputs": [],
   "source": [
    "test_data = sklearn.datasets.load_boston(return_X_y=False)"
   ]
  },
  {
   "cell_type": "code",
   "execution_count": 10,
   "metadata": {
    "collapsed": true
   },
   "outputs": [],
   "source": [
    "test_data_x_org = test_data['data']\n",
    "test_data_y_org = test_data['target']"
   ]
  },
  {
   "cell_type": "code",
   "execution_count": 11,
   "metadata": {
    "collapsed": false
   },
   "outputs": [
    {
     "data": {
      "text/plain": [
       "(506, 13)"
      ]
     },
     "execution_count": 11,
     "metadata": {},
     "output_type": "execute_result"
    }
   ],
   "source": [
    "test_data_x_org.shape"
   ]
  },
  {
   "cell_type": "code",
   "execution_count": 12,
   "metadata": {
    "collapsed": true
   },
   "outputs": [],
   "source": [
    "test_data_std = (test_data_x_org - np.mean(test_data_x_org, axis=0)) / np.std(test_data_x_org, axis=0)"
   ]
  },
  {
   "cell_type": "code",
   "execution_count": 13,
   "metadata": {
    "collapsed": true
   },
   "outputs": [],
   "source": [
    "test_data_x = test_data_std[:450]\n",
    "test_data_y = test_data_y_org[:450, None]"
   ]
  },
  {
   "cell_type": "code",
   "execution_count": 14,
   "metadata": {
    "collapsed": true
   },
   "outputs": [],
   "source": [
    "learning_rate = 0.01"
   ]
  },
  {
   "cell_type": "raw",
   "metadata": {
    "collapsed": true
   },
   "source": [
    "rounds = 2000"
   ]
  },
  {
   "cell_type": "raw",
   "metadata": {
    "collapsed": true
   },
   "source": [
    "batch_size = 50"
   ]
  },
  {
   "cell_type": "code",
   "execution_count": 15,
   "metadata": {
    "collapsed": false,
    "scrolled": true
   },
   "outputs": [],
   "source": [
    "m = NNModel(test_data_x.shape[1],\n",
    "            gd_upd.GDUpdaterAdam(),\n",
    "            cost_function=SquaredLoss())"
   ]
  },
  {
   "cell_type": "code",
   "execution_count": 16,
   "metadata": {
    "collapsed": false,
    "scrolled": true
   },
   "outputs": [],
   "source": [
    "# m.add_layer(FCLayer(20, False, ActivationNone()))\n",
    "m.add_layer(FCLayer(node_count=10, activation=actv.ActivationLeakyRelu()))\n",
    "m.add_layer(FCLayer(node_count=1, activation=actv.ActivationLeakyRelu()))"
   ]
  },
  {
   "cell_type": "raw",
   "metadata": {
    "collapsed": false,
    "scrolled": true
   },
   "source": [
    "%%time\n",
    "all_cost = []\n",
    "for _ in range(rounds):\n",
    "    cost = 0\n",
    "    cost_ce = 0\n",
    "    learning_idx = np.arange(len(test_data_x))\n",
    "    np.random.shuffle(learning_idx)\n",
    "    \n",
    "    for start_idx in range(0, len(test_data_x), batch_size):\n",
    "        data_idx = learning_idx[start_idx : min(start_idx+batch_size,len(test_data_x))]\n",
    "#         data_idx = learning_idx[start_idx]\n",
    "        sample, target = test_data_x[data_idx], test_data_y[data_idx,None]\n",
    "        predict = m.model_forward(sample)\n",
    "        m.update_model(predict, target)\n",
    "        cost += (m.cost_function.loss(predict, target)).sum()\n",
    "    all_cost.append(cost)"
   ]
  },
  {
   "cell_type": "code",
   "execution_count": 17,
   "metadata": {
    "collapsed": false,
    "scrolled": true
   },
   "outputs": [
    {
     "name": "stdout",
     "output_type": "stream",
     "text": [
      "Wall time: 4.96 s\n"
     ]
    }
   ],
   "source": [
    "%%time\n",
    "all_cost = m.fit(test_data_x, test_data_y, epoch=2000, batch_size=50, random_shuffle=True)"
   ]
  },
  {
   "cell_type": "code",
   "execution_count": 18,
   "metadata": {
    "collapsed": false
   },
   "outputs": [
    {
     "data": {
      "text/plain": [
       "3.3983670560497652"
      ]
     },
     "execution_count": 18,
     "metadata": {},
     "output_type": "execute_result"
    }
   ],
   "source": [
    "all_cost[-1]"
   ]
  },
  {
   "cell_type": "code",
   "execution_count": 19,
   "metadata": {
    "collapsed": false,
    "scrolled": false
   },
   "outputs": [
    {
     "data": {
      "text/plain": [
       "[<matplotlib.lines.Line2D at 0x316b0b0>]"
      ]
     },
     "execution_count": 19,
     "metadata": {},
     "output_type": "execute_result"
    }
   ],
   "source": [
    "plt.figure(figsize=(15,6))\n",
    "plt.plot(all_cost)"
   ]
  },
  {
   "cell_type": "code",
   "execution_count": 20,
   "metadata": {
    "collapsed": false
   },
   "outputs": [
    {
     "data": {
      "image/png": "[encoded data removed]",
      "text/plain": [
       "<matplotlib.figure.Figure at 0x63efdd0>"
      ]
     },
     "metadata": {},
     "output_type": "display_data"
    }
   ],
   "source": [
    "plt.show()"
   ]
  },
  {
   "cell_type": "code",
   "execution_count": 21,
   "metadata": {
    "collapsed": true
   },
   "outputs": [],
   "source": [
    "predict_data_x = test_data_std[450:]\n",
    "predict_data_y = test_data_y_org[450:]"
   ]
  },
  {
   "cell_type": "code",
   "execution_count": 22,
   "metadata": {
    "collapsed": false
   },
   "outputs": [],
   "source": [
    "predict_y = []\n",
    "for sample, tgt in zip(predict_data_x, predict_data_y):\n",
    "    pct = m.transform(sample)\n",
    "    predict_y.append(pct)"
   ]
  },
  {
   "cell_type": "raw",
   "metadata": {},
   "source": [
    "metrics.accuracy_score(predict_data_y, [1 if pct > 0.5 else 0 for pct in predict_y])"
   ]
  },
  {
   "cell_type": "raw",
   "metadata": {},
   "source": [
    "metrics.confusion_matrix(predict_data_y, [1 if pct > 0.5 else 0 for pct in predict_y])"
   ]
  },
  {
   "cell_type": "code",
   "execution_count": 23,
   "metadata": {
    "collapsed": false,
    "scrolled": true
   },
   "outputs": [
    {
     "data": {
      "text/plain": [
       "13.885950563631981"
      ]
     },
     "execution_count": 23,
     "metadata": {},
     "output_type": "execute_result"
    }
   ],
   "source": [
    "metrics.mean_squared_error(predict_data_y, predict_y)"
   ]
  },
  {
   "cell_type": "markdown",
   "metadata": {},
   "source": [
    "test - logistic"
   ]
  },
  {
   "cell_type": "code",
   "execution_count": 24,
   "metadata": {
    "collapsed": false
   },
   "outputs": [],
   "source": [
    "test_iris = sklearn.datasets.load_iris(return_X_y=False)"
   ]
  },
  {
   "cell_type": "code",
   "execution_count": 25,
   "metadata": {
    "collapsed": false
   },
   "outputs": [],
   "source": [
    "test_data_x_org = test_iris['data']\n",
    "test_data_y_org = test_iris['target']"
   ]
  },
  {
   "cell_type": "code",
   "execution_count": 26,
   "metadata": {
    "collapsed": false
   },
   "outputs": [
    {
     "data": {
      "text/plain": [
       "(150, 4)"
      ]
     },
     "execution_count": 26,
     "metadata": {},
     "output_type": "execute_result"
    }
   ],
   "source": [
    "test_data_x_org.shape"
   ]
  },
  {
   "cell_type": "code",
   "execution_count": 27,
   "metadata": {
    "collapsed": true
   },
   "outputs": [],
   "source": [
    "test_data_std = (test_data_x_org - np.mean(test_data_x_org, axis=0)) / np.std(test_data_x_org, axis=0)"
   ]
  },
  {
   "cell_type": "code",
   "execution_count": 28,
   "metadata": {
    "collapsed": false
   },
   "outputs": [],
   "source": [
    "test_data_y_encoded = np.zeros((150,3))\n",
    "test_data_y_encoded[np.arange(150),test_data_y_org] = 1"
   ]
  },
  {
   "cell_type": "code",
   "execution_count": 29,
   "metadata": {
    "collapsed": true
   },
   "outputs": [],
   "source": [
    "test_data_x = test_data_std\n",
    "test_data_y = test_data_y_encoded"
   ]
  },
  {
   "cell_type": "code",
   "execution_count": 30,
   "metadata": {
    "collapsed": true
   },
   "outputs": [],
   "source": [
    "learning_rate = 0.001"
   ]
  },
  {
   "cell_type": "raw",
   "metadata": {
    "collapsed": true
   },
   "source": [
    "rounds = 10000"
   ]
  },
  {
   "cell_type": "raw",
   "metadata": {
    "collapsed": true
   },
   "source": [
    "batch_size = 15"
   ]
  },
  {
   "cell_type": "code",
   "execution_count": 31,
   "metadata": {
    "collapsed": false
   },
   "outputs": [],
   "source": [
    "m = NNModel(test_data_x.shape[1],\n",
    "            gd_upd.GDUpdaterRMSprop(learning_rate=learning_rate),\n",
    "            cost_function=CrossEntropy())"
   ]
  },
  {
   "cell_type": "code",
   "execution_count": 32,
   "metadata": {
    "collapsed": false
   },
   "outputs": [],
   "source": [
    "# m.add_layer(FCLayer(20, False, ActivationNone()))\n",
    "m.add_layer(FCLayer(node_count=6, activation=actv.ActivationLeakyRelu()))\n",
    "m.add_layer(FCLayer(node_count=3, activation=actv.ActivationSoftmax()))"
   ]
  },
  {
   "cell_type": "code",
   "execution_count": 33,
   "metadata": {
    "collapsed": false
   },
   "outputs": [
    {
     "name": "stdout",
     "output_type": "stream",
     "text": [
      "Wall time: 33.6 s\n"
     ]
    }
   ],
   "source": [
    "%%time\n",
    "all_cost = m.fit(test_data_x, test_data_y, epoch=10000, batch_size=15, random_shuffle=True)"
   ]
  },
  {
   "cell_type": "code",
   "execution_count": 34,
   "metadata": {
    "collapsed": false
   },
   "outputs": [
    {
     "data": {
      "text/plain": [
       "0.040848559087647944"
      ]
     },
     "execution_count": 34,
     "metadata": {},
     "output_type": "execute_result"
    }
   ],
   "source": [
    "all_cost[-1]"
   ]
  },
  {
   "cell_type": "code",
   "execution_count": 35,
   "metadata": {
    "collapsed": false
   },
   "outputs": [
    {
     "data": {
      "text/plain": [
       "[<matplotlib.lines.Line2D at 0xa444990>]"
      ]
     },
     "execution_count": 35,
     "metadata": {},
     "output_type": "execute_result"
    }
   ],
   "source": [
    "plt.figure(figsize=(15,6))\n",
    "plt.plot(all_cost)"
   ]
  },
  {
   "cell_type": "code",
   "execution_count": 36,
   "metadata": {
    "collapsed": false
   },
   "outputs": [
    {
     "data": {
      "image/png": "[encoded data removed]",
      "text/plain": [
       "<matplotlib.figure.Figure at 0x8d94bd0>"
      ]
     },
     "metadata": {},
     "output_type": "display_data"
    }
   ],
   "source": [
    "plt.show()"
   ]
  },
  {
   "cell_type": "code",
   "execution_count": 37,
   "metadata": {
    "collapsed": true
   },
   "outputs": [],
   "source": [
    "predict_data_x = test_data_std\n",
    "predict_data_y = test_data_y_encoded"
   ]
  },
  {
   "cell_type": "code",
   "execution_count": 38,
   "metadata": {
    "collapsed": false,
    "scrolled": true
   },
   "outputs": [],
   "source": [
    "predict_y = []\n",
    "predict_result = []\n",
    "for sample, tgt in zip(predict_data_x, predict_data_y):\n",
    "    pct = m.transform(sample)\n",
    "    predict_result.append(pct)\n",
    "    res = np.argmax(pct)\n",
    "    predict_y.append(res)"
   ]
  },
  {
   "cell_type": "code",
   "execution_count": 39,
   "metadata": {
    "collapsed": false
   },
   "outputs": [
    {
     "data": {
      "text/plain": [
       "[array([  9.99999999352574109324e-01,   6.47425985449092183612e-10,\n",
       "          3.15678411361658692570e-28]),\n",
       " array([  9.99999887523642216891e-01,   1.12476357879948573571e-07,\n",
       "          2.36805992776489214617e-25]),\n",
       " array([  9.99999999892560831327e-01,   1.07439201520998833397e-10,\n",
       "          2.88121337831043638230e-28]),\n",
       " array([  9.99999999629536118206e-01,   3.70463820414258087576e-10,\n",
       "          4.36819513203918355339e-27]),\n",
       " array([  9.99999999973438802314e-01,   2.65611507659730969351e-11,\n",
       "          1.83653009023082129177e-29]),\n",
       " array([  9.99999997270342388944e-01,   2.72965754232528252218e-09,\n",
       "          1.87028303043079655489e-26]),\n",
       " array([  9.99999999996501465205e-01,   3.49852838612713091787e-12,\n",
       "          8.80613678050260103406e-29]),\n",
       " array([  9.99999998733045236676e-01,   1.26695477682896222529e-09,\n",
       "          1.72047292968305575315e-27]),\n",
       " array([  9.99999999740670553194e-01,   2.59329336509876871878e-10,\n",
       "          6.02749716597217391866e-27]),\n",
       " array([  9.99999983747607013029e-01,   1.62523930371985421883e-08,\n",
       "          1.03575499232898419990e-26]),\n",
       " array([  9.99999995667122387744e-01,   4.33287763769340093269e-09,\n",
       "          6.77631608908639618226e-28]),\n",
       " array([  9.99999999898284031019e-01,   1.01715903487739957897e-10,\n",
       "          5.45511576824881891705e-28]),\n",
       " array([  9.99999989756126139717e-01,   1.02438738567005658977e-08,\n",
       "          7.29478853460806544977e-27]),\n",
       " array([  9.99999999999170219311e-01,   8.29788406852768219046e-13,\n",
       "          1.48635645947195651213e-30]),\n",
       " array([  9.99999997291332931582e-01,   2.70866696755839140298e-09,\n",
       "          1.23984824384321112025e-29]),\n",
       " array([  9.99999999976291409354e-01,   2.37085537377893004855e-11,\n",
       "          9.54324220869769244331e-30]),\n",
       " array([  9.99999999716821630358e-01,   2.83178317657959546667e-10,\n",
       "          3.12329315287878338169e-28]),\n",
       " array([  9.99999998482617558082e-01,   1.51738241291527809601e-09,\n",
       "          3.45972156645634258027e-27]),\n",
       " array([  9.99999376939083028937e-01,   6.23060917005433941178e-07,\n",
       "          2.57350579436175146019e-25]),\n",
       " array([  9.99999999981017406725e-01,   1.89825176240255073470e-11,\n",
       "          4.92465228205205761910e-29]),\n",
       " array([  9.99998105245422874710e-01,   1.89475457717953300322e-06,\n",
       "          1.02477695853320491317e-24]),\n",
       " array([  9.99999999768522052079e-01,   2.31478054725688639843e-10,\n",
       "          3.13209490410898608763e-27]),\n",
       " array([  9.99999999999994226840e-01,   5.72044914228155638152e-15,\n",
       "          3.98445040115840440541e-33]),\n",
       " array([  9.99998765637663877826e-01,   1.23436233615544383376e-06,\n",
       "          3.01252205846732476383e-22]),\n",
       " array([  9.99999999443551557121e-01,   5.56448514286770732702e-10,\n",
       "          1.17428877754303367203e-26]),\n",
       " array([  9.99998364024426877883e-01,   1.63597557320300848964e-06,\n",
       "          5.42779053380827461331e-24]),\n",
       " array([  9.99999987737387852071e-01,   1.22626121008429970877e-08,\n",
       "          5.74862552532849095441e-25]),\n",
       " array([  9.99999994655657031828e-01,   5.34434288442189681086e-09,\n",
       "          2.60107147360116711394e-27]),\n",
       " array([  9.99999984219042126199e-01,   1.57809578449657074482e-08,\n",
       "          5.42614893617498744739e-27]),\n",
       " array([  9.99999999412241491470e-01,   5.87758472481082704159e-10,\n",
       "          6.20220849475458594243e-27]),\n",
       " array([  9.99999985673433178235e-01,   1.43265668951299500808e-08,\n",
       "          1.06608833108101749007e-25]),\n",
       " array([  9.99996647736969279663e-01,   3.35226303078979258692e-06,\n",
       "          1.59064754666255609750e-23]),\n",
       " array([  9.99999999999884980895e-01,   1.14943083142947598438e-13,\n",
       "          6.21409048595895573685e-33]),\n",
       " array([  9.99999999996978639061e-01,   3.02135022305971011798e-12,\n",
       "          1.09632267608640700222e-31]),\n",
       " array([  9.99999983747607013029e-01,   1.62523930371985421883e-08,\n",
       "          1.03575499232898419990e-26]),\n",
       " array([  9.99999993730582792395e-01,   6.26941717803110655045e-09,\n",
       "          2.69155371932975453881e-27]),\n",
       " array([  9.99999823010868649220e-01,   1.76989131238154797267e-07,\n",
       "          8.73486500272822347196e-27]),\n",
       " array([  9.99999983747607013029e-01,   1.62523930371985421883e-08,\n",
       "          1.03575499232898419990e-26]),\n",
       " array([  9.99999999971712849600e-01,   2.82871057813941390549e-11,\n",
       "          3.73379348709138471948e-28]),\n",
       " array([  9.99999994064555419726e-01,   5.93544464019188886170e-09,\n",
       "          5.09602560183656132215e-27]),\n",
       " array([  9.99999999816180817902e-01,   1.83819193851545796821e-10,\n",
       "          4.19888271146668771802e-28]),\n",
       " array([  9.99967942525467945458e-01,   3.20574745320198337606e-05,\n",
       "          2.68632108598497050154e-21]),\n",
       " array([  9.99999999998955058089e-01,   1.04492791115408008503e-12,\n",
       "          1.10872577600443867668e-29]),\n",
       " array([  9.99999987053817207538e-01,   1.29461828872654776979e-08,\n",
       "          1.18985345904314531445e-23]),\n",
       " array([  9.99999999571148601163e-01,   4.28851466974163606048e-10,\n",
       "          3.23196332124497547784e-26]),\n",
       " array([  9.99999943730372264916e-01,   5.62696277230807568281e-08,\n",
       "          8.76203977866784661544e-25]),\n",
       " array([  9.99999999985728749152e-01,   1.42712145048589666639e-11,\n",
       "          1.24997967390597587884e-29]),\n",
       " array([  9.99999999959590546439e-01,   4.04094246270360525042e-11,\n",
       "          2.70592222391139823868e-28]),\n",
       " array([  9.99999999075122270042e-01,   9.24877637034774481266e-10,\n",
       "          2.28775702683904559535e-28]),\n",
       " array([  9.99999996258892798195e-01,   3.74110728226193200248e-09,\n",
       "          3.58911415014929067369e-27]),\n",
       " array([  1.92424302748293206780e-11,   9.99997722644434205996e-01,\n",
       "          2.27733632348245931124e-06]),\n",
       " array([  6.01827291531199805147e-09,   9.99984953506696805370e-01,\n",
       "          1.50404750303024268497e-05]),\n",
       " array([  2.36355261755065117840e-12,   9.99560241348273037509e-01,\n",
       "          4.39758649363505892214e-04]),\n",
       " array([  1.33368507926246723930e-11,   9.99964195993952031927e-01,\n",
       "          3.58039927111001405561e-05]),\n",
       " array([  8.68834358709330579193e-13,   9.99400864572528524477e-01,\n",
       "          5.99135426602707466849e-04]),\n",
       " array([  4.04513327043696473192e-09,   9.99969279381721976030e-01,\n",
       "          3.07165731448874685587e-05]),\n",
       " array([  3.05848094100706602857e-08,   9.99537409400184317931e-01,\n",
       "          4.62560015006333459086e-04]),\n",
       " array([  4.17479122825990513418e-05,   9.99958243991342587975e-01,\n",
       "          8.09637467549622241552e-09]),\n",
       " array([  5.36390291779116848711e-12,   9.99996995053736070780e-01,\n",
       "          3.00494090003154302603e-06]),\n",
       " array([  5.09988028230816659478e-07,   9.99957211019424807574e-01,\n",
       "          4.22789925469415248343e-05]),\n",
       " array([  4.06559460779031270448e-10,   9.99999793160785910295e-01,\n",
       "          2.06432654762172523152e-07]),\n",
       " array([  4.38422298050325406092e-08,   9.99965833139651150141e-01,\n",
       "          3.41230181191328878773e-05]),\n",
       " array([  9.03762090195256168426e-14,   9.99999920000882003279e-01,\n",
       "          7.99990277088639196497e-08]),\n",
       " array([  2.28061680628068234643e-10,   9.99730620240168676993e-01,\n",
       "          2.69379531769542337593e-04]),\n",
       " array([  4.60323593555122770354e-06,   9.99995215526825909080e-01,\n",
       "          1.81237238474804014166e-07]),\n",
       " array([  1.43030364812454419023e-10,   9.99998990707241852682e-01,\n",
       "          1.00914972766277794563e-06]),\n",
       " array([  1.81408667580657989372e-07,   9.99521285188485819617e-01,\n",
       "          4.78533402846525025929e-04]),\n",
       " array([  1.78425168728774917328e-08,   9.99999963981294426318e-01,\n",
       "          1.81761888986666435138e-08]),\n",
       " array([  2.14075011003300619361e-16,   9.48677235362410109509e-01,\n",
       "          5.13227646375896753850e-02]),\n",
       " array([  1.76470820490351575693e-09,   9.99999815840579064918e-01,\n",
       "          1.82394712679033650679e-07]),\n",
       " array([  3.32444861450315347406e-08,   6.31540128355409180472e-01,\n",
       "          3.68459838400104655598e-01]),\n",
       " array([  9.51705757878524245061e-10,   9.99999460996905953358e-01,\n",
       "          5.38051388266257219609e-07]),\n",
       " array([  5.20815870361421440275e-15,   7.99430627599592047439e-01,\n",
       "          2.00569372400402817780e-01]),\n",
       " array([  7.99577285210887806613e-11,   9.99991421902396093735e-01,\n",
       "          8.57801764604058360143e-06]),\n",
       " array([  1.15431869517025721910e-10,   9.99999294328941412680e-01,\n",
       "          7.05555626838807875082e-07]),\n",
       " array([  5.07581947944909570989e-11,   9.99997805323815658340e-01,\n",
       "          2.19462542616553377915e-06]),\n",
       " array([  4.38477112714803267553e-14,   9.99739268123235325092e-01,\n",
       "          2.60731876720792258781e-04]),\n",
       " array([  5.03993833858285503072e-13,   7.54516238681876116878e-01,\n",
       "          2.45483761317620036158e-01]),\n",
       " array([  7.42227493235248769543e-10,   9.99636812228388405011e-01,\n",
       "          3.63187029384032212479e-04]),\n",
       " array([  1.90647616692977252637e-07,   9.99999808242069687658e-01,\n",
       "          1.11031370968188913414e-09]),\n",
       " array([  9.66823269282351402832e-10,   9.99999771601850939717e-01,\n",
       "          2.27431325695722483354e-07]),\n",
       " array([  5.62792636333533899320e-09,   9.99999975551908115712e-01,\n",
       "          1.88201653875498090260e-08]),\n",
       " array([  7.12741792869598726032e-09,   9.99999776908095272532e-01,\n",
       "          2.15964486764043283068e-07]),\n",
       " array([  1.60412413747404342188e-13,   1.14916839669749484831e-01,\n",
       "          8.85083160330090157331e-01]),\n",
       " array([  1.11852526412070041828e-06,   9.99126972803579871396e-01,\n",
       "          8.71908671155980090524e-04]),\n",
       " array([  2.86175348601011728469e-06,   9.99837819530128291134e-01,\n",
       "          1.59318716385750344406e-04]),\n",
       " array([  2.88648011203022403587e-11,   9.99906952112924352072e-01,\n",
       "          9.30478582107644629565e-05]),\n",
       " array([  1.97111287221038438265e-15,   9.99904492598976402107e-01,\n",
       "          9.55074010215919158790e-05]),\n",
       " array([  3.00081686486203295399e-06,   9.99995119448757852076e-01,\n",
       "          1.87973437737012338800e-06]),\n",
       " array([  6.56528029906801063041e-10,   9.99985830867835323588e-01,\n",
       "          1.41684756368123377209e-05]),\n",
       " array([  1.31118200640686791016e-09,   9.99984300181601115654e-01,\n",
       "          1.56985072166878479756e-05]),\n",
       " array([  2.12872285182393216006e-09,   9.99956966300902139189e-01,\n",
       "          4.30315703749392910386e-05]),\n",
       " array([  4.94481061297120529434e-10,   9.99999342098270571633e-01,\n",
       "          6.57407248484018321242e-07]),\n",
       " array([  1.64779734084864062640e-06,   9.99998342171692811142e-01,\n",
       "          1.00309662842673173739e-08]),\n",
       " array([  5.37985011299605734122e-09,   9.99987478198327117695e-01,\n",
       "          1.25164218228535075540e-05]),\n",
       " array([  1.34338088218213201473e-06,   9.99998202116879064683e-01,\n",
       "          4.54502238680294265547e-07]),\n",
       " array([  1.06363066831300685468e-07,   9.99996273126256274288e-01,\n",
       "          3.62051067699796583018e-06]),\n",
       " array([  7.15604263371957661190e-10,   9.99998678828524889539e-01,\n",
       "          1.32045587092681445810e-06]),\n",
       " array([  4.33553641606001673018e-05,   9.99956640825347631285e-01,\n",
       "          3.81049164548953575183e-09]),\n",
       " array([  2.35475686061493218396e-08,   9.99996683059024338291e-01,\n",
       "          3.29339340703852136708e-06]),\n",
       " array([  2.35358039680102096661e-22,   6.37858880271571545317e-10,\n",
       "          9.99999999362141123171e-01]),\n",
       " array([  3.19720210205521003010e-16,   1.32059112717083080614e-04,\n",
       "          9.99867940887282591333e-01]),\n",
       " array([  2.29278410934035801694e-23,   1.55346026613503484012e-07,\n",
       "          9.99999844653973402053e-01]),\n",
       " array([  3.37707673805186730655e-17,   1.10015430793764250501e-04,\n",
       "          9.99889984569206080600e-01]),\n",
       " array([  3.46446757528149264867e-22,   1.32494078368376988033e-08,\n",
       "          9.99999986750592206874e-01]),\n",
       " array([  5.60678464669074285510e-29,   3.96573438989892713991e-10,\n",
       "          9.99999999603426559247e-01]),\n",
       " array([  2.88635264800389580731e-10,   8.19832853253363996737e-02,\n",
       "          9.18016714386028276351e-01]),\n",
       " array([  3.42443063332200518528e-24,   1.06586660073568623390e-06,\n",
       "          9.99998934133399353108e-01]),\n",
       " array([  3.66861266898575706853e-24,   1.67675902355271429369e-06,\n",
       "          9.99998323240976372261e-01]),\n",
       " array([  4.09286549610049255053e-22,   4.38590490105123223473e-09,\n",
       "          9.99999995614095027463e-01]),\n",
       " array([  1.89403246853717832287e-13,   5.32853710454594606261e-03,\n",
       "          9.94671462895264646420e-01]),\n",
       " array([  4.34110676622494379019e-19,   8.11847892346473631051e-05,\n",
       "          9.99918815210765421497e-01]),\n",
       " array([  4.04123183023192359891e-20,   4.53368352353128187889e-06,\n",
       "          9.99995466316476400159e-01]),\n",
       " array([  9.08741775783666063862e-19,   7.09299655684342659909e-06,\n",
       "          9.99992907003443121106e-01]),\n",
       " array([  2.31020252904786508452e-20,   8.12989079378441824061e-08,\n",
       "          9.99999918701092171958e-01]),\n",
       " array([  1.36000446628454016573e-17,   2.58150718759652644642e-06,\n",
       "          9.99997418492812428781e-01]),\n",
       " array([  5.51801566644496842190e-16,   1.17310999636903380734e-03,\n",
       "          9.98826890003630341042e-01]),\n",
       " array([  1.16306829925951810144e-21,   1.22681497896932708487e-08,\n",
       "          9.99999987731850281669e-01]),\n",
       " array([  6.39157780312048307361e-38,   1.38044735964114332870e-14,\n",
       "          9.99999999999986233234e-01]),\n",
       " array([  1.34109053969424082705e-17,   5.55266714780323702993e-02,\n",
       "          9.44473328521967636640e-01]),\n",
       " array([  1.78407264786608678090e-21,   5.73121183652971812231e-08,\n",
       "          9.99999942687881615555e-01]),\n",
       " array([  2.12032937674045489772e-14,   1.65433090128154437672e-04,\n",
       "          9.99834566909850619432e-01]),\n",
       " array([  4.41838074865607171163e-31,   3.12085602931205385177e-10,\n",
       "          9.99999999687914309376e-01]),\n",
       " array([  2.62185168622699847958e-15,   3.25291703811672952562e-02,\n",
       "          9.67470829618830130414e-01]),\n",
       " array([  1.45207380918998056412e-17,   4.62186777718501916329e-06,\n",
       "          9.99995378132222834111e-01]),\n",
       " array([  1.29093542292496425465e-18,   2.00358481756184459831e-04,\n",
       "          9.99799641518243853433e-01]),\n",
       " array([  2.57728374857390684198e-13,   1.38852213423887427268e-01,\n",
       "          8.61147786575854889968e-01]),\n",
       " array([  2.45431675600334662855e-11,   1.74638501845078841779e-01,\n",
       "          8.25361498130378068439e-01]),\n",
       " array([  6.07146153551272046377e-22,   1.12959793198499263363e-07,\n",
       "          9.99999887040206814071e-01]),\n",
       " array([  1.54458709174323656297e-17,   2.24868001842777852362e-02,\n",
       "          9.77513199815722155783e-01]),\n",
       " array([  1.59187400586727008324e-25,   6.11022599851570588159e-07,\n",
       "          9.99999388977400260892e-01]),\n",
       " array([  3.38416632368736309078e-18,   3.31537587915763036603e-05,\n",
       "          9.99966846241208462409e-01]),\n",
       " array([  4.79922456558551289359e-23,   1.35713519547836897910e-08,\n",
       "          9.99999986428648179881e-01]),\n",
       " array([  7.82909808975864992192e-13,   8.41405807976968067585e-01,\n",
       "          1.58594192022248808849e-01]),\n",
       " array([  9.77867041139097784877e-16,   2.80633249894694444815e-02,\n",
       "          9.71936675010529604890e-01]),\n",
       " array([  1.94503343865197527676e-28,   1.37842383948187104865e-09,\n",
       "          9.99999998621576180469e-01]),\n",
       " array([  9.36253398675991690590e-18,   2.93778562293792159228e-07,\n",
       "          9.99999706221437745235e-01]),\n",
       " array([  1.51481887942964014987e-14,   1.97998888357915322003e-03,\n",
       "          9.98020011116405703078e-01]),\n",
       " array([  1.54727677346318875227e-10,   3.15101921176726029739e-01,\n",
       "          6.84898078668546239633e-01]),\n",
       " array([  1.24932011775900045893e-18,   3.70636761303378282472e-05,\n",
       "          9.99962936323869677757e-01]),\n",
       " array([  1.68237220886555679760e-22,   1.35099343711914603315e-08,\n",
       "          9.99999986490065717604e-01]),\n",
       " array([  5.06986877940557151861e-19,   1.22420087723759300698e-05,\n",
       "          9.99987757991227521615e-01]),\n",
       " array([  3.19720210205521003010e-16,   1.32059112717083080614e-04,\n",
       "          9.99867940887282591333e-01]),\n",
       " array([  2.30791511074856521981e-22,   9.06224503761019418806e-09,\n",
       "          9.99999990937754934528e-01]),\n",
       " array([  8.95296510154540160903e-22,   9.72321056628125097074e-09,\n",
       "          9.99999990276789429977e-01]),\n",
       " array([  3.09954213906708952237e-20,   1.14685993351080216905e-06,\n",
       "          9.99998853140066423784e-01]),\n",
       " array([  2.52126299926402366519e-19,   2.92429282196403426530e-04,\n",
       "          9.99707570717803695182e-01]),\n",
       " array([  2.24097220474837457572e-16,   3.87769355640798325455e-04,\n",
       "          9.99612230644359001097e-01]),\n",
       " array([  3.17784035663822302246e-15,   7.84047909499487864651e-06,\n",
       "          9.99992159520901924274e-01]),\n",
       " array([  6.47468671767787464270e-12,   1.51655298656878292224e-02,\n",
       "          9.84834470127837535713e-01])]"
      ]
     },
     "execution_count": 39,
     "metadata": {},
     "output_type": "execute_result"
    }
   ],
   "source": [
    "predict_result"
   ]
  },
  {
   "cell_type": "raw",
   "metadata": {
    "collapsed": false
   },
   "source": [
    "metrics.accuracy_score(predict_data_y, [1 if pct > 0.5 else 0 for pct in predict_y])"
   ]
  },
  {
   "cell_type": "code",
   "execution_count": 40,
   "metadata": {
    "collapsed": false,
    "scrolled": false
   },
   "outputs": [
    {
     "data": {
      "text/plain": [
       "array([[50,  0,  0],\n",
       "       [ 0, 49,  1],\n",
       "       [ 0,  1, 49]])"
      ]
     },
     "execution_count": 40,
     "metadata": {},
     "output_type": "execute_result"
    }
   ],
   "source": [
    "metrics.confusion_matrix(predict_data_y.argmax(axis=1), predict_y)"
   ]
  },
  {
   "cell_type": "markdown",
   "metadata": {
    "collapsed": true
   },
   "source": [
    "test - bio-logistic"
   ]
  },
  {
   "cell_type": "code",
   "execution_count": 41,
   "metadata": {
    "collapsed": false
   },
   "outputs": [],
   "source": [
    "test_breast = sklearn.datasets.load_breast_cancer(return_X_y=False)"
   ]
  },
  {
   "cell_type": "code",
   "execution_count": 42,
   "metadata": {
    "collapsed": false
   },
   "outputs": [],
   "source": [
    "test_data_x_org = test_breast['data']\n",
    "test_data_y_org = test_breast['target']"
   ]
  },
  {
   "cell_type": "code",
   "execution_count": 43,
   "metadata": {
    "collapsed": false
   },
   "outputs": [
    {
     "data": {
      "text/plain": [
       "(569, 30)"
      ]
     },
     "execution_count": 43,
     "metadata": {},
     "output_type": "execute_result"
    }
   ],
   "source": [
    "test_data_x_org.shape"
   ]
  },
  {
   "cell_type": "code",
   "execution_count": 44,
   "metadata": {
    "collapsed": true
   },
   "outputs": [],
   "source": [
    "test_data_std = (test_data_x_org - np.mean(test_data_x_org, axis=0)) / np.std(test_data_x_org, axis=0)"
   ]
  },
  {
   "cell_type": "code",
   "execution_count": 45,
   "metadata": {
    "collapsed": true
   },
   "outputs": [],
   "source": [
    "test_data_x = test_data_std[:450]\n",
    "test_data_y = test_data_y_org[:450, None]"
   ]
  },
  {
   "cell_type": "code",
   "execution_count": 46,
   "metadata": {
    "collapsed": true
   },
   "outputs": [],
   "source": [
    "learning_rate = 0.001"
   ]
  },
  {
   "cell_type": "code",
   "execution_count": 47,
   "metadata": {
    "collapsed": false
   },
   "outputs": [],
   "source": [
    "m = NNModel(test_data_x.shape[1],\n",
    "            gd_upd.GDUpdaterRMSprop(learning_rate=learning_rate),\n",
    "            cost_function=SigmoidCrossEntropy())"
   ]
  },
  {
   "cell_type": "code",
   "execution_count": 48,
   "metadata": {
    "collapsed": false
   },
   "outputs": [],
   "source": [
    "m.add_layer(FCLayer(node_count=15, activation=actv.ActivationLeakyRelu()))\n",
    "m.add_layer(FCLayer(node_count=1, activation=actv.ActivationSigmoid()))"
   ]
  },
  {
   "cell_type": "code",
   "execution_count": 49,
   "metadata": {
    "collapsed": false,
    "scrolled": true
   },
   "outputs": [
    {
     "name": "stdout",
     "output_type": "stream",
     "text": [
      "Wall time: 17.7 s\n"
     ]
    }
   ],
   "source": [
    "%%time\n",
    "all_cost = m.fit(test_data_x, test_data_y, epoch=5000, batch_size=50, random_shuffle=True)"
   ]
  },
  {
   "cell_type": "code",
   "execution_count": 50,
   "metadata": {
    "collapsed": false
   },
   "outputs": [
    {
     "data": {
      "text/plain": [
       "1.3347406589335269e-06"
      ]
     },
     "execution_count": 50,
     "metadata": {},
     "output_type": "execute_result"
    }
   ],
   "source": [
    "all_cost[-1]"
   ]
  },
  {
   "cell_type": "code",
   "execution_count": 51,
   "metadata": {
    "collapsed": false
   },
   "outputs": [
    {
     "data": {
      "text/plain": [
       "[<matplotlib.lines.Line2D at 0xa490f70>]"
      ]
     },
     "execution_count": 51,
     "metadata": {},
     "output_type": "execute_result"
    }
   ],
   "source": [
    "plt.figure(figsize=(15,6))\n",
    "plt.plot(all_cost)"
   ]
  },
  {
   "cell_type": "code",
   "execution_count": 52,
   "metadata": {
    "collapsed": false
   },
   "outputs": [
    {
     "data": {
      "image/png": "[encoded data removed]",
      "text/plain": [
       "<matplotlib.figure.Figure at 0x3133bb0>"
      ]
     },
     "metadata": {},
     "output_type": "display_data"
    }
   ],
   "source": [
    "plt.show()"
   ]
  },
  {
   "cell_type": "code",
   "execution_count": 53,
   "metadata": {
    "collapsed": true
   },
   "outputs": [],
   "source": [
    "predict_data_x = test_data_std[450:]\n",
    "predict_data_y = test_data_y_org[450:, None]"
   ]
  },
  {
   "cell_type": "code",
   "execution_count": 54,
   "metadata": {
    "collapsed": false,
    "scrolled": true
   },
   "outputs": [],
   "source": [
    "predict_y = m.transform(predict_data_x)"
   ]
  },
  {
   "cell_type": "code",
   "execution_count": 55,
   "metadata": {
    "collapsed": false
   },
   "outputs": [
    {
     "data": {
      "text/plain": [
       "array([[  1.00000000000000000000e+000],\n",
       "       [  7.39097546161204853127e-047],\n",
       "       [  9.99999999999985789145e-001],\n",
       "       [  1.00000000000000000000e+000],\n",
       "       [  1.00000000000000000000e+000],\n",
       "       [  2.48941489851772388905e-003],\n",
       "       [  9.99891656116070337568e-001],\n",
       "       [  9.81415978627420027003e-001],\n",
       "       [  9.99980114593369329157e-001],\n",
       "       [  1.00000000000000000000e+000],\n",
       "       [  1.09645032167760609398e-084],\n",
       "       [  7.12457640674128451016e-218],\n",
       "       [  9.99999931685144671789e-001],\n",
       "       [  1.00000000000000000000e+000],\n",
       "       [  9.99999999999999555911e-001],\n",
       "       [  9.99999999999999111822e-001],\n",
       "       [  9.99999999961983965235e-001],\n",
       "       [  1.00000000000000000000e+000],\n",
       "       [  1.05359774221665205075e-057],\n",
       "       [  2.89598201268796793389e-003],\n",
       "       [  1.00000000000000000000e+000],\n",
       "       [  9.83101691417770262582e-001],\n",
       "       [  9.99999999994072741316e-001],\n",
       "       [  9.99999999999982902565e-001],\n",
       "       [  1.00000000000000000000e+000],\n",
       "       [  1.00000000000000000000e+000],\n",
       "       [  9.99999984819114118295e-001],\n",
       "       [  1.00000000000000000000e+000],\n",
       "       [  1.00000000000000000000e+000],\n",
       "       [  9.86536337138005655675e-016],\n",
       "       [  1.00000000000000000000e+000],\n",
       "       [  1.04294468781686466841e-001],\n",
       "       [  1.00000000000000000000e+000],\n",
       "       [  9.99999999919151116856e-001],\n",
       "       [  9.99999999999988897770e-001],\n",
       "       [  1.00000000000000000000e+000],\n",
       "       [  9.99999999664328065307e-001],\n",
       "       [  7.18207983096079563107e-073],\n",
       "       [  1.00000000000000000000e+000],\n",
       "       [  7.60324856627757140831e-011],\n",
       "       [  9.99867579943466977532e-001],\n",
       "       [  9.98446810574980858632e-001],\n",
       "       [  2.11975595954480997399e-046],\n",
       "       [  1.00000000000000000000e+000],\n",
       "       [  1.00000000000000000000e+000],\n",
       "       [  9.99999999391274929650e-001],\n",
       "       [  9.99653260610352756288e-001],\n",
       "       [  1.00000000000000000000e+000],\n",
       "       [  2.05456842890985788846e-057],\n",
       "       [  1.00398785676979675128e-070],\n",
       "       [  9.97417060986554915303e-001],\n",
       "       [  8.10085581992951703361e-032],\n",
       "       [  1.00000000000000000000e+000],\n",
       "       [  3.75891158950704156927e-125],\n",
       "       [  1.00000000000000000000e+000],\n",
       "       [  1.00000000000000000000e+000],\n",
       "       [  1.00000000000000000000e+000],\n",
       "       [  1.00000000000000000000e+000],\n",
       "       [  9.99999999995764943250e-001],\n",
       "       [  3.88237619920811062533e-037],\n",
       "       [  1.00000000000000000000e+000],\n",
       "       [  1.00000000000000000000e+000],\n",
       "       [  8.28507001994515094413e-041],\n",
       "       [  9.99999999849842780009e-001],\n",
       "       [  1.28430009734508804555e-008],\n",
       "       [  1.00000000000000000000e+000],\n",
       "       [  5.31824969855400901107e-053],\n",
       "       [  4.10973237317132176299e-054],\n",
       "       [  2.34636926717746829851e-001],\n",
       "       [  9.99999999999997557509e-001],\n",
       "       [  1.00000000000000000000e+000],\n",
       "       [  1.56791010909036318212e-117],\n",
       "       [  1.00000000000000000000e+000],\n",
       "       [  9.99998038619539175720e-001],\n",
       "       [  1.00000000000000000000e+000],\n",
       "       [  1.00000000000000000000e+000],\n",
       "       [  7.13154291417337478858e-006],\n",
       "       [  1.00000000000000000000e+000],\n",
       "       [  9.99982463438432112035e-001],\n",
       "       [  1.00000000000000000000e+000],\n",
       "       [  9.23140307086809830395e-001],\n",
       "       [  9.99999999731916444645e-001],\n",
       "       [  9.99999999532965810900e-001],\n",
       "       [  6.12449237439579211339e-048],\n",
       "       [  1.00000000000000000000e+000],\n",
       "       [  3.53369755633200149771e-068],\n",
       "       [  6.77652273734799193150e-001],\n",
       "       [  8.70146223984761491010e-001],\n",
       "       [  1.00000000000000000000e+000],\n",
       "       [  1.00000000000000000000e+000],\n",
       "       [  1.00000000000000000000e+000],\n",
       "       [  9.83075234873190262341e-001],\n",
       "       [  6.48416842118550662555e-001],\n",
       "       [  9.99999961400134362854e-001],\n",
       "       [  1.00000000000000000000e+000],\n",
       "       [  9.99998237010727653029e-001],\n",
       "       [  1.00000000000000000000e+000],\n",
       "       [  1.00000000000000000000e+000],\n",
       "       [  1.00000000000000000000e+000],\n",
       "       [  9.99999999995272004227e-001],\n",
       "       [  1.00000000000000000000e+000],\n",
       "       [  1.00000000000000000000e+000],\n",
       "       [  9.86993220905860169090e-001],\n",
       "       [  1.00000000000000000000e+000],\n",
       "       [  9.99999951368596318169e-001],\n",
       "       [  1.00000000000000000000e+000],\n",
       "       [  1.00000000000000000000e+000],\n",
       "       [  1.00000000000000000000e+000],\n",
       "       [  1.00000000000000000000e+000],\n",
       "       [  9.99999999999997335465e-001],\n",
       "       [  9.99990903653571239218e-001],\n",
       "       [  1.00000000000000000000e+000],\n",
       "       [  9.00213503757722901248e-056],\n",
       "       [  1.22133456104220596687e-106],\n",
       "       [  6.76468122451108409445e-111],\n",
       "       [  1.81625171126359989726e-064],\n",
       "       [  2.43318746118407555047e-016],\n",
       "       [  2.73461845994960870184e-112],\n",
       "       [  1.00000000000000000000e+000]])"
      ]
     },
     "execution_count": 55,
     "metadata": {},
     "output_type": "execute_result"
    }
   ],
   "source": [
    "predict_y"
   ]
  },
  {
   "cell_type": "code",
   "execution_count": 56,
   "metadata": {
    "collapsed": false
   },
   "outputs": [
    {
     "data": {
      "text/plain": [
       "0.94957983193277307"
      ]
     },
     "execution_count": 56,
     "metadata": {},
     "output_type": "execute_result"
    }
   ],
   "source": [
    "metrics.accuracy_score(predict_data_y, [1 if pct > 0.5 else 0 for pct in predict_y])"
   ]
  },
  {
   "cell_type": "code",
   "execution_count": 57,
   "metadata": {
    "collapsed": false,
    "scrolled": true
   },
   "outputs": [
    {
     "data": {
      "text/plain": [
       "array([[26,  1],\n",
       "       [ 5, 87]])"
      ]
     },
     "execution_count": 57,
     "metadata": {},
     "output_type": "execute_result"
    }
   ],
   "source": [
    "metrics.confusion_matrix(predict_data_y, [1 if pct > 0.5 else 0 for pct in predict_y])"
   ]
  },
  {
   "cell_type": "code",
   "execution_count": null,
   "metadata": {
    "collapsed": true
   },
   "outputs": [],
   "source": []
  }
 ],
 "metadata": {
  "kernelspec": {
   "display_name": "Python 3",
   "language": "python",
   "name": "python3"
  },
  "language_info": {
   "codemirror_mode": {
    "name": "ipython",
    "version": 3
   },
   "file_extension": ".py",
   "mimetype": "text/x-python",
   "name": "python",
   "nbconvert_exporter": "python",
   "pygments_lexer": "ipython3",
   "version": "3.6.0"
  }
 },
 "nbformat": 4,
 "nbformat_minor": 2
}
